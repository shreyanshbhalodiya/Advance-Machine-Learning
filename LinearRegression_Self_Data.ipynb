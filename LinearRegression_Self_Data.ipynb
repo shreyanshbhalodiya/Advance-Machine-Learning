{
 "cells": [
  {
   "cell_type": "code",
   "execution_count": 1,
   "metadata": {},
   "outputs": [],
   "source": [
    "import pandas as pd\n",
    "import numpy as np\n",
    "from sklearn import preprocessing\n",
    "import matplotlib.pyplot as plt\n",
    "import statsmodels.api as stm\n",
    "import math"
   ]
  },
  {
   "cell_type": "code",
   "execution_count": 2,
   "metadata": {},
   "outputs": [],
   "source": [
    "df = pd.read_excel(\"D:\\Desktop\\DAILY RECORDS.xlsx\")"
   ]
  },
  {
   "cell_type": "code",
   "execution_count": 3,
   "metadata": {},
   "outputs": [
    {
     "data": {
      "text/plain": [
       "(47, 13)"
      ]
     },
     "execution_count": 3,
     "metadata": {},
     "output_type": "execute_result"
    }
   ],
   "source": [
    "df.shape"
   ]
  },
  {
   "cell_type": "code",
   "execution_count": 4,
   "metadata": {},
   "outputs": [],
   "source": [
    "## Importing Data set "
   ]
  },
  {
   "cell_type": "markdown",
   "metadata": {},
   "source": [
    "## Data Exploration \n",
    "#### This data consist of my real time activity of what i did daily for 47 days all entered entries are in hours and for each row sum of total is 24 \n"
   ]
  },
  {
   "cell_type": "markdown",
   "metadata": {},
   "source": [
    "##### Data does not have any null value as i have recorded daily so data is clean n you can process further"
   ]
  },
  {
   "cell_type": "code",
   "execution_count": null,
   "metadata": {},
   "outputs": [],
   "source": []
  },
  {
   "cell_type": "code",
   "execution_count": 5,
   "metadata": {
    "scrolled": true
   },
   "outputs": [
    {
     "data": {
      "text/html": [
       "<div>\n",
       "<style scoped>\n",
       "    .dataframe tbody tr th:only-of-type {\n",
       "        vertical-align: middle;\n",
       "    }\n",
       "\n",
       "    .dataframe tbody tr th {\n",
       "        vertical-align: top;\n",
       "    }\n",
       "\n",
       "    .dataframe thead th {\n",
       "        text-align: right;\n",
       "    }\n",
       "</style>\n",
       "<table border=\"1\" class=\"dataframe\">\n",
       "  <thead>\n",
       "    <tr style=\"text-align: right;\">\n",
       "      <th></th>\n",
       "      <th>DAY</th>\n",
       "      <th>DATE</th>\n",
       "      <th>CLASSROOM</th>\n",
       "      <th>STUDY/\\nASSIGNMENT\\n</th>\n",
       "      <th>SLEEP \\nACTUAL</th>\n",
       "      <th>SLEEP \\nTHINKING</th>\n",
       "      <th>FITNESS/\\nFOOTBALL</th>\n",
       "      <th>REMAINING\\n TIME</th>\n",
       "      <th>DIGITAL\\n INTERACTION</th>\n",
       "      <th>SOCIAL\\nINTERACTION</th>\n",
       "      <th>MOVIES/TV</th>\n",
       "      <th>TRAVEL\\nOUTGOING</th>\n",
       "      <th>productive\\n Day out \\nof of 10</th>\n",
       "    </tr>\n",
       "  </thead>\n",
       "  <tbody>\n",
       "    <tr>\n",
       "      <th>0</th>\n",
       "      <td>Monday</td>\n",
       "      <td>2020-09-07</td>\n",
       "      <td>4.0</td>\n",
       "      <td>6.0</td>\n",
       "      <td>8.5</td>\n",
       "      <td>2.0</td>\n",
       "      <td>0.0</td>\n",
       "      <td>3.00</td>\n",
       "      <td>0.50</td>\n",
       "      <td>0.0</td>\n",
       "      <td>0.0</td>\n",
       "      <td>0.0</td>\n",
       "      <td>8.5</td>\n",
       "    </tr>\n",
       "    <tr>\n",
       "      <th>1</th>\n",
       "      <td>Tuesday</td>\n",
       "      <td>2020-09-08</td>\n",
       "      <td>6.5</td>\n",
       "      <td>4.5</td>\n",
       "      <td>6.0</td>\n",
       "      <td>2.0</td>\n",
       "      <td>1.5</td>\n",
       "      <td>3.00</td>\n",
       "      <td>0.50</td>\n",
       "      <td>0.0</td>\n",
       "      <td>0.0</td>\n",
       "      <td>0.0</td>\n",
       "      <td>8.0</td>\n",
       "    </tr>\n",
       "    <tr>\n",
       "      <th>2</th>\n",
       "      <td>Wednesday</td>\n",
       "      <td>2020-09-09</td>\n",
       "      <td>4.0</td>\n",
       "      <td>4.5</td>\n",
       "      <td>9.0</td>\n",
       "      <td>0.5</td>\n",
       "      <td>0.0</td>\n",
       "      <td>4.50</td>\n",
       "      <td>1.50</td>\n",
       "      <td>0.0</td>\n",
       "      <td>0.0</td>\n",
       "      <td>0.0</td>\n",
       "      <td>8.0</td>\n",
       "    </tr>\n",
       "    <tr>\n",
       "      <th>3</th>\n",
       "      <td>Thursday</td>\n",
       "      <td>2020-09-10</td>\n",
       "      <td>6.5</td>\n",
       "      <td>5.0</td>\n",
       "      <td>9.0</td>\n",
       "      <td>0.5</td>\n",
       "      <td>0.0</td>\n",
       "      <td>2.25</td>\n",
       "      <td>0.75</td>\n",
       "      <td>0.0</td>\n",
       "      <td>0.0</td>\n",
       "      <td>0.0</td>\n",
       "      <td>8.0</td>\n",
       "    </tr>\n",
       "    <tr>\n",
       "      <th>4</th>\n",
       "      <td>Friday</td>\n",
       "      <td>2020-09-11</td>\n",
       "      <td>4.0</td>\n",
       "      <td>4.5</td>\n",
       "      <td>7.0</td>\n",
       "      <td>1.5</td>\n",
       "      <td>1.0</td>\n",
       "      <td>3.00</td>\n",
       "      <td>1.00</td>\n",
       "      <td>2.0</td>\n",
       "      <td>0.0</td>\n",
       "      <td>0.0</td>\n",
       "      <td>7.5</td>\n",
       "    </tr>\n",
       "  </tbody>\n",
       "</table>\n",
       "</div>"
      ],
      "text/plain": [
       "        DAY        DATE  CLASSROOM   STUDY/\\nASSIGNMENT\\n  SLEEP \\nACTUAL  \\\n",
       "0     Monday 2020-09-07         4.0                   6.0             8.5   \n",
       "1    Tuesday 2020-09-08         6.5                   4.5             6.0   \n",
       "2  Wednesday 2020-09-09         4.0                   4.5             9.0   \n",
       "3   Thursday 2020-09-10         6.5                   5.0             9.0   \n",
       "4     Friday 2020-09-11         4.0                   4.5             7.0   \n",
       "\n",
       "   SLEEP \\nTHINKING  FITNESS/\\nFOOTBALL  REMAINING\\n TIME  \\\n",
       "0               2.0                 0.0              3.00   \n",
       "1               2.0                 1.5              3.00   \n",
       "2               0.5                 0.0              4.50   \n",
       "3               0.5                 0.0              2.25   \n",
       "4               1.5                 1.0              3.00   \n",
       "\n",
       "   DIGITAL\\n INTERACTION  SOCIAL\\nINTERACTION  MOVIES/TV  TRAVEL\\nOUTGOING  \\\n",
       "0                   0.50                  0.0        0.0               0.0   \n",
       "1                   0.50                  0.0        0.0               0.0   \n",
       "2                   1.50                  0.0        0.0               0.0   \n",
       "3                   0.75                  0.0        0.0               0.0   \n",
       "4                   1.00                  2.0        0.0               0.0   \n",
       "\n",
       "   productive\\n Day out \\nof of 10   \n",
       "0                               8.5  \n",
       "1                               8.0  \n",
       "2                               8.0  \n",
       "3                               8.0  \n",
       "4                               7.5  "
      ]
     },
     "execution_count": 5,
     "metadata": {},
     "output_type": "execute_result"
    }
   ],
   "source": [
    "df.head()"
   ]
  },
  {
   "cell_type": "code",
   "execution_count": 7,
   "metadata": {},
   "outputs": [],
   "source": [
    "df = df[['DAY ', 'DATE', 'CLASSROOM ', 'STUDY/\\nASSIGNMENT\\n', 'SLEEP \\nACTUAL',\n",
    "       'SLEEP \\nTHINKING', 'FITNESS/\\nFOOTBALL',\n",
    "       'DIGITAL\\n INTERACTION', 'SOCIAL\\nINTERACTION', 'MOVIES/TV',\n",
    "       'TRAVEL\\nOUTGOING', 'productive\\n Day out \\nof of 10 ']]"
   ]
  },
  {
   "cell_type": "code",
   "execution_count": 8,
   "metadata": {},
   "outputs": [],
   "source": [
    "df2 = df[df.columns[2:]] "
   ]
  },
  {
   "cell_type": "code",
   "execution_count": 10,
   "metadata": {},
   "outputs": [],
   "source": [
    "from scipy.stats import zscore   ## importing library\n",
    "df_std = df2.apply(zscore)  "
   ]
  },
  {
   "cell_type": "markdown",
   "metadata": {},
   "source": [
    "### storing into pd dataframe"
   ]
  },
  {
   "cell_type": "code",
   "execution_count": 11,
   "metadata": {
    "scrolled": true
   },
   "outputs": [
    {
     "data": {
      "text/html": [
       "<div>\n",
       "<style scoped>\n",
       "    .dataframe tbody tr th:only-of-type {\n",
       "        vertical-align: middle;\n",
       "    }\n",
       "\n",
       "    .dataframe tbody tr th {\n",
       "        vertical-align: top;\n",
       "    }\n",
       "\n",
       "    .dataframe thead th {\n",
       "        text-align: right;\n",
       "    }\n",
       "</style>\n",
       "<table border=\"1\" class=\"dataframe\">\n",
       "  <thead>\n",
       "    <tr style=\"text-align: right;\">\n",
       "      <th></th>\n",
       "      <th>CLASSROOM</th>\n",
       "      <th>STUDY/\\nASSIGNMENT\\n</th>\n",
       "      <th>SLEEP \\nACTUAL</th>\n",
       "      <th>SLEEP \\nTHINKING</th>\n",
       "      <th>FITNESS/\\nFOOTBALL</th>\n",
       "      <th>DIGITAL\\n INTERACTION</th>\n",
       "      <th>SOCIAL\\nINTERACTION</th>\n",
       "      <th>MOVIES/TV</th>\n",
       "      <th>TRAVEL\\nOUTGOING</th>\n",
       "      <th>productive\\n Day out \\nof of 10</th>\n",
       "    </tr>\n",
       "  </thead>\n",
       "  <tbody>\n",
       "    <tr>\n",
       "      <th>0</th>\n",
       "      <td>-0.015981</td>\n",
       "      <td>1.257465</td>\n",
       "      <td>0.451206</td>\n",
       "      <td>1.347289</td>\n",
       "      <td>-0.691109</td>\n",
       "      <td>-1.081992</td>\n",
       "      <td>-0.475670</td>\n",
       "      <td>-0.418471</td>\n",
       "      <td>-0.182361</td>\n",
       "      <td>1.273061</td>\n",
       "    </tr>\n",
       "    <tr>\n",
       "      <th>1</th>\n",
       "      <td>1.057056</td>\n",
       "      <td>0.321831</td>\n",
       "      <td>-1.476675</td>\n",
       "      <td>1.347289</td>\n",
       "      <td>1.064682</td>\n",
       "      <td>-1.081992</td>\n",
       "      <td>-0.475670</td>\n",
       "      <td>-0.418471</td>\n",
       "      <td>-0.182361</td>\n",
       "      <td>0.692150</td>\n",
       "    </tr>\n",
       "    <tr>\n",
       "      <th>2</th>\n",
       "      <td>-0.015981</td>\n",
       "      <td>0.321831</td>\n",
       "      <td>0.836783</td>\n",
       "      <td>-0.997992</td>\n",
       "      <td>-0.691109</td>\n",
       "      <td>0.034443</td>\n",
       "      <td>-0.475670</td>\n",
       "      <td>-0.418471</td>\n",
       "      <td>-0.182361</td>\n",
       "      <td>0.692150</td>\n",
       "    </tr>\n",
       "    <tr>\n",
       "      <th>3</th>\n",
       "      <td>1.057056</td>\n",
       "      <td>0.633709</td>\n",
       "      <td>0.836783</td>\n",
       "      <td>-0.997992</td>\n",
       "      <td>-0.691109</td>\n",
       "      <td>-0.802883</td>\n",
       "      <td>-0.475670</td>\n",
       "      <td>-0.418471</td>\n",
       "      <td>-0.182361</td>\n",
       "      <td>0.692150</td>\n",
       "    </tr>\n",
       "    <tr>\n",
       "      <th>4</th>\n",
       "      <td>-0.015981</td>\n",
       "      <td>0.321831</td>\n",
       "      <td>-0.705523</td>\n",
       "      <td>0.565529</td>\n",
       "      <td>0.479418</td>\n",
       "      <td>-0.523774</td>\n",
       "      <td>3.412414</td>\n",
       "      <td>-0.418471</td>\n",
       "      <td>-0.182361</td>\n",
       "      <td>0.111238</td>\n",
       "    </tr>\n",
       "  </tbody>\n",
       "</table>\n",
       "</div>"
      ],
      "text/plain": [
       "   CLASSROOM   STUDY/\\nASSIGNMENT\\n  SLEEP \\nACTUAL  SLEEP \\nTHINKING  \\\n",
       "0   -0.015981              1.257465        0.451206          1.347289   \n",
       "1    1.057056              0.321831       -1.476675          1.347289   \n",
       "2   -0.015981              0.321831        0.836783         -0.997992   \n",
       "3    1.057056              0.633709        0.836783         -0.997992   \n",
       "4   -0.015981              0.321831       -0.705523          0.565529   \n",
       "\n",
       "   FITNESS/\\nFOOTBALL  DIGITAL\\n INTERACTION  SOCIAL\\nINTERACTION  MOVIES/TV  \\\n",
       "0           -0.691109              -1.081992            -0.475670  -0.418471   \n",
       "1            1.064682              -1.081992            -0.475670  -0.418471   \n",
       "2           -0.691109               0.034443            -0.475670  -0.418471   \n",
       "3           -0.691109              -0.802883            -0.475670  -0.418471   \n",
       "4            0.479418              -0.523774             3.412414  -0.418471   \n",
       "\n",
       "   TRAVEL\\nOUTGOING  productive\\n Day out \\nof of 10   \n",
       "0         -0.182361                          1.273061  \n",
       "1         -0.182361                          0.692150  \n",
       "2         -0.182361                          0.692150  \n",
       "3         -0.182361                          0.692150  \n",
       "4         -0.182361                          0.111238  "
      ]
     },
     "execution_count": 11,
     "metadata": {},
     "output_type": "execute_result"
    }
   ],
   "source": [
    "df_std.head()"
   ]
  },
  {
   "cell_type": "code",
   "execution_count": 12,
   "metadata": {},
   "outputs": [
    {
     "data": {
      "text/plain": [
       "Index(['CLASSROOM ', 'STUDY/\\nASSIGNMENT\\n', 'SLEEP \\nACTUAL',\n",
       "       'SLEEP \\nTHINKING', 'FITNESS/\\nFOOTBALL', 'DIGITAL\\n INTERACTION',\n",
       "       'SOCIAL\\nINTERACTION', 'MOVIES/TV', 'TRAVEL\\nOUTGOING',\n",
       "       'productive\\n Day out \\nof of 10 '],\n",
       "      dtype='object')"
      ]
     },
     "execution_count": 12,
     "metadata": {},
     "output_type": "execute_result"
    }
   ],
   "source": [
    "df_std.columns"
   ]
  },
  {
   "cell_type": "code",
   "execution_count": null,
   "metadata": {},
   "outputs": [],
   "source": []
  },
  {
   "cell_type": "code",
   "execution_count": 13,
   "metadata": {},
   "outputs": [],
   "source": [
    "scaler = preprocessing.StandardScaler()\n",
    "\n",
    "# Fit your data on the scaler object\n",
    "scaled_df = scaler.fit_transform(df2)"
   ]
  },
  {
   "cell_type": "markdown",
   "metadata": {},
   "source": [
    "### standardizing and storing into array "
   ]
  },
  {
   "cell_type": "code",
   "execution_count": 14,
   "metadata": {},
   "outputs": [
    {
     "data": {
      "text/plain": [
       "array([[-0.0159814 ,  1.25746489,  0.45120635,  1.34728944, -0.69110939,\n",
       "        -1.081992  , -0.4756698 , -0.41847129, -0.18236118,  1.27306103],\n",
       "       [ 1.05705559,  0.32183138, -1.47667533,  1.34728944,  1.06468204,\n",
       "        -1.081992  , -0.4756698 , -0.41847129, -0.18236118,  0.69214969],\n",
       "       [-0.0159814 ,  0.32183138,  0.83678269, -0.99799217, -0.69110939,\n",
       "         0.03444321, -0.4756698 , -0.41847129, -0.18236118,  0.69214969],\n",
       "       [ 1.05705559,  0.63370922,  0.83678269, -0.99799217, -0.69110939,\n",
       "        -0.8028832 , -0.4756698 , -0.41847129, -0.18236118,  0.69214969],\n",
       "       [-0.0159814 ,  0.32183138, -0.70552266,  0.5655289 ,  0.47941823,\n",
       "        -0.52377439,  3.41241381, -0.41847129, -0.18236118,  0.11123834],\n",
       "       [-0.0159814 , -0.61380212,  0.83678269, -0.99799217,  1.64994584,\n",
       "         0.59266082,  0.4963511 , -0.41847129, -0.18236118, -0.469673  ],\n",
       "       [-1.73284058, -1.23755779,  0.06563001, -1.38887244,  2.23520965,\n",
       "         1.70909604,  0.4963511 ,  4.24854751, -0.18236118, -1.63149569],\n",
       "       [ 0.52053709,  0.32183138,  0.45120635, -0.60711191, -0.69110939,\n",
       "        -1.081992  , -0.4756698 , -0.41847129, -0.18236118,  0.11123834],\n",
       "       [ 1.27166298,  0.32183138,  0.45120635, -0.60711191, -0.69110939,\n",
       "        -0.8028832 , -0.4756698 , -0.41847129, -0.18236118, -0.469673  ],\n",
       "       [ 1.37896668, -2.17319129,  1.60793536,  0.95640917, -0.69110939,\n",
       "         0.03444321,  3.41241381, -0.41847129, -0.18236118, -0.469673  ],\n",
       "       [ 0.41323339, -0.61380212, -1.47667533,  0.5655289 , -0.69110939,\n",
       "         1.70909604,  0.4963511 , -0.41847129, -0.18236118, -1.63149569],\n",
       "       [ 1.48627038,  0.00995355,  0.06563001, -0.60711191, -0.69110939,\n",
       "         0.03444321, -0.4756698 , -0.41847129, -0.18236118, -0.469673  ],\n",
       "       [-0.65980359, -0.30192429,  0.83678269, -0.99799217, -0.69110939,\n",
       "         0.59266082, -0.4756698 ,  2.2483966 , -0.18236118, -1.05058435],\n",
       "       [-1.73284058, -1.54943562,  0.83678269, -0.99799217,  1.64994584,\n",
       "        -0.52377439,  0.4963511 ,  2.2483966 , -0.18236118, -1.05058435],\n",
       "       [ 0.0913223 ,  0.00995355, -0.89831083, -0.21623164, -0.69110939,\n",
       "         1.70909604, -0.4756698 , -0.41847129, -0.18236118, -1.05058435],\n",
       "       [ 0.84244819,  0.00995355,  0.06563001, -0.60711191, -0.69110939,\n",
       "        -0.24466559, -0.4756698 , -0.41847129, -0.18236118, -0.469673  ],\n",
       "       [-0.2305888 ,  1.10152597, -1.47667533,  0.5655289 ,  1.35731394,\n",
       "         0.03444321, -0.4756698 , -0.41847129, -0.18236118,  1.27306103],\n",
       "       [-0.87441099, -0.61380212,  0.83678269,  0.5655289 , -0.69110939,\n",
       "         2.82553126, -0.4756698 , -0.41847129, -0.18236118, -1.63149569],\n",
       "       [ 0.41323339,  1.56934272,  0.06563001, -0.21623164, -0.69110939,\n",
       "         1.15087843, -0.4756698 , -0.41847129, -0.18236118,  0.69214969],\n",
       "       [-0.4451962 , -0.61380212,  1.9935117 , -0.21623164, -0.69110939,\n",
       "         1.70909604,  2.44039291, -0.41847129, -0.18236118, -0.469673  ],\n",
       "       [-1.73284058, -2.48506913,  0.06563001,  0.5655289 ,  2.82047346,\n",
       "         2.82553126, -0.4756698 ,  2.2483966 , -0.18236118,  0.69214969],\n",
       "       [-0.0159814 , -0.30192429,  0.83678269,  0.5655289 , -0.69110939,\n",
       "        -0.52377439, -0.4756698 , -0.41847129, -0.18236118, -0.469673  ],\n",
       "       [ 1.05705559, -0.30192429, -1.86225167,  2.91081051, -0.69110939,\n",
       "         0.59266082, -0.4756698 , -0.41847129, -0.18236118, -0.469673  ],\n",
       "       [-0.0159814 ,  0.32183138, -1.47667533,  2.91081051,  0.47941823,\n",
       "         0.03444321, -0.4756698 , -0.41847129, -0.18236118, -0.469673  ],\n",
       "       [ 0.84244819,  0.00995355,  0.45120635, -0.99799217, -0.69110939,\n",
       "        -1.081992  , -0.4756698 ,  0.24824568, -0.18236118,  1.27306103],\n",
       "       [-1.73284058,  0.63370922,  1.60793536, -0.60711191, -0.69110939,\n",
       "         0.59266082, -0.4756698 , -0.41847129, -0.18236118, -0.469673  ],\n",
       "       [-0.87441099, -0.92567996,  0.83678269,  0.5655289 ,  1.06468204,\n",
       "         0.59266082, -0.4756698 , -0.41847129, -0.18236118, -0.469673  ],\n",
       "       [-1.73284058, -1.54943562,  0.83678269,  0.5655289 ,  1.94257775,\n",
       "         0.03444321, -0.4756698 ,  2.2483966 , -0.18236118, -0.469673  ],\n",
       "       [ 0.198626  ,  0.32183138,  0.45120635,  1.34728944, -0.69110939,\n",
       "        -0.52377439, -0.4756698 ,  0.58160417, -0.18236118,  0.11123834],\n",
       "       [-0.65980359,  2.50497622, -0.89831083,  0.95640917,  1.35731394,\n",
       "        -0.8028832 , -0.4756698 , -0.41847129, -0.18236118,  1.85397237],\n",
       "       [ 1.27166298,  1.88122055, -0.31994632, -0.99799217, -0.69110939,\n",
       "        -1.081992  , -0.4756698 , -0.41847129, -0.18236118,  2.43488372],\n",
       "       [ 1.27166298,  0.00995355, -0.70552266, -0.60711191, -0.69110939,\n",
       "        -0.8028832 , -0.4756698 , -0.41847129, -0.18236118,  1.27306103],\n",
       "       [-0.0159814 , -0.61380212, -0.70552266,  0.5655289 ,  0.47941823,\n",
       "         0.03444321, -0.4756698 , -0.41847129, -0.18236118,  0.11123834],\n",
       "       [-0.87441099, -0.30192429, -2.24782801, -0.21623164, -0.69110939,\n",
       "        -0.8028832 , -0.4756698 , -0.41847129,  6.53543033, -0.469673  ],\n",
       "       [-1.73284058,  0.94558705,  1.60793536, -0.99799217,  0.47941823,\n",
       "         0.03444321,  1.468372  ,  0.91496265, -0.18236118,  1.85397237],\n",
       "       [ 0.84244819, -0.92567996, -1.091099  , -0.21623164, -0.69110939,\n",
       "        -0.24466559, -0.4756698 , -0.41847129, -0.18236118, -0.469673  ],\n",
       "       [-0.0159814 ,  0.00995355,  0.83678269, -0.21623164,  1.06468204,\n",
       "        -1.30527905, -0.4756698 , -0.41847129, -0.18236118,  0.69214969],\n",
       "       [ 1.27166298, -0.92567996, -0.70552266, -0.21623164, -0.69110939,\n",
       "        -0.8028832 ,  1.468372  , -0.41847129, -0.18236118, -0.469673  ],\n",
       "       [ 0.84244819,  0.00995355, -0.70552266, -1.77975271, -0.69110939,\n",
       "         0.59266082, -0.4756698 , -0.41847129, -0.18236118, -0.469673  ],\n",
       "       [ 0.84244819,  0.00995355,  0.06563001, -0.99799217, -0.69110939,\n",
       "        -0.8028832 , -0.4756698 , -0.41847129, -0.18236118, -1.63149569],\n",
       "       [-0.0159814 , -0.61380212, -0.70552266, -0.21623164,  0.47941823,\n",
       "         0.59266082, -0.4756698 , -0.41847129, -0.18236118, -0.469673  ],\n",
       "       [-1.73284058,  0.00995355,  0.06563001,  1.34728944,  1.06468204,\n",
       "        -0.52377439, -0.4756698 ,  0.91496265,  1.67082269, -1.63149569],\n",
       "       [ 0.84244819,  0.63370922, -0.70552266,  0.5655289 , -0.69110939,\n",
       "         0.03444321,  1.468372  , -0.41847129, -0.18236118,  0.69214969],\n",
       "       [-0.0159814 ,  0.63370922, -0.70552266, -0.21623164, -0.69110939,\n",
       "        -0.52377439, -0.4756698 , -0.41847129, -0.18236118, -0.469673  ],\n",
       "       [-0.0159814 ,  0.00995355,  0.06563001,  0.17464863,  1.06468204,\n",
       "        -1.081992  , -0.4756698 , -0.41847129, -0.18236118,  1.27306103],\n",
       "       [ 0.84244819,  0.00995355, -0.70552266, -0.99799217, -0.69110939,\n",
       "        -0.52377439,  1.468372  , -0.41847129, -0.18236118,  0.69214969],\n",
       "       [-1.73284058,  2.50497622,  1.60793536, -0.21623164, -0.69110939,\n",
       "        -0.52377439, -0.4756698 , -0.41847129, -0.18236118,  1.27306103]])"
      ]
     },
     "execution_count": 14,
     "metadata": {},
     "output_type": "execute_result"
    }
   ],
   "source": [
    "scaled_df"
   ]
  },
  {
   "cell_type": "markdown",
   "metadata": {},
   "source": [
    "## Now solvingLinear regression from Scratch "
   ]
  },
  {
   "cell_type": "code",
   "execution_count": null,
   "metadata": {},
   "outputs": [],
   "source": []
  },
  {
   "cell_type": "markdown",
   "metadata": {},
   "source": [
    "## setting target variable and predictors and also adding constant variable for getting value of bo"
   ]
  },
  {
   "cell_type": "code",
   "execution_count": 16,
   "metadata": {},
   "outputs": [],
   "source": [
    "x_target = df_std[['CLASSROOM ', 'STUDY/\\nASSIGNMENT\\n',\n",
    "       'SLEEP \\nTHINKING', 'FITNESS/\\nFOOTBALL',\n",
    "       'DIGITAL\\n INTERACTION', 'SOCIAL\\nINTERACTION',\n",
    "        ]]\n",
    "x_target = stm.add_constant(x_target)"
   ]
  },
  {
   "cell_type": "code",
   "execution_count": 17,
   "metadata": {},
   "outputs": [
    {
     "data": {
      "text/html": [
       "<div>\n",
       "<style scoped>\n",
       "    .dataframe tbody tr th:only-of-type {\n",
       "        vertical-align: middle;\n",
       "    }\n",
       "\n",
       "    .dataframe tbody tr th {\n",
       "        vertical-align: top;\n",
       "    }\n",
       "\n",
       "    .dataframe thead th {\n",
       "        text-align: right;\n",
       "    }\n",
       "</style>\n",
       "<table border=\"1\" class=\"dataframe\">\n",
       "  <thead>\n",
       "    <tr style=\"text-align: right;\">\n",
       "      <th></th>\n",
       "      <th>const</th>\n",
       "      <th>CLASSROOM</th>\n",
       "      <th>STUDY/\\nASSIGNMENT\\n</th>\n",
       "      <th>SLEEP \\nTHINKING</th>\n",
       "      <th>FITNESS/\\nFOOTBALL</th>\n",
       "      <th>DIGITAL\\n INTERACTION</th>\n",
       "      <th>SOCIAL\\nINTERACTION</th>\n",
       "    </tr>\n",
       "  </thead>\n",
       "  <tbody>\n",
       "    <tr>\n",
       "      <th>0</th>\n",
       "      <td>1.0</td>\n",
       "      <td>-0.015981</td>\n",
       "      <td>1.257465</td>\n",
       "      <td>1.347289</td>\n",
       "      <td>-0.691109</td>\n",
       "      <td>-1.081992</td>\n",
       "      <td>-0.475670</td>\n",
       "    </tr>\n",
       "    <tr>\n",
       "      <th>1</th>\n",
       "      <td>1.0</td>\n",
       "      <td>1.057056</td>\n",
       "      <td>0.321831</td>\n",
       "      <td>1.347289</td>\n",
       "      <td>1.064682</td>\n",
       "      <td>-1.081992</td>\n",
       "      <td>-0.475670</td>\n",
       "    </tr>\n",
       "    <tr>\n",
       "      <th>2</th>\n",
       "      <td>1.0</td>\n",
       "      <td>-0.015981</td>\n",
       "      <td>0.321831</td>\n",
       "      <td>-0.997992</td>\n",
       "      <td>-0.691109</td>\n",
       "      <td>0.034443</td>\n",
       "      <td>-0.475670</td>\n",
       "    </tr>\n",
       "    <tr>\n",
       "      <th>3</th>\n",
       "      <td>1.0</td>\n",
       "      <td>1.057056</td>\n",
       "      <td>0.633709</td>\n",
       "      <td>-0.997992</td>\n",
       "      <td>-0.691109</td>\n",
       "      <td>-0.802883</td>\n",
       "      <td>-0.475670</td>\n",
       "    </tr>\n",
       "    <tr>\n",
       "      <th>4</th>\n",
       "      <td>1.0</td>\n",
       "      <td>-0.015981</td>\n",
       "      <td>0.321831</td>\n",
       "      <td>0.565529</td>\n",
       "      <td>0.479418</td>\n",
       "      <td>-0.523774</td>\n",
       "      <td>3.412414</td>\n",
       "    </tr>\n",
       "  </tbody>\n",
       "</table>\n",
       "</div>"
      ],
      "text/plain": [
       "   const  CLASSROOM   STUDY/\\nASSIGNMENT\\n  SLEEP \\nTHINKING  \\\n",
       "0    1.0   -0.015981              1.257465          1.347289   \n",
       "1    1.0    1.057056              0.321831          1.347289   \n",
       "2    1.0   -0.015981              0.321831         -0.997992   \n",
       "3    1.0    1.057056              0.633709         -0.997992   \n",
       "4    1.0   -0.015981              0.321831          0.565529   \n",
       "\n",
       "   FITNESS/\\nFOOTBALL  DIGITAL\\n INTERACTION  SOCIAL\\nINTERACTION  \n",
       "0           -0.691109              -1.081992            -0.475670  \n",
       "1            1.064682              -1.081992            -0.475670  \n",
       "2           -0.691109               0.034443            -0.475670  \n",
       "3           -0.691109              -0.802883            -0.475670  \n",
       "4            0.479418              -0.523774             3.412414  "
      ]
     },
     "execution_count": 17,
     "metadata": {},
     "output_type": "execute_result"
    }
   ],
   "source": [
    "x_target.head()"
   ]
  },
  {
   "cell_type": "code",
   "execution_count": 18,
   "metadata": {
    "scrolled": true
   },
   "outputs": [
    {
     "data": {
      "text/html": [
       "<div>\n",
       "<style scoped>\n",
       "    .dataframe tbody tr th:only-of-type {\n",
       "        vertical-align: middle;\n",
       "    }\n",
       "\n",
       "    .dataframe tbody tr th {\n",
       "        vertical-align: top;\n",
       "    }\n",
       "\n",
       "    .dataframe thead th {\n",
       "        text-align: right;\n",
       "    }\n",
       "</style>\n",
       "<table border=\"1\" class=\"dataframe\">\n",
       "  <thead>\n",
       "    <tr style=\"text-align: right;\">\n",
       "      <th></th>\n",
       "      <th>SLEEP \\nACTUAL</th>\n",
       "    </tr>\n",
       "  </thead>\n",
       "  <tbody>\n",
       "    <tr>\n",
       "      <th>0</th>\n",
       "      <td>0.451206</td>\n",
       "    </tr>\n",
       "    <tr>\n",
       "      <th>1</th>\n",
       "      <td>-1.476675</td>\n",
       "    </tr>\n",
       "    <tr>\n",
       "      <th>2</th>\n",
       "      <td>0.836783</td>\n",
       "    </tr>\n",
       "    <tr>\n",
       "      <th>3</th>\n",
       "      <td>0.836783</td>\n",
       "    </tr>\n",
       "    <tr>\n",
       "      <th>4</th>\n",
       "      <td>-0.705523</td>\n",
       "    </tr>\n",
       "  </tbody>\n",
       "</table>\n",
       "</div>"
      ],
      "text/plain": [
       "   SLEEP \\nACTUAL\n",
       "0        0.451206\n",
       "1       -1.476675\n",
       "2        0.836783\n",
       "3        0.836783\n",
       "4       -0.705523"
      ]
     },
     "execution_count": 18,
     "metadata": {},
     "output_type": "execute_result"
    }
   ],
   "source": [
    "y = df_std[[\"SLEEP \\nACTUAL\"]]\n",
    "y.head()"
   ]
  },
  {
   "cell_type": "markdown",
   "metadata": {},
   "source": [
    "# b = inv(Htrans.H)* Htans*y"
   ]
  },
  {
   "cell_type": "markdown",
   "metadata": {},
   "source": [
    "# H is predictors \n",
    "# y is target"
   ]
  },
  {
   "cell_type": "code",
   "execution_count": 19,
   "metadata": {},
   "outputs": [],
   "source": [
    "X = np.matrix(x_target)\n",
    "y = np.matrix(y)"
   ]
  },
  {
   "cell_type": "code",
   "execution_count": 20,
   "metadata": {},
   "outputs": [
    {
     "name": "stdout",
     "output_type": "stream",
     "text": [
      "(47, 7)\n",
      "(47, 1)\n"
     ]
    }
   ],
   "source": [
    "print(X.shape)\n",
    "print(y.shape)"
   ]
  },
  {
   "cell_type": "code",
   "execution_count": 21,
   "metadata": {},
   "outputs": [],
   "source": [
    "tx = np.transpose(X)\n"
   ]
  },
  {
   "cell_type": "code",
   "execution_count": 22,
   "metadata": {},
   "outputs": [],
   "source": [
    "# Htrans*H\n",
    "\n",
    "br = np.matmul(tx , X)\n"
   ]
  },
  {
   "cell_type": "code",
   "execution_count": 23,
   "metadata": {},
   "outputs": [
    {
     "data": {
      "text/plain": [
       "matrix([[ 4.70000000e+01, -7.99360578e-15,  3.99680289e-15,\n",
       "         -1.63757896e-15,  6.66133815e-16, -2.88657986e-15,\n",
       "          6.66133815e-16],\n",
       "        [-7.99360578e-15,  4.70000000e+01,  4.65920105e+00,\n",
       "         -1.25293254e+00, -2.65187123e+01, -1.60869098e+01,\n",
       "          3.39756387e+00],\n",
       "        [ 3.99680289e-15,  4.65920105e+00,  4.70000000e+01,\n",
       "         -6.30284567e-01, -1.46898465e+01, -1.91666400e+01,\n",
       "         -1.16003929e+01],\n",
       "        [-1.63757896e-15, -1.25293254e+00, -6.30284567e-01,\n",
       "          4.70000000e+01,  6.81680189e+00,  1.87741623e+00,\n",
       "         -6.54796747e-01],\n",
       "        [ 6.66133815e-16, -2.65187123e+01, -1.46898465e+01,\n",
       "          6.81680189e+00,  4.70000000e+01,  7.83256814e+00,\n",
       "         -1.22855742e+00],\n",
       "        [-2.88657986e-15, -1.60869098e+01, -1.91666400e+01,\n",
       "          1.87741623e+00,  7.83256814e+00,  4.70000000e+01,\n",
       "          4.02562416e+00],\n",
       "        [ 6.66133815e-16,  3.39756387e+00, -1.16003929e+01,\n",
       "         -6.54796747e-01, -1.22855742e+00,  4.02562416e+00,\n",
       "          4.70000000e+01]])"
      ]
     },
     "execution_count": 23,
     "metadata": {},
     "output_type": "execute_result"
    }
   ],
   "source": [
    "br"
   ]
  },
  {
   "cell_type": "code",
   "execution_count": 24,
   "metadata": {},
   "outputs": [],
   "source": [
    "inv_br = (np.linalg.inv(br))"
   ]
  },
  {
   "cell_type": "code",
   "execution_count": 25,
   "metadata": {},
   "outputs": [
    {
     "data": {
      "text/plain": [
       "matrix([[ 2.12765957e-02,  6.00880999e-18, -8.56224018e-19,\n",
       "          4.35925293e-19,  2.27673320e-18,  2.71281708e-18,\n",
       "         -1.11402452e-18],\n",
       "        [ 6.00880999e-18,  3.69439098e-02,  7.79495263e-03,\n",
       "         -2.55026124e-03,  2.15433471e-02,  1.24454845e-02,\n",
       "         -1.28506994e-03],\n",
       "        [-8.56224018e-19,  7.79495263e-03,  3.11484025e-02,\n",
       "         -1.59614669e-03,  1.23928572e-02,  1.28268808e-02,\n",
       "          6.32752853e-03],\n",
       "        [ 4.35925293e-19, -2.55026124e-03, -1.59614669e-03,\n",
       "          2.19564808e-02, -4.85269547e-03, -1.60127874e-03,\n",
       "          1.06598093e-04],\n",
       "        [ 2.27673320e-18,  2.15433471e-02,  1.23928572e-02,\n",
       "         -4.85269547e-03,  3.70088830e-02,  6.29436506e-03,\n",
       "          1.86209309e-03],\n",
       "        [ 2.71281708e-18,  1.24454845e-02,  1.28268808e-02,\n",
       "         -1.60127874e-03,  6.29436506e-03,  2.97944784e-02,\n",
       "         -1.43497164e-04],\n",
       "        [-1.11402452e-18, -1.28506994e-03,  6.32752853e-03,\n",
       "          1.06598093e-04,  1.86209309e-03, -1.43497164e-04,\n",
       "          2.29936825e-02]])"
      ]
     },
     "execution_count": 25,
     "metadata": {},
     "output_type": "execute_result"
    }
   ],
   "source": [
    "inv_br"
   ]
  },
  {
   "cell_type": "code",
   "execution_count": 26,
   "metadata": {},
   "outputs": [],
   "source": [
    "br2 = np.matmul(tx , y)"
   ]
  },
  {
   "cell_type": "markdown",
   "metadata": {},
   "source": [
    "## Final multiplication predicting values of b0 , b1 , b2 , b3.........bn"
   ]
  },
  {
   "cell_type": "code",
   "execution_count": 27,
   "metadata": {},
   "outputs": [],
   "source": [
    "final_matrix = np.matmul(inv_br , br2)"
   ]
  },
  {
   "cell_type": "markdown",
   "metadata": {},
   "source": [
    "### so finally we got 8 values which are b0 , b1 , b2 , b3 ......b7 without using any library "
   ]
  },
  {
   "cell_type": "code",
   "execution_count": 28,
   "metadata": {
    "scrolled": true
   },
   "outputs": [
    {
     "data": {
      "text/plain": [
       "matrix([[-3.45655583e-16],\n",
       "        [-5.45402375e-01],\n",
       "        [-9.97800910e-02],\n",
       "        [-2.99721509e-01],\n",
       "        [-2.74447719e-01],\n",
       "        [-1.04138145e-01],\n",
       "        [ 1.95097316e-01]])"
      ]
     },
     "execution_count": 28,
     "metadata": {},
     "output_type": "execute_result"
    }
   ],
   "source": [
    "final_matrix"
   ]
  },
  {
   "cell_type": "markdown",
   "metadata": {},
   "source": [
    "### Now let's check this with actual output using library "
   ]
  },
  {
   "cell_type": "code",
   "execution_count": 29,
   "metadata": {},
   "outputs": [
    {
     "data": {
      "text/plain": [
       "array([-2.48065457e-16, -5.45402375e-01, -9.97800910e-02, -2.99721509e-01,\n",
       "       -2.74447719e-01, -1.04138145e-01,  1.95097316e-01])"
      ]
     },
     "execution_count": 29,
     "metadata": {},
     "output_type": "execute_result"
    }
   ],
   "source": [
    "model = stm.OLS(y , X).fit()\n",
    "model.params"
   ]
  },
  {
   "cell_type": "code",
   "execution_count": 30,
   "metadata": {},
   "outputs": [
    {
     "name": "stdout",
     "output_type": "stream",
     "text": [
      "[[ 0.         -0.54540238 -0.09978009 -0.29972151 -0.27444772 -0.10413814\n",
      "   0.19509732]]\n",
      "[-3.45480152e-16]\n"
     ]
    }
   ],
   "source": [
    "import numpy as np\n",
    "from sklearn.linear_model import LinearRegression\n",
    "reg = LinearRegression().fit(X, y)\n",
    "reg.score(X, y)\n",
    "\n",
    "print(reg.coef_)\n",
    "\n",
    "print(reg.intercept_)\n",
    "\n"
   ]
  },
  {
   "cell_type": "code",
   "execution_count": null,
   "metadata": {},
   "outputs": [],
   "source": []
  }
 ],
 "metadata": {
  "kernelspec": {
   "display_name": "Python 3",
   "language": "python",
   "name": "python3"
  },
  "language_info": {
   "codemirror_mode": {
    "name": "ipython",
    "version": 3
   },
   "file_extension": ".py",
   "mimetype": "text/x-python",
   "name": "python",
   "nbconvert_exporter": "python",
   "pygments_lexer": "ipython3",
   "version": "3.7.6"
  }
 },
 "nbformat": 4,
 "nbformat_minor": 4
}
