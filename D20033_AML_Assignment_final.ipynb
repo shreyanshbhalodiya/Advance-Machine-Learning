{
 "cells": [
  {
   "cell_type": "markdown",
   "metadata": {},
   "source": [
    "# Shreyansh Bhalodiya(D20033)AML_Assignment Final "
   ]
  },
  {
   "cell_type": "markdown",
   "metadata": {},
   "source": [
    "# Index of File \n",
    "### 1)Hill Ascent/Decent from scratch\n",
    "### 2)Gradient Decent from scratch\n",
    "### 3)calculate euclidean distance in vectorised form\n",
    "### 4)FIND COEFFICENTS OF OLS REGRESSION USING FORMULAS in self created dataset \n",
    "### 5)FIND COEFFICENTS OF OLS REGRESSION USING FORMULAS  in cars dataset\n",
    "### 6)Calculation of R square from scratch in self created and cars dataset \n",
    "### 7)FIND COEFFICENTS OF OLS REGRESSION USING CLOSED FORM SOLUTION in self created dataset \n",
    "### 8)FIND COEFFICENTS OF OLS REGRESSION USING  CLOSED FORM SOLUTION  in cars dataset\n",
    "### 9)Recommendation system"
   ]
  },
  {
   "cell_type": "markdown",
   "metadata": {},
   "source": [
    "## Hill Ascent from scratch "
   ]
  },
  {
   "cell_type": "code",
   "execution_count": 11,
   "metadata": {},
   "outputs": [],
   "source": [
    "import pandas as pd\n",
    "import numpy as np\n",
    "from sklearn import preprocessing\n",
    "import matplotlib.pyplot as plt\n",
    "import statsmodels.api as stm\n",
    "import math"
   ]
  },
  {
   "cell_type": "code",
   "execution_count": 12,
   "metadata": {},
   "outputs": [],
   "source": [
    "import warnings\n",
    "warnings.filterwarnings(\"ignore\")"
   ]
  },
  {
   "cell_type": "code",
   "execution_count": 5,
   "metadata": {},
   "outputs": [
    {
     "data": {
      "image/png": "[encoded data removed]",
      "text/plain": [
       "<Figure size 720x432 with 1 Axes>"
      ]
     },
     "metadata": {
      "needs_background": "light"
     },
     "output_type": "display_data"
    }
   ],
   "source": [
    "# Objective functions\n",
    "def objective(x):\n",
    "    return x[0]**2.0\n",
    "\n",
    "# define range for input\n",
    "r_min, r_max = -8.0, 8.0\n",
    "\n",
    "# sample input range uniformly at 0.1 increments\n",
    "inputs = np.arange(r_min, r_max, 0.1)\n",
    "\n",
    "# compute targets\n",
    "results = [objective([x]) for x in inputs]\n",
    "\n",
    "# create a line plot of input vs result\n",
    "plt.figure(figsize=(10,6))\n",
    "\n",
    "plt.plot(inputs, results)\n",
    "\n",
    "# define optimal input value\n",
    "x_optima = 0.0\n",
    "\n",
    "# draw a vertical line at the optimal input\n",
    "plt.axvline(x=x_optima, ls='--', color='red')\n",
    "\n",
    "\n",
    "# show the plot\n",
    "plt.title(\"Line Plot of Objective Function With Optima Marked with a Dashed Red Line\")\n",
    "plt.show()\n"
   ]
  },
  {
   "cell_type": "code",
   "execution_count": 6,
   "metadata": {},
   "outputs": [],
   "source": [
    "# hill climbing local search algorithm\n",
    "\n",
    "def hillclimbing(objective, bounds, n_iterations, step_size):\n",
    "    # generate an initial point\n",
    "    solution = bounds[:, 0] + np.random.rand(len(bounds)) * (bounds[:, 1] - bounds[:, 0])\n",
    "    # evaluate the initial point\n",
    "    solution_eval = objective(solution)\n",
    "    # run the hill climb\n",
    "    scores = list()\n",
    "    scores.append(solution_eval)\n",
    "    solutions = list()\n",
    "    solutions.append(solution)\n",
    "    for i in range(n_iterations):\n",
    "        # take a step\n",
    "        candidate = solution + np.random.randn(len(bounds)) * step_size\n",
    "        # evaluate candidate point\n",
    "        candidte_eval = objective(candidate)\n",
    "        # check if we should keep the new point\n",
    "        if candidte_eval <= solution_eval:\n",
    "            # store the new point\n",
    "            solution, solution_eval = candidate, candidte_eval\n",
    "            # keep track of scores\n",
    "            scores.append(solution_eval)\n",
    "            # keep track of solutions\n",
    "            solutions.append(solution)\n",
    "            # report progress\n",
    "            print('>%d f(%s) = %.5f' % (i, solution, solution_eval))\n",
    "    return [solution, solution_eval, scores, solutions]\n",
    " "
   ]
  },
  {
   "cell_type": "code",
   "execution_count": 7,
   "metadata": {},
   "outputs": [
    {
     "name": "stdout",
     "output_type": "stream",
     "text": [
      ">1 f([-2.74290923]) = 7.52355\n",
      ">3 f([-2.65873147]) = 7.06885\n",
      ">4 f([-2.52197291]) = 6.36035\n",
      ">5 f([-2.46450214]) = 6.07377\n",
      ">7 f([-2.44740961]) = 5.98981\n",
      ">9 f([-2.28364676]) = 5.21504\n",
      ">12 f([-2.19245939]) = 4.80688\n",
      ">14 f([-2.01001538]) = 4.04016\n",
      ">15 f([-1.86425287]) = 3.47544\n",
      ">22 f([-1.79913002]) = 3.23687\n",
      ">24 f([-1.57525573]) = 2.48143\n",
      ">25 f([-1.55047719]) = 2.40398\n",
      ">26 f([-1.51783757]) = 2.30383\n",
      ">27 f([-1.49118756]) = 2.22364\n",
      ">28 f([-1.45344116]) = 2.11249\n",
      ">30 f([-1.33055275]) = 1.77037\n",
      ">32 f([-1.17805016]) = 1.38780\n",
      ">33 f([-1.15189314]) = 1.32686\n",
      ">36 f([-1.03852644]) = 1.07854\n",
      ">37 f([-0.99135322]) = 0.98278\n",
      ">38 f([-0.79448984]) = 0.63121\n",
      ">39 f([-0.69837955]) = 0.48773\n",
      ">42 f([-0.69317313]) = 0.48049\n",
      ">46 f([-0.61801423]) = 0.38194\n",
      ">48 f([-0.48799625]) = 0.23814\n",
      ">50 f([-0.22149135]) = 0.04906\n",
      ">54 f([-0.20017144]) = 0.04007\n",
      ">57 f([-0.15994446]) = 0.02558\n",
      ">60 f([-0.15492485]) = 0.02400\n",
      ">61 f([-0.03572481]) = 0.00128\n",
      ">64 f([-0.03051261]) = 0.00093\n",
      ">66 f([-0.0074283]) = 0.00006\n",
      ">78 f([-0.00202357]) = 0.00000\n",
      ">119 f([0.00128373]) = 0.00000\n",
      ">120 f([-0.00040911]) = 0.00000\n",
      ">314 f([-0.00017051]) = 0.00000\n",
      "Done!\n",
      "f([-0.00017051]) = 0.000000\n"
     ]
    }
   ],
   "source": [
    "# seed the pseudorandom number generator\n",
    "np.random.seed(5)\n",
    "\n",
    "# define range for input\n",
    "bounds = np.asarray([[-5.0, 5.0]])\n",
    "\n",
    "# define the total iterations\n",
    "n_iterations = 1000\n",
    "\n",
    "# define the maximum step size\n",
    "step_size = 0.1\n",
    "\n",
    "# perform the hill climbing search\n",
    "best, score, scores, solutions = hillclimbing(objective, bounds, n_iterations, step_size)\n",
    "print('Done!')\n",
    "print('f(%s) = %f' % (best, score))"
   ]
  },
  {
   "cell_type": "code",
   "execution_count": 8,
   "metadata": {
    "scrolled": true
   },
   "outputs": [
    {
     "data": {
      "image/png": "[encoded data removed]",
      "text/plain": [
       "<Figure size 720x576 with 1 Axes>"
      ]
     },
     "metadata": {
      "needs_background": "light"
     },
     "output_type": "display_data"
    }
   ],
   "source": [
    "# line plot of best scores\n",
    "\n",
    "plt.figure(figsize=(10,8))\n",
    "plt.plot(scores, '.-')\n",
    "plt.xlabel('Improvement Number')\n",
    "plt.ylabel('Evaluation f(x)')\n",
    "plt.title(\"LIne Plot Of Best Score\")\n",
    "plt.show()"
   ]
  },
  {
   "cell_type": "code",
   "execution_count": null,
   "metadata": {},
   "outputs": [],
   "source": []
  },
  {
   "cell_type": "markdown",
   "metadata": {},
   "source": [
    "# Gradient Decent"
   ]
  },
  {
   "cell_type": "code",
   "execution_count": 68,
   "metadata": {},
   "outputs": [],
   "source": [
    "def gradient_descent(x,y):\n",
    "    m_curr = b_curr = 0\n",
    "    iterations = 1000\n",
    "    n = len(x)\n",
    "    learning_rate = 0.001\n",
    "    \n",
    "    for i in range(iterations):\n",
    "        y_pred = m_curr* x + b_curr\n",
    "        cost = (1/n) * sum([val**2 for val in (y-y_pred)])\n",
    "        md = -(2/n)*sum(x*(y-y_pred))\n",
    "        bd = -(2/n)*sum(y-y_pred)\n",
    "        m_curr = m_curr - learning_rate * md\n",
    "        b_curr = b_curr - learning_rate * bd\n",
    "        print(\"m {}, b {}, cost {}, iterations {}\".format(m_curr,b_curr,cost,i))"
   ]
  },
  {
   "cell_type": "code",
   "execution_count": 69,
   "metadata": {
    "scrolled": true
   },
   "outputs": [],
   "source": [
    "def gradient_descent2(x,y):\n",
    "    m_curr = b_curr = 0\n",
    "    iterations = 30000\n",
    "    n = len(x)\n",
    "    learning_rate = 0.001\n",
    "    \n",
    "    for i in range(iterations):\n",
    "        y_pred = m_curr* x + b_curr\n",
    "        cost = (1/n) * sum([val**2 for val in (y-y_pred)])\n",
    "        md = -(2/n)*sum(x*(y-y_pred))\n",
    "        bd = -(2/n)*sum(y-y_pred)\n",
    "        m_curr = m_curr - learning_rate * md\n",
    "        b_curr = b_curr - learning_rate * bd\n",
    "        print(\"m {}, b {}, cost {}, iterations {}\".format(m_curr,b_curr,cost,i))"
   ]
  },
  {
   "cell_type": "code",
   "execution_count": 70,
   "metadata": {},
   "outputs": [],
   "source": [
    "x = np.array([1,2,3,4,5])\n",
    "y = np.array([5,7,9,11,13])"
   ]
  },
  {
   "cell_type": "markdown",
   "metadata": {},
   "source": [
    "### remove # in the  following code and code  will run 30000 iterations  at end i got this result which i copy pasted in below shell "
   ]
  },
  {
   "cell_type": "code",
   "execution_count": 72,
   "metadata": {
    "scrolled": false
   },
   "outputs": [],
   "source": [
    "# gradient_descent2(x,y)"
   ]
  },
  {
   "cell_type": "markdown",
   "metadata": {},
   "source": [
    "\n",
    "m 2.00002477140939, b 2.9999105673521766, cost 1.4567969677044015e-09, iterations 29993\n",
    "\n",
    "m 2.0000247630342702, b 2.999910597589016, cost 1.455812059117755e-09, iterations 29994\n",
    "\n",
    "m 2.000024754661982, b 2.9999106278156322, cost 1.4548278164681514e-09, iterations 29995\n",
    "\n",
    "m 2.0000247462925245, b 2.999910658032029, cost 1.45384423923554e-09, iterations 29996\n",
    "\n",
    "m 2.0000247379258966, b 2.99991068823821, cost 1.4528613269794818e-09, iterations 29997\n",
    "\n",
    "m 2.0000247295620976, b 2.9999107184341782, cost 1.4518790792055724e-09, iterations 29998\n",
    "\n",
    "m 2.0000247212011266, b 2.9999107486199375, cost 1.4508974955680604e-09, iterations 29999"
   ]
  },
  {
   "cell_type": "markdown",
   "metadata": {},
   "source": [
    "## through gradient decent i got slope 2 and coeffient 2.99999 approx 3 "
   ]
  },
  {
   "cell_type": "markdown",
   "metadata": {},
   "source": [
    "## through excel \n",
    "\n",
    "slope\t2\n",
    "coefficient\t3\n"
   ]
  },
  {
   "cell_type": "code",
   "execution_count": null,
   "metadata": {},
   "outputs": [],
   "source": []
  },
  {
   "cell_type": "markdown",
   "metadata": {},
   "source": [
    "# calculate euclidean distance in vectorised form X.X^t = X^2¶"
   ]
  },
  {
   "cell_type": "code",
   "execution_count": 21,
   "metadata": {},
   "outputs": [],
   "source": [
    "df = pd.read_csv(\"C:\\\\Users\\\\Shreyansh\\\\cars.csv\")\n",
    "df = df.dropna()"
   ]
  },
  {
   "cell_type": "code",
   "execution_count": 22,
   "metadata": {},
   "outputs": [],
   "source": [
    "df = df[[\"Weight\" , \"MPG\"]]"
   ]
  },
  {
   "cell_type": "code",
   "execution_count": 23,
   "metadata": {},
   "outputs": [],
   "source": [
    "from scipy.stats import zscore   ## importing library\n",
    "df = df.apply(zscore)  "
   ]
  },
  {
   "cell_type": "code",
   "execution_count": 24,
   "metadata": {
    "scrolled": true
   },
   "outputs": [
    {
     "data": {
      "text/html": [
       "<div>\n",
       "<style scoped>\n",
       "    .dataframe tbody tr th:only-of-type {\n",
       "        vertical-align: middle;\n",
       "    }\n",
       "\n",
       "    .dataframe tbody tr th {\n",
       "        vertical-align: top;\n",
       "    }\n",
       "\n",
       "    .dataframe thead th {\n",
       "        text-align: right;\n",
       "    }\n",
       "</style>\n",
       "<table border=\"1\" class=\"dataframe\">\n",
       "  <thead>\n",
       "    <tr style=\"text-align: right;\">\n",
       "      <th></th>\n",
       "      <th>Weight</th>\n",
       "      <th>MPG</th>\n",
       "    </tr>\n",
       "  </thead>\n",
       "  <tbody>\n",
       "    <tr>\n",
       "      <th>0</th>\n",
       "      <td>0.620107</td>\n",
       "      <td>-0.601952</td>\n",
       "    </tr>\n",
       "    <tr>\n",
       "      <th>1</th>\n",
       "      <td>0.843522</td>\n",
       "      <td>-0.959460</td>\n",
       "    </tr>\n",
       "    <tr>\n",
       "      <th>2</th>\n",
       "      <td>0.539725</td>\n",
       "      <td>-0.601952</td>\n",
       "    </tr>\n",
       "  </tbody>\n",
       "</table>\n",
       "</div>"
      ],
      "text/plain": [
       "     Weight       MPG\n",
       "0  0.620107 -0.601952\n",
       "1  0.843522 -0.959460\n",
       "2  0.539725 -0.601952"
      ]
     },
     "execution_count": 24,
     "metadata": {},
     "output_type": "execute_result"
    }
   ],
   "source": [
    "\n",
    "df.head(3)"
   ]
  },
  {
   "cell_type": "code",
   "execution_count": 25,
   "metadata": {
    "scrolled": true
   },
   "outputs": [
    {
     "data": {
      "text/plain": [
       "Index(['Weight', 'MPG'], dtype='object')"
      ]
     },
     "execution_count": 25,
     "metadata": {},
     "output_type": "execute_result"
    }
   ],
   "source": [
    "df.columns"
   ]
  },
  {
   "cell_type": "code",
   "execution_count": 26,
   "metadata": {
    "scrolled": true
   },
   "outputs": [],
   "source": [
    "df[\"Weight[i]-MPG[i]\"] = df['Weight'] - df[\"MPG\"]"
   ]
  },
  {
   "cell_type": "markdown",
   "metadata": {},
   "source": [
    "### Using Function "
   ]
  },
  {
   "cell_type": "code",
   "execution_count": 28,
   "metadata": {},
   "outputs": [],
   "source": [
    "def sum_of_squares(x):\n",
    "    result = 0\n",
    "    for i in x:\n",
    "        result += i*i\n",
    "\n",
    "    return np.sqrt(result)"
   ]
  },
  {
   "cell_type": "code",
   "execution_count": 29,
   "metadata": {},
   "outputs": [
    {
     "data": {
      "text/plain": [
       "[1.2220588094047127,\n",
       " 1.8029813333438902,\n",
       " 1.1416768130088761,\n",
       " 1.3764691201193626,\n",
       " 1.2762132452073494,\n",
       " 2.5689744754689237,\n",
       " 2.703510907667397,\n",
       " 2.6538632040111447,\n",
       " 2.787439168610109,\n",
       " 1.9885691779636898,\n",
       " 2.8777214468521977,\n",
       " 4.121278214623085,\n",
       " 3.9936126909355796,\n",
       " 4.149648330998087,\n",
       " 3.776108465393903,\n",
       " 1.649309869645967,\n",
       " 1.822855211860067,\n",
       " 3.1886106387949193,\n",
       " 1.883363329739727,\n",
       " 1.2046230925214982,\n",
       " -0.8310807279215975,\n",
       " -0.047799504227753614,\n",
       " 0.3591344363317587,\n",
       " -0.21942391124283533,\n",
       " -1.474653925522236,\n",
       " -1.704200653469612,\n",
       " -0.595623559062763,\n",
       " -0.7625196133486778,\n",
       " -0.9467037492034033,\n",
       " -1.2325474687352163,\n",
       " -0.14731653212304052,\n",
       " 3.4887130665602584,\n",
       " 3.206193990992538,\n",
       " 3.0941172342576078,\n",
       " 3.7461866697170705,\n",
       " -1.474653925522236,\n",
       " -1.4354233949238266,\n",
       " -1.1204707120002857,\n",
       " -1.3356107611773784,\n",
       " 1.5632393881438071,\n",
       " 0.07447280498223718,\n",
       " 1.3835616492131129,\n",
       " 1.1343626633323431,\n",
       " 0.8641077107531048,\n",
       " 0.9667277620297017,\n",
       " 2.5321081212350975,\n",
       " 2.8335406077194856,\n",
       " 2.467093271209053,\n",
       " 2.3985321566361337,\n",
       " 3.6522844768820812,\n",
       " 3.286058760954431,\n",
       " 3.751801504777368,\n",
       " 0.5813670146026017,\n",
       " -0.5501869817017337,\n",
       " 0.8404659471072704,\n",
       " 0.7905966228682357,\n",
       " -0.8915888458012576,\n",
       " -1.6020978286269587,\n",
       " -1.8983587212166149,\n",
       " -1.9089975148572402,\n",
       " -2.373336549915103,\n",
       " -3.0391478023965015,\n",
       " -1.8245520274805844,\n",
       " -1.5623500715946057,\n",
       " -0.942197017057019,\n",
       " -1.241043706594041,\n",
       " -0.8513978476033393,\n",
       " -0.3118484100443719,\n",
       " -0.6461577450501456,\n",
       " 2.7281131389127404,\n",
       " 2.74015564131844,\n",
       " 2.3254643099168293,\n",
       " 2.43754106665176,\n",
       " 1.5398189098584023,\n",
       " 3.390821368012829,\n",
       " 2.997629244475252,\n",
       " 3.062422473918514,\n",
       " 2.9030621898919144,\n",
       " -0.2848820024344451,\n",
       " 2.0382168816199417,\n",
       " 2.5200656188293977,\n",
       " 2.7517549025585746,\n",
       " 2.376072481172591,\n",
       " 0.5470864573161418,\n",
       " -0.4284318989256868,\n",
       " 0.24395465621551812,\n",
       " -1.2857414369383435,\n",
       " -0.5655541280715262,\n",
       " -1.4070532785488252,\n",
       " -0.5535116256658263,\n",
       " -1.5536322131529983,\n",
       " -1.5101165709909874,\n",
       " 2.522429795193981,\n",
       " 1.8973267673444452,\n",
       " 2.3900359187773086,\n",
       " 2.3346993947923806,\n",
       " 1.9022767406563945,\n",
       " 3.648738212335206,\n",
       " 2.9527098935481666,\n",
       " 2.8333189871367033,\n",
       " 2.565206590339266,\n",
       " 3.2730557909492224,\n",
       " 3.6475561241529144,\n",
       " 2.1926271923345917,\n",
       " 0.7693190355869848,\n",
       " 1.1932454518641462,\n",
       " 0.5612715155036425,\n",
       " 0.651110217357813,\n",
       " -0.08304052911372255,\n",
       " -1.5682605125060642,\n",
       " 3.821101466367014,\n",
       " 3.594362155949787,\n",
       " 3.1773066481835928,\n",
       " 3.113252265757058,\n",
       " 0.37686575906613445,\n",
       " -0.4643377855600036,\n",
       " -0.4392923131490949,\n",
       " -0.5844675389881936,\n",
       " -0.40922288215785807,\n",
       " -0.3085237660802795,\n",
       " -0.3553640522063829,\n",
       " -1.195902735084173,\n",
       " 2.262813636255369,\n",
       " 2.375333634155864,\n",
       " -2.0238816891223195,\n",
       " -1.084047598932025,\n",
       " -0.10616506632561301,\n",
       " 0.3510814396384992,\n",
       " 1.4554474077501252,\n",
       " -0.49063933142158267,\n",
       " 0.15980477469002355,\n",
       " 2.245377919372154,\n",
       " 0.5085207884660803,\n",
       " 0.12101748525717945,\n",
       " 0.3900903496541259,\n",
       " 1.3809758522657467,\n",
       " -2.164106941649469,\n",
       " -0.9760343331779135,\n",
       " -2.4180342802594055,\n",
       " -0.7492950227606863,\n",
       " 1.7878358075568803,\n",
       " 1.6117046683954146,\n",
       " 1.35090642127451,\n",
       " 2.213387553181899,\n",
       " 3.2305006163867205,\n",
       " 2.8252659904434436,\n",
       " 3.0392239514382444,\n",
       " 2.5888483539851004,\n",
       " -1.607786648955635,\n",
       " -1.552893366136272,\n",
       " -1.154529648703963,\n",
       " -2.519915484519276,\n",
       " -2.2206255538166886,\n",
       " -1.5997336522623753,\n",
       " -1.143152008046611,\n",
       " -1.2183624105477158,\n",
       " -0.6927764105934665,\n",
       " -1.0469596241154167,\n",
       " -2.1050025325348827,\n",
       " 0.8191883598260195,\n",
       " 1.1688648412015854,\n",
       " 1.4944563177657517,\n",
       " 1.170564155817821,\n",
       " 2.8363480252496345,\n",
       " 2.6860012055158036,\n",
       " 2.6353930342600425,\n",
       " 3.0616836269017873,\n",
       " 1.8176096326969562,\n",
       " 1.9249580367027197,\n",
       " 1.8467185960886838,\n",
       " 1.5542255886286855,\n",
       " 0.3148799471530212,\n",
       " 0.6491892821587948,\n",
       " 1.4219056974803919,\n",
       " -1.6645268817056373,\n",
       " -0.39629389742102783,\n",
       " 0.28628821019523737,\n",
       " -0.4518520419887386,\n",
       " -0.4409916277653305,\n",
       " -1.1263811529117442,\n",
       " -0.6265794723851302,\n",
       " 0.6073729546130194,\n",
       " -1.9411355163618993,\n",
       " 0.7565376861645585,\n",
       " -0.3312790473949833,\n",
       " -0.020389855452261494,\n",
       " 0.0845943721889188,\n",
       " -0.5968056472450547,\n",
       " -2.585669181562047,\n",
       " -1.199005758465483,\n",
       " -1.1299274174586194,\n",
       " -0.7138323772919347,\n",
       " -1.2077236169070902,\n",
       " -1.3895435763972321,\n",
       " 2.1221081499284646,\n",
       " 2.271309874114193,\n",
       " 2.061378411466022,\n",
       " 2.4796160074145073,\n",
       " 0.4250357686889336,\n",
       " 0.5668863505639398,\n",
       " -0.07454429125489792,\n",
       " 0.19050207479541886,\n",
       " -1.8252908744973109,\n",
       " -1.1365397127526153,\n",
       " -1.9411355163618993,\n",
       " -2.585669181562047,\n",
       " 1.1574872005442336,\n",
       " 1.304804982165133,\n",
       " 1.3291486001935047,\n",
       " 0.9140140276263289,\n",
       " -2.133114035692912,\n",
       " -2.2359927001864808,\n",
       " -1.5642710067936239,\n",
       " -0.9008609233109981,\n",
       " 0.5652610212160828,\n",
       " 2.3332956860273066,\n",
       " 0.8262808889197699,\n",
       " 0.4243709069405857,\n",
       " 1.774352603751917,\n",
       " 2.436321985835279,\n",
       " 2.469235826990854,\n",
       " 2.2505495132668862,\n",
       " 2.1146093723033386,\n",
       " -2.1113932072460964,\n",
       " -1.8026095784509857,\n",
       " -2.907714393579338,\n",
       " -1.0949450057896226,\n",
       " -2.4679405971326296,\n",
       " 1.7261086088607391,\n",
       " 1.9984691245875892,\n",
       " 2.2717901079139478,\n",
       " 2.5145984190835042,\n",
       " 1.3005568632357207,\n",
       " 0.8307506284319648,\n",
       " 1.2518326345447883,\n",
       " 1.1872980183184985,\n",
       " 2.3067725195829447,\n",
       " 2.301342312471241,\n",
       " 2.4904764216379154,\n",
       " 2.4427126605464924,\n",
       " -1.9375892518150242,\n",
       " -0.4556569197525857,\n",
       " -1.195902735084173,\n",
       " -0.5570948828468908,\n",
       " -1.9851313923236646,\n",
       " -2.3142691334347063,\n",
       " -2.0035645694405777,\n",
       " -1.820821134985116,\n",
       " -0.06907709150900454,\n",
       " -0.2636414077873835,\n",
       " -0.12179082591237728,\n",
       " -3.564682213796298,\n",
       " -2.9491835267194992,\n",
       " -2.337238569760884,\n",
       " -3.023278360735382,\n",
       " -2.9491835267194992,\n",
       " 0.8313269089916704,\n",
       " 1.3282841793539466,\n",
       " 1.0379042006128683,\n",
       " 1.115700400061339,\n",
       " 0.5115868192132009,\n",
       " 0.3227408503263789,\n",
       " -0.5508002548956287,\n",
       " 0.8366610693434233,\n",
       " 0.7076878836507946,\n",
       " 0.7656397316459692,\n",
       " 0.37535853796980057,\n",
       " 1.2876794670533434,\n",
       " 1.099025591686423,\n",
       " 0.9856707000092502,\n",
       " 1.1880663923981059,\n",
       " 0.8566975143166209,\n",
       " 1.9625262453190828,\n",
       " -1.8026095784509857,\n",
       " -1.0259406500511377,\n",
       " -1.29753279169838,\n",
       " -1.8212053220249196,\n",
       " -0.31645118895070734,\n",
       " -0.29482640726384185,\n",
       " -0.23629827870896153,\n",
       " -0.7801548893231025,\n",
       " 0.15124201713412871,\n",
       " 0.9109479968792084,\n",
       " -0.045051140823366725,\n",
       " 1.325447234760917,\n",
       " -2.1764080572721403,\n",
       " -1.7666666991824798,\n",
       " 0.49880546979077467,\n",
       " 0.399960769215144,\n",
       " -0.016171263585730053,\n",
       " 0.6773673050138943,\n",
       " 0.7419979680001348,\n",
       " 1.738409724483411,\n",
       " 1.5309680120226545,\n",
       " 1.9339345083612989,\n",
       " 1.5835856996660767,\n",
       " 2.3650125078579727,\n",
       " 2.17013052423686,\n",
       " 1.1984465728217593,\n",
       " 1.6778646139695614,\n",
       " -2.300911503452574,\n",
       " -2.503979523161087,\n",
       " -2.7655756714244797,\n",
       " -0.8839940214161803,\n",
       " 0.37094038701205895,\n",
       " 1.0943193004488287,\n",
       " -0.24547430945875093,\n",
       " 0.4196646157029913,\n",
       " -2.2499266107283185,\n",
       " -2.3447818055915084,\n",
       " -2.176696197551993,\n",
       " -2.7020975695576492,\n",
       " -1.0031633072448614,\n",
       " -1.1394876352482128,\n",
       " -0.7770298044502205,\n",
       " -1.74568471775239,\n",
       " -3.186059335486025,\n",
       " -2.9889312837518522,\n",
       " -2.0942381650714257,\n",
       " -2.821392429209162,\n",
       " -0.9460388874550554,\n",
       " -0.5284070991291558,\n",
       " -0.12093387064412772,\n",
       " 0.9455757485712823,\n",
       " -2.2760285974986867,\n",
       " -1.1215346919310543,\n",
       " -1.5000615234813761,\n",
       " -2.3069919763923625,\n",
       " -1.934752307221995,\n",
       " -3.8340136914102163,\n",
       " -0.7899072006325976,\n",
       " -3.1428318336038665,\n",
       " -3.5894765385615424,\n",
       " -3.1867021357428,\n",
       " -1.6255329028326275,\n",
       " -0.5082230188415544,\n",
       " -3.9030180471487013,\n",
       " -3.479823012316957,\n",
       " -2.26727374642289,\n",
       " -2.145223057795682,\n",
       " -1.2318900725581774,\n",
       " -0.7385897094229906,\n",
       " -1.9906355847037474,\n",
       " -0.15336001242863956,\n",
       " -1.9290339598304378,\n",
       " -1.0729360370629535,\n",
       " -0.8300316791334461,\n",
       " -0.7524275732048771,\n",
       " -0.35421895665828057,\n",
       " -1.5307292965238906,\n",
       " -3.3598853524086696,\n",
       " -3.206117841950795,\n",
       " -2.877297768182487,\n",
       " -2.183086872263206,\n",
       " -2.8495704520642615,\n",
       " -2.8443323384724595,\n",
       " -2.49215864133817,\n",
       " -2.2917799309082834,\n",
       " -2.456984136149271,\n",
       " -1.524722808852481,\n",
       " -2.118744349556818,\n",
       " -2.1438268146019164,\n",
       " -2.178521085991061,\n",
       " -1.8581086688929347,\n",
       " -1.6044399434999699,\n",
       " -1.4258781082768506,\n",
       " -0.30544313941289525,\n",
       " 2.5349158739875994,\n",
       " -0.6980294553278856,\n",
       " -0.37377516783172343,\n",
       " -0.1953093793685549,\n",
       " 0.5925081035345541,\n",
       " 0.4584444395645266,\n",
       " 0.4350392276440921,\n",
       " 1.223625084626808,\n",
       " -1.0323313247623507,\n",
       " -0.8717889525534597,\n",
       " -1.995585558015697,\n",
       " -1.425301827717145,\n",
       " -1.246067665174369,\n",
       " -0.7594905752357466,\n",
       " -0.24831125405178045,\n",
       " 0.07181302276649251,\n",
       " -2.724490725324122,\n",
       " -2.7904660429496753,\n",
       " -2.1404651780036343,\n",
       " -2.7914265105491847,\n",
       " -2.5530879388918226,\n",
       " -2.5117148525116124,\n",
       " -2.458520884308485,\n",
       " -2.172898785359455,\n",
       " -2.9805606197158596,\n",
       " -2.2655449047437743,\n",
       " -2.9450979742471075,\n",
       " -0.2729134852971239,\n",
       " -1.7393680283095554,\n",
       " -0.8176345167508233,\n",
       " -0.0454353278631702,\n",
       " -1.4380831771395715,\n",
       " -2.2634763342303517,\n",
       " -0.5053416160430272,\n",
       " -0.694475725209702,\n",
       " -3.5005317846098114,\n",
       " -1.875455804587507,\n",
       " -1.0086895611165163,\n",
       " -1.2538990412848459]"
      ]
     },
     "execution_count": 29,
     "metadata": {},
     "output_type": "execute_result"
    }
   ],
   "source": [
    "x = list(df[\"Weight[i]-MPG[i]\"])\n",
    "x"
   ]
  },
  {
   "cell_type": "code",
   "execution_count": 30,
   "metadata": {},
   "outputs": [
    {
     "data": {
      "text/plain": [
       "38.09800613798336"
      ]
     },
     "execution_count": 30,
     "metadata": {},
     "output_type": "execute_result"
    }
   ],
   "source": [
    "sum_of_squares(x)"
   ]
  },
  {
   "cell_type": "markdown",
   "metadata": {},
   "source": [
    "# Now calculating through matrix"
   ]
  },
  {
   "cell_type": "code",
   "execution_count": 31,
   "metadata": {},
   "outputs": [],
   "source": [
    "mat = np.matrix(list(df[\"Weight[i]-MPG[i]\"]))"
   ]
  },
  {
   "cell_type": "code",
   "execution_count": 32,
   "metadata": {},
   "outputs": [
    {
     "data": {
      "text/plain": [
       "matrix([[ 1.22205881,  1.80298133,  1.14167681,  1.37646912,  1.27621325,\n",
       "          2.56897448,  2.70351091,  2.6538632 ,  2.78743917,  1.98856918,\n",
       "          2.87772145,  4.12127821,  3.99361269,  4.14964833,  3.77610847,\n",
       "          1.64930987,  1.82285521,  3.18861064,  1.88336333,  1.20462309,\n",
       "         -0.83108073, -0.0477995 ,  0.35913444, -0.21942391, -1.47465393,\n",
       "         -1.70420065, -0.59562356, -0.76251961, -0.94670375, -1.23254747,\n",
       "         -0.14731653,  3.48871307,  3.20619399,  3.09411723,  3.74618667,\n",
       "         -1.47465393, -1.43542339, -1.12047071, -1.33561076,  1.56323939,\n",
       "          0.0744728 ,  1.38356165,  1.13436266,  0.86410771,  0.96672776,\n",
       "          2.53210812,  2.83354061,  2.46709327,  2.39853216,  3.65228448,\n",
       "          3.28605876,  3.7518015 ,  0.58136701, -0.55018698,  0.84046595,\n",
       "          0.79059662, -0.89158885, -1.60209783, -1.89835872, -1.90899751,\n",
       "         -2.37333655, -3.0391478 , -1.82455203, -1.56235007, -0.94219702,\n",
       "         -1.24104371, -0.85139785, -0.31184841, -0.64615775,  2.72811314,\n",
       "          2.74015564,  2.32546431,  2.43754107,  1.53981891,  3.39082137,\n",
       "          2.99762924,  3.06242247,  2.90306219, -0.284882  ,  2.03821688,\n",
       "          2.52006562,  2.7517549 ,  2.37607248,  0.54708646, -0.4284319 ,\n",
       "          0.24395466, -1.28574144, -0.56555413, -1.40705328, -0.55351163,\n",
       "         -1.55363221, -1.51011657,  2.5224298 ,  1.89732677,  2.39003592,\n",
       "          2.33469939,  1.90227674,  3.64873821,  2.95270989,  2.83331899,\n",
       "          2.56520659,  3.27305579,  3.64755612,  2.19262719,  0.76931904,\n",
       "          1.19324545,  0.56127152,  0.65111022, -0.08304053, -1.56826051,\n",
       "          3.82110147,  3.59436216,  3.17730665,  3.11325227,  0.37686576,\n",
       "         -0.46433779, -0.43929231, -0.58446754, -0.40922288, -0.30852377,\n",
       "         -0.35536405, -1.19590274,  2.26281364,  2.37533363, -2.02388169,\n",
       "         -1.0840476 , -0.10616507,  0.35108144,  1.45544741, -0.49063933,\n",
       "          0.15980477,  2.24537792,  0.50852079,  0.12101749,  0.39009035,\n",
       "          1.38097585, -2.16410694, -0.97603433, -2.41803428, -0.74929502,\n",
       "          1.78783581,  1.61170467,  1.35090642,  2.21338755,  3.23050062,\n",
       "          2.82526599,  3.03922395,  2.58884835, -1.60778665, -1.55289337,\n",
       "         -1.15452965, -2.51991548, -2.22062555, -1.59973365, -1.14315201,\n",
       "         -1.21836241, -0.69277641, -1.04695962, -2.10500253,  0.81918836,\n",
       "          1.16886484,  1.49445632,  1.17056416,  2.83634803,  2.68600121,\n",
       "          2.63539303,  3.06168363,  1.81760963,  1.92495804,  1.8467186 ,\n",
       "          1.55422559,  0.31487995,  0.64918928,  1.4219057 , -1.66452688,\n",
       "         -0.3962939 ,  0.28628821, -0.45185204, -0.44099163, -1.12638115,\n",
       "         -0.62657947,  0.60737295, -1.94113552,  0.75653769, -0.33127905,\n",
       "         -0.02038986,  0.08459437, -0.59680565, -2.58566918, -1.19900576,\n",
       "         -1.12992742, -0.71383238, -1.20772362, -1.38954358,  2.12210815,\n",
       "          2.27130987,  2.06137841,  2.47961601,  0.42503577,  0.56688635,\n",
       "         -0.07454429,  0.19050207, -1.82529087, -1.13653971, -1.94113552,\n",
       "         -2.58566918,  1.1574872 ,  1.30480498,  1.3291486 ,  0.91401403,\n",
       "         -2.13311404, -2.2359927 , -1.56427101, -0.90086092,  0.56526102,\n",
       "          2.33329569,  0.82628089,  0.42437091,  1.7743526 ,  2.43632199,\n",
       "          2.46923583,  2.25054951,  2.11460937, -2.11139321, -1.80260958,\n",
       "         -2.90771439, -1.09494501, -2.4679406 ,  1.72610861,  1.99846912,\n",
       "          2.27179011,  2.51459842,  1.30055686,  0.83075063,  1.25183263,\n",
       "          1.18729802,  2.30677252,  2.30134231,  2.49047642,  2.44271266,\n",
       "         -1.93758925, -0.45565692, -1.19590274, -0.55709488, -1.98513139,\n",
       "         -2.31426913, -2.00356457, -1.82082113, -0.06907709, -0.26364141,\n",
       "         -0.12179083, -3.56468221, -2.94918353, -2.33723857, -3.02327836,\n",
       "         -2.94918353,  0.83132691,  1.32828418,  1.0379042 ,  1.1157004 ,\n",
       "          0.51158682,  0.32274085, -0.55080025,  0.83666107,  0.70768788,\n",
       "          0.76563973,  0.37535854,  1.28767947,  1.09902559,  0.9856707 ,\n",
       "          1.18806639,  0.85669751,  1.96252625, -1.80260958, -1.02594065,\n",
       "         -1.29753279, -1.82120532, -0.31645119, -0.29482641, -0.23629828,\n",
       "         -0.78015489,  0.15124202,  0.910948  , -0.04505114,  1.32544723,\n",
       "         -2.17640806, -1.7666667 ,  0.49880547,  0.39996077, -0.01617126,\n",
       "          0.67736731,  0.74199797,  1.73840972,  1.53096801,  1.93393451,\n",
       "          1.5835857 ,  2.36501251,  2.17013052,  1.19844657,  1.67786461,\n",
       "         -2.3009115 , -2.50397952, -2.76557567, -0.88399402,  0.37094039,\n",
       "          1.0943193 , -0.24547431,  0.41966462, -2.24992661, -2.34478181,\n",
       "         -2.1766962 , -2.70209757, -1.00316331, -1.13948764, -0.7770298 ,\n",
       "         -1.74568472, -3.18605934, -2.98893128, -2.09423817, -2.82139243,\n",
       "         -0.94603889, -0.5284071 , -0.12093387,  0.94557575, -2.2760286 ,\n",
       "         -1.12153469, -1.50006152, -2.30699198, -1.93475231, -3.83401369,\n",
       "         -0.7899072 , -3.14283183, -3.58947654, -3.18670214, -1.6255329 ,\n",
       "         -0.50822302, -3.90301805, -3.47982301, -2.26727375, -2.14522306,\n",
       "         -1.23189007, -0.73858971, -1.99063558, -0.15336001, -1.92903396,\n",
       "         -1.07293604, -0.83003168, -0.75242757, -0.35421896, -1.5307293 ,\n",
       "         -3.35988535, -3.20611784, -2.87729777, -2.18308687, -2.84957045,\n",
       "         -2.84433234, -2.49215864, -2.29177993, -2.45698414, -1.52472281,\n",
       "         -2.11874435, -2.14382681, -2.17852109, -1.85810867, -1.60443994,\n",
       "         -1.42587811, -0.30544314,  2.53491587, -0.69802946, -0.37377517,\n",
       "         -0.19530938,  0.5925081 ,  0.45844444,  0.43503923,  1.22362508,\n",
       "         -1.03233132, -0.87178895, -1.99558556, -1.42530183, -1.24606767,\n",
       "         -0.75949058, -0.24831125,  0.07181302, -2.72449073, -2.79046604,\n",
       "         -2.14046518, -2.79142651, -2.55308794, -2.51171485, -2.45852088,\n",
       "         -2.17289879, -2.98056062, -2.2655449 , -2.94509797, -0.27291349,\n",
       "         -1.73936803, -0.81763452, -0.04543533, -1.43808318, -2.26347633,\n",
       "         -0.50534162, -0.69447573, -3.50053178, -1.8754558 , -1.00868956,\n",
       "         -1.25389904]])"
      ]
     },
     "execution_count": 32,
     "metadata": {},
     "output_type": "execute_result"
    }
   ],
   "source": [
    "mat"
   ]
  },
  {
   "cell_type": "code",
   "execution_count": 33,
   "metadata": {},
   "outputs": [
    {
     "data": {
      "text/plain": [
       "matrix([[ 1.22205881],\n",
       "        [ 1.80298133],\n",
       "        [ 1.14167681],\n",
       "        [ 1.37646912],\n",
       "        [ 1.27621325],\n",
       "        [ 2.56897448],\n",
       "        [ 2.70351091],\n",
       "        [ 2.6538632 ],\n",
       "        [ 2.78743917],\n",
       "        [ 1.98856918],\n",
       "        [ 2.87772145],\n",
       "        [ 4.12127821],\n",
       "        [ 3.99361269],\n",
       "        [ 4.14964833],\n",
       "        [ 3.77610847],\n",
       "        [ 1.64930987],\n",
       "        [ 1.82285521],\n",
       "        [ 3.18861064],\n",
       "        [ 1.88336333],\n",
       "        [ 1.20462309],\n",
       "        [-0.83108073],\n",
       "        [-0.0477995 ],\n",
       "        [ 0.35913444],\n",
       "        [-0.21942391],\n",
       "        [-1.47465393],\n",
       "        [-1.70420065],\n",
       "        [-0.59562356],\n",
       "        [-0.76251961],\n",
       "        [-0.94670375],\n",
       "        [-1.23254747],\n",
       "        [-0.14731653],\n",
       "        [ 3.48871307],\n",
       "        [ 3.20619399],\n",
       "        [ 3.09411723],\n",
       "        [ 3.74618667],\n",
       "        [-1.47465393],\n",
       "        [-1.43542339],\n",
       "        [-1.12047071],\n",
       "        [-1.33561076],\n",
       "        [ 1.56323939],\n",
       "        [ 0.0744728 ],\n",
       "        [ 1.38356165],\n",
       "        [ 1.13436266],\n",
       "        [ 0.86410771],\n",
       "        [ 0.96672776],\n",
       "        [ 2.53210812],\n",
       "        [ 2.83354061],\n",
       "        [ 2.46709327],\n",
       "        [ 2.39853216],\n",
       "        [ 3.65228448],\n",
       "        [ 3.28605876],\n",
       "        [ 3.7518015 ],\n",
       "        [ 0.58136701],\n",
       "        [-0.55018698],\n",
       "        [ 0.84046595],\n",
       "        [ 0.79059662],\n",
       "        [-0.89158885],\n",
       "        [-1.60209783],\n",
       "        [-1.89835872],\n",
       "        [-1.90899751],\n",
       "        [-2.37333655],\n",
       "        [-3.0391478 ],\n",
       "        [-1.82455203],\n",
       "        [-1.56235007],\n",
       "        [-0.94219702],\n",
       "        [-1.24104371],\n",
       "        [-0.85139785],\n",
       "        [-0.31184841],\n",
       "        [-0.64615775],\n",
       "        [ 2.72811314],\n",
       "        [ 2.74015564],\n",
       "        [ 2.32546431],\n",
       "        [ 2.43754107],\n",
       "        [ 1.53981891],\n",
       "        [ 3.39082137],\n",
       "        [ 2.99762924],\n",
       "        [ 3.06242247],\n",
       "        [ 2.90306219],\n",
       "        [-0.284882  ],\n",
       "        [ 2.03821688],\n",
       "        [ 2.52006562],\n",
       "        [ 2.7517549 ],\n",
       "        [ 2.37607248],\n",
       "        [ 0.54708646],\n",
       "        [-0.4284319 ],\n",
       "        [ 0.24395466],\n",
       "        [-1.28574144],\n",
       "        [-0.56555413],\n",
       "        [-1.40705328],\n",
       "        [-0.55351163],\n",
       "        [-1.55363221],\n",
       "        [-1.51011657],\n",
       "        [ 2.5224298 ],\n",
       "        [ 1.89732677],\n",
       "        [ 2.39003592],\n",
       "        [ 2.33469939],\n",
       "        [ 1.90227674],\n",
       "        [ 3.64873821],\n",
       "        [ 2.95270989],\n",
       "        [ 2.83331899],\n",
       "        [ 2.56520659],\n",
       "        [ 3.27305579],\n",
       "        [ 3.64755612],\n",
       "        [ 2.19262719],\n",
       "        [ 0.76931904],\n",
       "        [ 1.19324545],\n",
       "        [ 0.56127152],\n",
       "        [ 0.65111022],\n",
       "        [-0.08304053],\n",
       "        [-1.56826051],\n",
       "        [ 3.82110147],\n",
       "        [ 3.59436216],\n",
       "        [ 3.17730665],\n",
       "        [ 3.11325227],\n",
       "        [ 0.37686576],\n",
       "        [-0.46433779],\n",
       "        [-0.43929231],\n",
       "        [-0.58446754],\n",
       "        [-0.40922288],\n",
       "        [-0.30852377],\n",
       "        [-0.35536405],\n",
       "        [-1.19590274],\n",
       "        [ 2.26281364],\n",
       "        [ 2.37533363],\n",
       "        [-2.02388169],\n",
       "        [-1.0840476 ],\n",
       "        [-0.10616507],\n",
       "        [ 0.35108144],\n",
       "        [ 1.45544741],\n",
       "        [-0.49063933],\n",
       "        [ 0.15980477],\n",
       "        [ 2.24537792],\n",
       "        [ 0.50852079],\n",
       "        [ 0.12101749],\n",
       "        [ 0.39009035],\n",
       "        [ 1.38097585],\n",
       "        [-2.16410694],\n",
       "        [-0.97603433],\n",
       "        [-2.41803428],\n",
       "        [-0.74929502],\n",
       "        [ 1.78783581],\n",
       "        [ 1.61170467],\n",
       "        [ 1.35090642],\n",
       "        [ 2.21338755],\n",
       "        [ 3.23050062],\n",
       "        [ 2.82526599],\n",
       "        [ 3.03922395],\n",
       "        [ 2.58884835],\n",
       "        [-1.60778665],\n",
       "        [-1.55289337],\n",
       "        [-1.15452965],\n",
       "        [-2.51991548],\n",
       "        [-2.22062555],\n",
       "        [-1.59973365],\n",
       "        [-1.14315201],\n",
       "        [-1.21836241],\n",
       "        [-0.69277641],\n",
       "        [-1.04695962],\n",
       "        [-2.10500253],\n",
       "        [ 0.81918836],\n",
       "        [ 1.16886484],\n",
       "        [ 1.49445632],\n",
       "        [ 1.17056416],\n",
       "        [ 2.83634803],\n",
       "        [ 2.68600121],\n",
       "        [ 2.63539303],\n",
       "        [ 3.06168363],\n",
       "        [ 1.81760963],\n",
       "        [ 1.92495804],\n",
       "        [ 1.8467186 ],\n",
       "        [ 1.55422559],\n",
       "        [ 0.31487995],\n",
       "        [ 0.64918928],\n",
       "        [ 1.4219057 ],\n",
       "        [-1.66452688],\n",
       "        [-0.3962939 ],\n",
       "        [ 0.28628821],\n",
       "        [-0.45185204],\n",
       "        [-0.44099163],\n",
       "        [-1.12638115],\n",
       "        [-0.62657947],\n",
       "        [ 0.60737295],\n",
       "        [-1.94113552],\n",
       "        [ 0.75653769],\n",
       "        [-0.33127905],\n",
       "        [-0.02038986],\n",
       "        [ 0.08459437],\n",
       "        [-0.59680565],\n",
       "        [-2.58566918],\n",
       "        [-1.19900576],\n",
       "        [-1.12992742],\n",
       "        [-0.71383238],\n",
       "        [-1.20772362],\n",
       "        [-1.38954358],\n",
       "        [ 2.12210815],\n",
       "        [ 2.27130987],\n",
       "        [ 2.06137841],\n",
       "        [ 2.47961601],\n",
       "        [ 0.42503577],\n",
       "        [ 0.56688635],\n",
       "        [-0.07454429],\n",
       "        [ 0.19050207],\n",
       "        [-1.82529087],\n",
       "        [-1.13653971],\n",
       "        [-1.94113552],\n",
       "        [-2.58566918],\n",
       "        [ 1.1574872 ],\n",
       "        [ 1.30480498],\n",
       "        [ 1.3291486 ],\n",
       "        [ 0.91401403],\n",
       "        [-2.13311404],\n",
       "        [-2.2359927 ],\n",
       "        [-1.56427101],\n",
       "        [-0.90086092],\n",
       "        [ 0.56526102],\n",
       "        [ 2.33329569],\n",
       "        [ 0.82628089],\n",
       "        [ 0.42437091],\n",
       "        [ 1.7743526 ],\n",
       "        [ 2.43632199],\n",
       "        [ 2.46923583],\n",
       "        [ 2.25054951],\n",
       "        [ 2.11460937],\n",
       "        [-2.11139321],\n",
       "        [-1.80260958],\n",
       "        [-2.90771439],\n",
       "        [-1.09494501],\n",
       "        [-2.4679406 ],\n",
       "        [ 1.72610861],\n",
       "        [ 1.99846912],\n",
       "        [ 2.27179011],\n",
       "        [ 2.51459842],\n",
       "        [ 1.30055686],\n",
       "        [ 0.83075063],\n",
       "        [ 1.25183263],\n",
       "        [ 1.18729802],\n",
       "        [ 2.30677252],\n",
       "        [ 2.30134231],\n",
       "        [ 2.49047642],\n",
       "        [ 2.44271266],\n",
       "        [-1.93758925],\n",
       "        [-0.45565692],\n",
       "        [-1.19590274],\n",
       "        [-0.55709488],\n",
       "        [-1.98513139],\n",
       "        [-2.31426913],\n",
       "        [-2.00356457],\n",
       "        [-1.82082113],\n",
       "        [-0.06907709],\n",
       "        [-0.26364141],\n",
       "        [-0.12179083],\n",
       "        [-3.56468221],\n",
       "        [-2.94918353],\n",
       "        [-2.33723857],\n",
       "        [-3.02327836],\n",
       "        [-2.94918353],\n",
       "        [ 0.83132691],\n",
       "        [ 1.32828418],\n",
       "        [ 1.0379042 ],\n",
       "        [ 1.1157004 ],\n",
       "        [ 0.51158682],\n",
       "        [ 0.32274085],\n",
       "        [-0.55080025],\n",
       "        [ 0.83666107],\n",
       "        [ 0.70768788],\n",
       "        [ 0.76563973],\n",
       "        [ 0.37535854],\n",
       "        [ 1.28767947],\n",
       "        [ 1.09902559],\n",
       "        [ 0.9856707 ],\n",
       "        [ 1.18806639],\n",
       "        [ 0.85669751],\n",
       "        [ 1.96252625],\n",
       "        [-1.80260958],\n",
       "        [-1.02594065],\n",
       "        [-1.29753279],\n",
       "        [-1.82120532],\n",
       "        [-0.31645119],\n",
       "        [-0.29482641],\n",
       "        [-0.23629828],\n",
       "        [-0.78015489],\n",
       "        [ 0.15124202],\n",
       "        [ 0.910948  ],\n",
       "        [-0.04505114],\n",
       "        [ 1.32544723],\n",
       "        [-2.17640806],\n",
       "        [-1.7666667 ],\n",
       "        [ 0.49880547],\n",
       "        [ 0.39996077],\n",
       "        [-0.01617126],\n",
       "        [ 0.67736731],\n",
       "        [ 0.74199797],\n",
       "        [ 1.73840972],\n",
       "        [ 1.53096801],\n",
       "        [ 1.93393451],\n",
       "        [ 1.5835857 ],\n",
       "        [ 2.36501251],\n",
       "        [ 2.17013052],\n",
       "        [ 1.19844657],\n",
       "        [ 1.67786461],\n",
       "        [-2.3009115 ],\n",
       "        [-2.50397952],\n",
       "        [-2.76557567],\n",
       "        [-0.88399402],\n",
       "        [ 0.37094039],\n",
       "        [ 1.0943193 ],\n",
       "        [-0.24547431],\n",
       "        [ 0.41966462],\n",
       "        [-2.24992661],\n",
       "        [-2.34478181],\n",
       "        [-2.1766962 ],\n",
       "        [-2.70209757],\n",
       "        [-1.00316331],\n",
       "        [-1.13948764],\n",
       "        [-0.7770298 ],\n",
       "        [-1.74568472],\n",
       "        [-3.18605934],\n",
       "        [-2.98893128],\n",
       "        [-2.09423817],\n",
       "        [-2.82139243],\n",
       "        [-0.94603889],\n",
       "        [-0.5284071 ],\n",
       "        [-0.12093387],\n",
       "        [ 0.94557575],\n",
       "        [-2.2760286 ],\n",
       "        [-1.12153469],\n",
       "        [-1.50006152],\n",
       "        [-2.30699198],\n",
       "        [-1.93475231],\n",
       "        [-3.83401369],\n",
       "        [-0.7899072 ],\n",
       "        [-3.14283183],\n",
       "        [-3.58947654],\n",
       "        [-3.18670214],\n",
       "        [-1.6255329 ],\n",
       "        [-0.50822302],\n",
       "        [-3.90301805],\n",
       "        [-3.47982301],\n",
       "        [-2.26727375],\n",
       "        [-2.14522306],\n",
       "        [-1.23189007],\n",
       "        [-0.73858971],\n",
       "        [-1.99063558],\n",
       "        [-0.15336001],\n",
       "        [-1.92903396],\n",
       "        [-1.07293604],\n",
       "        [-0.83003168],\n",
       "        [-0.75242757],\n",
       "        [-0.35421896],\n",
       "        [-1.5307293 ],\n",
       "        [-3.35988535],\n",
       "        [-3.20611784],\n",
       "        [-2.87729777],\n",
       "        [-2.18308687],\n",
       "        [-2.84957045],\n",
       "        [-2.84433234],\n",
       "        [-2.49215864],\n",
       "        [-2.29177993],\n",
       "        [-2.45698414],\n",
       "        [-1.52472281],\n",
       "        [-2.11874435],\n",
       "        [-2.14382681],\n",
       "        [-2.17852109],\n",
       "        [-1.85810867],\n",
       "        [-1.60443994],\n",
       "        [-1.42587811],\n",
       "        [-0.30544314],\n",
       "        [ 2.53491587],\n",
       "        [-0.69802946],\n",
       "        [-0.37377517],\n",
       "        [-0.19530938],\n",
       "        [ 0.5925081 ],\n",
       "        [ 0.45844444],\n",
       "        [ 0.43503923],\n",
       "        [ 1.22362508],\n",
       "        [-1.03233132],\n",
       "        [-0.87178895],\n",
       "        [-1.99558556],\n",
       "        [-1.42530183],\n",
       "        [-1.24606767],\n",
       "        [-0.75949058],\n",
       "        [-0.24831125],\n",
       "        [ 0.07181302],\n",
       "        [-2.72449073],\n",
       "        [-2.79046604],\n",
       "        [-2.14046518],\n",
       "        [-2.79142651],\n",
       "        [-2.55308794],\n",
       "        [-2.51171485],\n",
       "        [-2.45852088],\n",
       "        [-2.17289879],\n",
       "        [-2.98056062],\n",
       "        [-2.2655449 ],\n",
       "        [-2.94509797],\n",
       "        [-0.27291349],\n",
       "        [-1.73936803],\n",
       "        [-0.81763452],\n",
       "        [-0.04543533],\n",
       "        [-1.43808318],\n",
       "        [-2.26347633],\n",
       "        [-0.50534162],\n",
       "        [-0.69447573],\n",
       "        [-3.50053178],\n",
       "        [-1.8754558 ],\n",
       "        [-1.00868956],\n",
       "        [-1.25389904]])"
      ]
     },
     "execution_count": 33,
     "metadata": {},
     "output_type": "execute_result"
    }
   ],
   "source": [
    "mat.T"
   ]
  },
  {
   "cell_type": "code",
   "execution_count": 36,
   "metadata": {},
   "outputs": [
    {
     "data": {
      "text/plain": [
       "matrix([[1451.45807169]])"
      ]
     },
     "execution_count": 36,
     "metadata": {},
     "output_type": "execute_result"
    }
   ],
   "source": [
    "m = np.matmul(mat , mat.T)\n",
    "m"
   ]
  },
  {
   "cell_type": "code",
   "execution_count": 37,
   "metadata": {},
   "outputs": [
    {
     "data": {
      "text/plain": [
       "matrix([[38.09800614]])"
      ]
     },
     "execution_count": 37,
     "metadata": {},
     "output_type": "execute_result"
    }
   ],
   "source": [
    "np.sqrt(m)"
   ]
  },
  {
   "cell_type": "markdown",
   "metadata": {},
   "source": [
    "# WE can see we got same result using both method"
   ]
  },
  {
   "cell_type": "code",
   "execution_count": null,
   "metadata": {},
   "outputs": [],
   "source": []
  },
  {
   "cell_type": "code",
   "execution_count": null,
   "metadata": {},
   "outputs": [],
   "source": []
  },
  {
   "cell_type": "code",
   "execution_count": null,
   "metadata": {},
   "outputs": [],
   "source": []
  },
  {
   "cell_type": "code",
   "execution_count": null,
   "metadata": {},
   "outputs": [],
   "source": []
  },
  {
   "cell_type": "markdown",
   "metadata": {},
   "source": [
    "## FIND COEFFICENTS OF OLS REGRESSION USING FORMULAS AND THEN VERIFY USING ANY PAKAGE AND ALSO USING calculating values of b0 , b1 , b2 , b3 from scratch b = inv(Htrans.H)* Htans*y\n"
   ]
  },
  {
   "cell_type": "code",
   "execution_count": 31,
   "metadata": {},
   "outputs": [],
   "source": [
    "df = pd.read_csv(\"C:\\\\Users\\\\Shreyansh\\\\cars.csv\")"
   ]
  },
  {
   "cell_type": "code",
   "execution_count": 32,
   "metadata": {},
   "outputs": [],
   "source": [
    "df = df.dropna()"
   ]
  },
  {
   "cell_type": "code",
   "execution_count": 33,
   "metadata": {},
   "outputs": [],
   "source": [
    "df = df[[\"Weight\" , \"MPG\"]]"
   ]
  },
  {
   "cell_type": "code",
   "execution_count": 36,
   "metadata": {},
   "outputs": [],
   "source": [
    "df = df[(df != 0).all(1)]"
   ]
  },
  {
   "cell_type": "code",
   "execution_count": 37,
   "metadata": {
    "scrolled": true
   },
   "outputs": [
    {
     "data": {
      "text/html": [
       "<div>\n",
       "<style scoped>\n",
       "    .dataframe tbody tr th:only-of-type {\n",
       "        vertical-align: middle;\n",
       "    }\n",
       "\n",
       "    .dataframe tbody tr th {\n",
       "        vertical-align: top;\n",
       "    }\n",
       "\n",
       "    .dataframe thead th {\n",
       "        text-align: right;\n",
       "    }\n",
       "</style>\n",
       "<table border=\"1\" class=\"dataframe\">\n",
       "  <thead>\n",
       "    <tr style=\"text-align: right;\">\n",
       "      <th></th>\n",
       "      <th>Weight</th>\n",
       "      <th>MPG</th>\n",
       "    </tr>\n",
       "  </thead>\n",
       "  <tbody>\n",
       "    <tr>\n",
       "      <th>0</th>\n",
       "      <td>3504</td>\n",
       "      <td>18.0</td>\n",
       "    </tr>\n",
       "    <tr>\n",
       "      <th>1</th>\n",
       "      <td>3693</td>\n",
       "      <td>15.0</td>\n",
       "    </tr>\n",
       "  </tbody>\n",
       "</table>\n",
       "</div>"
      ],
      "text/plain": [
       "   Weight   MPG\n",
       "0    3504  18.0\n",
       "1    3693  15.0"
      ]
     },
     "execution_count": 37,
     "metadata": {},
     "output_type": "execute_result"
    }
   ],
   "source": [
    "df.head(2)"
   ]
  },
  {
   "cell_type": "code",
   "execution_count": 38,
   "metadata": {},
   "outputs": [],
   "source": [
    "df['Weight'] = np.log(df['Weight']) \n",
    "df['MPG'] = np.log(df['MPG']) "
   ]
  },
  {
   "cell_type": "code",
   "execution_count": 41,
   "metadata": {
    "scrolled": true
   },
   "outputs": [
    {
     "data": {
      "text/html": [
       "<div>\n",
       "<style scoped>\n",
       "    .dataframe tbody tr th:only-of-type {\n",
       "        vertical-align: middle;\n",
       "    }\n",
       "\n",
       "    .dataframe tbody tr th {\n",
       "        vertical-align: top;\n",
       "    }\n",
       "\n",
       "    .dataframe thead th {\n",
       "        text-align: right;\n",
       "    }\n",
       "</style>\n",
       "<table border=\"1\" class=\"dataframe\">\n",
       "  <thead>\n",
       "    <tr style=\"text-align: right;\">\n",
       "      <th></th>\n",
       "      <th>Weight</th>\n",
       "      <th>MPG</th>\n",
       "      <th>Weight - Weight_mean</th>\n",
       "    </tr>\n",
       "  </thead>\n",
       "  <tbody>\n",
       "    <tr>\n",
       "      <th>0</th>\n",
       "      <td>8.161660</td>\n",
       "      <td>2.890372</td>\n",
       "      <td>0.204770</td>\n",
       "    </tr>\n",
       "    <tr>\n",
       "      <th>1</th>\n",
       "      <td>8.214194</td>\n",
       "      <td>2.708050</td>\n",
       "      <td>0.257304</td>\n",
       "    </tr>\n",
       "    <tr>\n",
       "      <th>2</th>\n",
       "      <td>8.142063</td>\n",
       "      <td>2.890372</td>\n",
       "      <td>0.185173</td>\n",
       "    </tr>\n",
       "    <tr>\n",
       "      <th>3</th>\n",
       "      <td>8.141190</td>\n",
       "      <td>2.772589</td>\n",
       "      <td>0.184300</td>\n",
       "    </tr>\n",
       "    <tr>\n",
       "      <th>4</th>\n",
       "      <td>8.145840</td>\n",
       "      <td>2.833213</td>\n",
       "      <td>0.188950</td>\n",
       "    </tr>\n",
       "  </tbody>\n",
       "</table>\n",
       "</div>"
      ],
      "text/plain": [
       "     Weight       MPG  Weight - Weight_mean\n",
       "0  8.161660  2.890372              0.204770\n",
       "1  8.214194  2.708050              0.257304\n",
       "2  8.142063  2.890372              0.185173\n",
       "3  8.141190  2.772589              0.184300\n",
       "4  8.145840  2.833213              0.188950"
      ]
     },
     "execution_count": 41,
     "metadata": {},
     "output_type": "execute_result"
    }
   ],
   "source": [
    "df.head()"
   ]
  },
  {
   "cell_type": "code",
   "execution_count": 42,
   "metadata": {
    "scrolled": true
   },
   "outputs": [],
   "source": [
    "df[\"Weight - Weight_mean\"]  = df['Weight'] - df['Weight'].mean()\n"
   ]
  },
  {
   "cell_type": "code",
   "execution_count": 43,
   "metadata": {},
   "outputs": [],
   "source": [
    "df[\"MPG - MPG_mean\"]  = df['MPG'] - df['MPG'].mean()"
   ]
  },
  {
   "cell_type": "code",
   "execution_count": 44,
   "metadata": {},
   "outputs": [
    {
     "data": {
      "text/plain": [
       "3.1013841865071896"
      ]
     },
     "execution_count": 44,
     "metadata": {},
     "output_type": "execute_result"
    }
   ],
   "source": [
    "df['MPG'].mean()"
   ]
  },
  {
   "cell_type": "code",
   "execution_count": 45,
   "metadata": {
    "scrolled": true
   },
   "outputs": [],
   "source": [
    "df[\"(Weight - Weight_mean)**2\"] = df[\"Weight - Weight_mean\"]*df[\"Weight - Weight_mean\"]\n"
   ]
  },
  {
   "cell_type": "code",
   "execution_count": 46,
   "metadata": {},
   "outputs": [],
   "source": [
    "df[\"(Weight - Weight_mean)*(MPG - MPG_mean)\"] = df[\"Weight - Weight_mean\"] * df[\"MPG - MPG_mean\"]"
   ]
  },
  {
   "cell_type": "code",
   "execution_count": 47,
   "metadata": {
    "scrolled": true
   },
   "outputs": [
    {
     "data": {
      "text/html": [
       "<div>\n",
       "<style scoped>\n",
       "    .dataframe tbody tr th:only-of-type {\n",
       "        vertical-align: middle;\n",
       "    }\n",
       "\n",
       "    .dataframe tbody tr th {\n",
       "        vertical-align: top;\n",
       "    }\n",
       "\n",
       "    .dataframe thead th {\n",
       "        text-align: right;\n",
       "    }\n",
       "</style>\n",
       "<table border=\"1\" class=\"dataframe\">\n",
       "  <thead>\n",
       "    <tr style=\"text-align: right;\">\n",
       "      <th></th>\n",
       "      <th>Weight</th>\n",
       "      <th>MPG</th>\n",
       "      <th>Weight - Weight_mean</th>\n",
       "      <th>MPG - MPG_mean</th>\n",
       "      <th>(Weight - Weight_mean)**2</th>\n",
       "      <th>(Weight - Weight_mean)*(MPG - MPG_mean)</th>\n",
       "    </tr>\n",
       "  </thead>\n",
       "  <tbody>\n",
       "    <tr>\n",
       "      <th>0</th>\n",
       "      <td>8.161660</td>\n",
       "      <td>2.890372</td>\n",
       "      <td>0.204770</td>\n",
       "      <td>-0.211012</td>\n",
       "      <td>0.041931</td>\n",
       "      <td>-0.043209</td>\n",
       "    </tr>\n",
       "    <tr>\n",
       "      <th>1</th>\n",
       "      <td>8.214194</td>\n",
       "      <td>2.708050</td>\n",
       "      <td>0.257304</td>\n",
       "      <td>-0.393334</td>\n",
       "      <td>0.066206</td>\n",
       "      <td>-0.101207</td>\n",
       "    </tr>\n",
       "    <tr>\n",
       "      <th>2</th>\n",
       "      <td>8.142063</td>\n",
       "      <td>2.890372</td>\n",
       "      <td>0.185173</td>\n",
       "      <td>-0.211012</td>\n",
       "      <td>0.034289</td>\n",
       "      <td>-0.039074</td>\n",
       "    </tr>\n",
       "    <tr>\n",
       "      <th>3</th>\n",
       "      <td>8.141190</td>\n",
       "      <td>2.772589</td>\n",
       "      <td>0.184300</td>\n",
       "      <td>-0.328795</td>\n",
       "      <td>0.033966</td>\n",
       "      <td>-0.060597</td>\n",
       "    </tr>\n",
       "    <tr>\n",
       "      <th>4</th>\n",
       "      <td>8.145840</td>\n",
       "      <td>2.833213</td>\n",
       "      <td>0.188950</td>\n",
       "      <td>-0.268171</td>\n",
       "      <td>0.035702</td>\n",
       "      <td>-0.050671</td>\n",
       "    </tr>\n",
       "  </tbody>\n",
       "</table>\n",
       "</div>"
      ],
      "text/plain": [
       "     Weight       MPG  Weight - Weight_mean  MPG - MPG_mean  \\\n",
       "0  8.161660  2.890372              0.204770       -0.211012   \n",
       "1  8.214194  2.708050              0.257304       -0.393334   \n",
       "2  8.142063  2.890372              0.185173       -0.211012   \n",
       "3  8.141190  2.772589              0.184300       -0.328795   \n",
       "4  8.145840  2.833213              0.188950       -0.268171   \n",
       "\n",
       "   (Weight - Weight_mean)**2  (Weight - Weight_mean)*(MPG - MPG_mean)  \n",
       "0                   0.041931                                -0.043209  \n",
       "1                   0.066206                                -0.101207  \n",
       "2                   0.034289                                -0.039074  \n",
       "3                   0.033966                                -0.060597  \n",
       "4                   0.035702                                -0.050671  "
      ]
     },
     "execution_count": 47,
     "metadata": {},
     "output_type": "execute_result"
    }
   ],
   "source": [
    "df.head()"
   ]
  },
  {
   "cell_type": "code",
   "execution_count": 48,
   "metadata": {
    "scrolled": true
   },
   "outputs": [
    {
     "data": {
      "text/html": [
       "<div>\n",
       "<style scoped>\n",
       "    .dataframe tbody tr th:only-of-type {\n",
       "        vertical-align: middle;\n",
       "    }\n",
       "\n",
       "    .dataframe tbody tr th {\n",
       "        vertical-align: top;\n",
       "    }\n",
       "\n",
       "    .dataframe thead th {\n",
       "        text-align: right;\n",
       "    }\n",
       "</style>\n",
       "<table border=\"1\" class=\"dataframe\">\n",
       "  <thead>\n",
       "    <tr style=\"text-align: right;\">\n",
       "      <th></th>\n",
       "      <th>Weight</th>\n",
       "      <th>MPG</th>\n",
       "      <th>Weight - Weight_mean</th>\n",
       "      <th>MPG - MPG_mean</th>\n",
       "      <th>(Weight - Weight_mean)**2</th>\n",
       "      <th>(Weight - Weight_mean)*(MPG - MPG_mean)</th>\n",
       "    </tr>\n",
       "  </thead>\n",
       "  <tbody>\n",
       "    <tr>\n",
       "      <th>count</th>\n",
       "      <td>398.000000</td>\n",
       "      <td>398.000000</td>\n",
       "      <td>3.980000e+02</td>\n",
       "      <td>3.980000e+02</td>\n",
       "      <td>3.980000e+02</td>\n",
       "      <td>398.000000</td>\n",
       "    </tr>\n",
       "    <tr>\n",
       "      <th>mean</th>\n",
       "      <td>7.956890</td>\n",
       "      <td>3.101384</td>\n",
       "      <td>-1.004222e-16</td>\n",
       "      <td>1.861158e-15</td>\n",
       "      <td>7.857490e-02</td>\n",
       "      <td>-0.083153</td>\n",
       "    </tr>\n",
       "    <tr>\n",
       "      <th>std</th>\n",
       "      <td>0.280665</td>\n",
       "      <td>0.339656</td>\n",
       "      <td>2.806650e-01</td>\n",
       "      <td>3.396563e-01</td>\n",
       "      <td>7.508582e-02</td>\n",
       "      <td>0.089129</td>\n",
       "    </tr>\n",
       "    <tr>\n",
       "      <th>min</th>\n",
       "      <td>7.385851</td>\n",
       "      <td>2.197225</td>\n",
       "      <td>-5.710390e-01</td>\n",
       "      <td>-9.041596e-01</td>\n",
       "      <td>3.967634e-09</td>\n",
       "      <td>-0.456793</td>\n",
       "    </tr>\n",
       "    <tr>\n",
       "      <th>25%</th>\n",
       "      <td>7.706950</td>\n",
       "      <td>2.862201</td>\n",
       "      <td>-2.499400e-01</td>\n",
       "      <td>-2.391833e-01</td>\n",
       "      <td>1.349864e-02</td>\n",
       "      <td>-0.134557</td>\n",
       "    </tr>\n",
       "    <tr>\n",
       "      <th>50%</th>\n",
       "      <td>7.938623</td>\n",
       "      <td>3.135494</td>\n",
       "      <td>-1.826697e-02</td>\n",
       "      <td>3.411003e-02</td>\n",
       "      <td>5.877796e-02</td>\n",
       "      <td>-0.056579</td>\n",
       "    </tr>\n",
       "    <tr>\n",
       "      <th>75%</th>\n",
       "      <td>8.190909</td>\n",
       "      <td>3.367296</td>\n",
       "      <td>2.340187e-01</td>\n",
       "      <td>2.659116e-01</td>\n",
       "      <td>1.283298e-01</td>\n",
       "      <td>-0.012295</td>\n",
       "    </tr>\n",
       "    <tr>\n",
       "      <th>max</th>\n",
       "      <td>8.544808</td>\n",
       "      <td>3.841601</td>\n",
       "      <td>5.879182e-01</td>\n",
       "      <td>7.402164e-01</td>\n",
       "      <td>3.456479e-01</td>\n",
       "      <td>0.062425</td>\n",
       "    </tr>\n",
       "  </tbody>\n",
       "</table>\n",
       "</div>"
      ],
      "text/plain": [
       "           Weight         MPG  Weight - Weight_mean  MPG - MPG_mean  \\\n",
       "count  398.000000  398.000000          3.980000e+02    3.980000e+02   \n",
       "mean     7.956890    3.101384         -1.004222e-16    1.861158e-15   \n",
       "std      0.280665    0.339656          2.806650e-01    3.396563e-01   \n",
       "min      7.385851    2.197225         -5.710390e-01   -9.041596e-01   \n",
       "25%      7.706950    2.862201         -2.499400e-01   -2.391833e-01   \n",
       "50%      7.938623    3.135494         -1.826697e-02    3.411003e-02   \n",
       "75%      8.190909    3.367296          2.340187e-01    2.659116e-01   \n",
       "max      8.544808    3.841601          5.879182e-01    7.402164e-01   \n",
       "\n",
       "       (Weight - Weight_mean)**2  (Weight - Weight_mean)*(MPG - MPG_mean)  \n",
       "count               3.980000e+02                               398.000000  \n",
       "mean                7.857490e-02                                -0.083153  \n",
       "std                 7.508582e-02                                 0.089129  \n",
       "min                 3.967634e-09                                -0.456793  \n",
       "25%                 1.349864e-02                                -0.134557  \n",
       "50%                 5.877796e-02                                -0.056579  \n",
       "75%                 1.283298e-01                                -0.012295  \n",
       "max                 3.456479e-01                                 0.062425  "
      ]
     },
     "execution_count": 48,
     "metadata": {},
     "output_type": "execute_result"
    }
   ],
   "source": [
    "df.describe()"
   ]
  },
  {
   "cell_type": "code",
   "execution_count": 49,
   "metadata": {},
   "outputs": [
    {
     "data": {
      "text/plain": [
       "-33.09501554179673"
      ]
     },
     "execution_count": 49,
     "metadata": {},
     "output_type": "execute_result"
    }
   ],
   "source": [
    "df[\"(Weight - Weight_mean)*(MPG - MPG_mean)\"].sum()"
   ]
  },
  {
   "cell_type": "markdown",
   "metadata": {},
   "source": [
    "## b1 = sum(Xi - Xavg)(Yi - Yavg) / sum( (Xi-Xavg)^2)\t\t\t\t\n",
    "## b0 = Yavg - b1.Xavg\t\t\t\t\n"
   ]
  },
  {
   "cell_type": "code",
   "execution_count": 50,
   "metadata": {},
   "outputs": [],
   "source": [
    "b1 = df[\"(Weight - Weight_mean)*(MPG - MPG_mean)\"].sum()/df[\"(Weight - Weight_mean)**2\"].sum()"
   ]
  },
  {
   "cell_type": "code",
   "execution_count": 51,
   "metadata": {},
   "outputs": [
    {
     "data": {
      "text/plain": [
       "-1.0582680360393397"
      ]
     },
     "execution_count": 51,
     "metadata": {},
     "output_type": "execute_result"
    }
   ],
   "source": [
    "b1"
   ]
  },
  {
   "cell_type": "code",
   "execution_count": 52,
   "metadata": {},
   "outputs": [],
   "source": [
    "bo = df[\"MPG\"].mean() - b1 *df[\"Weight\"].mean() "
   ]
  },
  {
   "cell_type": "code",
   "execution_count": 57,
   "metadata": {},
   "outputs": [
    {
     "data": {
      "text/plain": [
       "11.521906657521775"
      ]
     },
     "execution_count": 57,
     "metadata": {},
     "output_type": "execute_result"
    }
   ],
   "source": [
    "bo"
   ]
  },
  {
   "cell_type": "markdown",
   "metadata": {},
   "source": [
    "## FIND COEFFICENTS OF OLS REGRESSION USING FORMULAS AND THEN VERIFY USING ANY PAKAGE AND ALSO USING calculating values of b0 , b1 , b2 , b3 from scratch b = inv(Htrans.H)* Htans*y"
   ]
  },
  {
   "cell_type": "markdown",
   "metadata": {},
   "source": [
    "### ON RANDOM DATA SET "
   ]
  },
  {
   "cell_type": "code",
   "execution_count": 30,
   "metadata": {},
   "outputs": [],
   "source": [
    "import pandas as pd\n",
    "import numpy as np\n",
    "import statsmodels.api as stm\n",
    "import matplotlib.pyplot as plt\n",
    "import math \n",
    "import os"
   ]
  },
  {
   "cell_type": "markdown",
   "metadata": {},
   "source": [
    "## creating random data "
   ]
  },
  {
   "cell_type": "code",
   "execution_count": 8,
   "metadata": {
    "scrolled": true
   },
   "outputs": [
    {
     "data": {
      "text/html": [
       "<div>\n",
       "<style scoped>\n",
       "    .dataframe tbody tr th:only-of-type {\n",
       "        vertical-align: middle;\n",
       "    }\n",
       "\n",
       "    .dataframe tbody tr th {\n",
       "        vertical-align: top;\n",
       "    }\n",
       "\n",
       "    .dataframe thead th {\n",
       "        text-align: right;\n",
       "    }\n",
       "</style>\n",
       "<table border=\"1\" class=\"dataframe\">\n",
       "  <thead>\n",
       "    <tr style=\"text-align: right;\">\n",
       "      <th></th>\n",
       "      <th>x1</th>\n",
       "      <th>x2</th>\n",
       "      <th>x3</th>\n",
       "      <th>y</th>\n",
       "    </tr>\n",
       "  </thead>\n",
       "  <tbody>\n",
       "    <tr>\n",
       "      <th>0</th>\n",
       "      <td>2</td>\n",
       "      <td>3</td>\n",
       "      <td>5</td>\n",
       "      <td>12</td>\n",
       "    </tr>\n",
       "    <tr>\n",
       "      <th>1</th>\n",
       "      <td>4</td>\n",
       "      <td>9</td>\n",
       "      <td>8</td>\n",
       "      <td>14</td>\n",
       "    </tr>\n",
       "    <tr>\n",
       "      <th>2</th>\n",
       "      <td>6</td>\n",
       "      <td>4</td>\n",
       "      <td>4</td>\n",
       "      <td>16</td>\n",
       "    </tr>\n",
       "    <tr>\n",
       "      <th>3</th>\n",
       "      <td>7</td>\n",
       "      <td>7</td>\n",
       "      <td>8</td>\n",
       "      <td>14</td>\n",
       "    </tr>\n",
       "    <tr>\n",
       "      <th>4</th>\n",
       "      <td>9</td>\n",
       "      <td>15</td>\n",
       "      <td>14</td>\n",
       "      <td>12</td>\n",
       "    </tr>\n",
       "    <tr>\n",
       "      <th>5</th>\n",
       "      <td>12</td>\n",
       "      <td>12</td>\n",
       "      <td>12</td>\n",
       "      <td>17</td>\n",
       "    </tr>\n",
       "    <tr>\n",
       "      <th>6</th>\n",
       "      <td>15</td>\n",
       "      <td>13</td>\n",
       "      <td>14</td>\n",
       "      <td>12</td>\n",
       "    </tr>\n",
       "    <tr>\n",
       "      <th>7</th>\n",
       "      <td>18</td>\n",
       "      <td>14</td>\n",
       "      <td>11</td>\n",
       "      <td>22</td>\n",
       "    </tr>\n",
       "    <tr>\n",
       "      <th>8</th>\n",
       "      <td>20</td>\n",
       "      <td>12</td>\n",
       "      <td>12</td>\n",
       "      <td>25</td>\n",
       "    </tr>\n",
       "    <tr>\n",
       "      <th>9</th>\n",
       "      <td>24</td>\n",
       "      <td>25</td>\n",
       "      <td>24</td>\n",
       "      <td>30</td>\n",
       "    </tr>\n",
       "    <tr>\n",
       "      <th>10</th>\n",
       "      <td>26</td>\n",
       "      <td>30</td>\n",
       "      <td>22</td>\n",
       "      <td>28</td>\n",
       "    </tr>\n",
       "  </tbody>\n",
       "</table>\n",
       "</div>"
      ],
      "text/plain": [
       "    x1  x2  x3   y\n",
       "0    2   3   5  12\n",
       "1    4   9   8  14\n",
       "2    6   4   4  16\n",
       "3    7   7   8  14\n",
       "4    9  15  14  12\n",
       "5   12  12  12  17\n",
       "6   15  13  14  12\n",
       "7   18  14  11  22\n",
       "8   20  12  12  25\n",
       "9   24  25  24  30\n",
       "10  26  30  22  28"
      ]
     },
     "execution_count": 8,
     "metadata": {},
     "output_type": "execute_result"
    }
   ],
   "source": [
    "d = { \"x1\":[2,4,6,7,9,12,15,18,20,24,26],\n",
    "          \"x2\":[3,9,4,7,15,12,13,14,12,25,30],\n",
    "          \"x3\":[5,8,4,8,14,12,14,11,12,24,22],\n",
    "          \"y\":[12,14,16,14,12,17,12,22,25,30,28]}\n",
    "df = pd.DataFrame(d)\n",
    "df"
   ]
  },
  {
   "cell_type": "markdown",
   "metadata": {},
   "source": [
    "## Adding Constant"
   ]
  },
  {
   "cell_type": "code",
   "execution_count": 21,
   "metadata": {
    "scrolled": true
   },
   "outputs": [
    {
     "data": {
      "text/html": [
       "<div>\n",
       "<style scoped>\n",
       "    .dataframe tbody tr th:only-of-type {\n",
       "        vertical-align: middle;\n",
       "    }\n",
       "\n",
       "    .dataframe tbody tr th {\n",
       "        vertical-align: top;\n",
       "    }\n",
       "\n",
       "    .dataframe thead th {\n",
       "        text-align: right;\n",
       "    }\n",
       "</style>\n",
       "<table border=\"1\" class=\"dataframe\">\n",
       "  <thead>\n",
       "    <tr style=\"text-align: right;\">\n",
       "      <th></th>\n",
       "      <th>const</th>\n",
       "      <th>x1</th>\n",
       "      <th>x2</th>\n",
       "      <th>x3</th>\n",
       "      <th>y</th>\n",
       "    </tr>\n",
       "  </thead>\n",
       "  <tbody>\n",
       "    <tr>\n",
       "      <th>0</th>\n",
       "      <td>1.0</td>\n",
       "      <td>2</td>\n",
       "      <td>3</td>\n",
       "      <td>5</td>\n",
       "      <td>12</td>\n",
       "    </tr>\n",
       "    <tr>\n",
       "      <th>1</th>\n",
       "      <td>1.0</td>\n",
       "      <td>4</td>\n",
       "      <td>9</td>\n",
       "      <td>8</td>\n",
       "      <td>14</td>\n",
       "    </tr>\n",
       "    <tr>\n",
       "      <th>2</th>\n",
       "      <td>1.0</td>\n",
       "      <td>6</td>\n",
       "      <td>4</td>\n",
       "      <td>4</td>\n",
       "      <td>16</td>\n",
       "    </tr>\n",
       "    <tr>\n",
       "      <th>3</th>\n",
       "      <td>1.0</td>\n",
       "      <td>7</td>\n",
       "      <td>7</td>\n",
       "      <td>8</td>\n",
       "      <td>14</td>\n",
       "    </tr>\n",
       "    <tr>\n",
       "      <th>4</th>\n",
       "      <td>1.0</td>\n",
       "      <td>9</td>\n",
       "      <td>15</td>\n",
       "      <td>14</td>\n",
       "      <td>12</td>\n",
       "    </tr>\n",
       "    <tr>\n",
       "      <th>5</th>\n",
       "      <td>1.0</td>\n",
       "      <td>12</td>\n",
       "      <td>12</td>\n",
       "      <td>12</td>\n",
       "      <td>17</td>\n",
       "    </tr>\n",
       "    <tr>\n",
       "      <th>6</th>\n",
       "      <td>1.0</td>\n",
       "      <td>15</td>\n",
       "      <td>13</td>\n",
       "      <td>14</td>\n",
       "      <td>12</td>\n",
       "    </tr>\n",
       "    <tr>\n",
       "      <th>7</th>\n",
       "      <td>1.0</td>\n",
       "      <td>18</td>\n",
       "      <td>14</td>\n",
       "      <td>11</td>\n",
       "      <td>22</td>\n",
       "    </tr>\n",
       "    <tr>\n",
       "      <th>8</th>\n",
       "      <td>1.0</td>\n",
       "      <td>20</td>\n",
       "      <td>12</td>\n",
       "      <td>12</td>\n",
       "      <td>25</td>\n",
       "    </tr>\n",
       "    <tr>\n",
       "      <th>9</th>\n",
       "      <td>1.0</td>\n",
       "      <td>24</td>\n",
       "      <td>25</td>\n",
       "      <td>24</td>\n",
       "      <td>30</td>\n",
       "    </tr>\n",
       "    <tr>\n",
       "      <th>10</th>\n",
       "      <td>1.0</td>\n",
       "      <td>26</td>\n",
       "      <td>30</td>\n",
       "      <td>22</td>\n",
       "      <td>28</td>\n",
       "    </tr>\n",
       "  </tbody>\n",
       "</table>\n",
       "</div>"
      ],
      "text/plain": [
       "    const  x1  x2  x3   y\n",
       "0     1.0   2   3   5  12\n",
       "1     1.0   4   9   8  14\n",
       "2     1.0   6   4   4  16\n",
       "3     1.0   7   7   8  14\n",
       "4     1.0   9  15  14  12\n",
       "5     1.0  12  12  12  17\n",
       "6     1.0  15  13  14  12\n",
       "7     1.0  18  14  11  22\n",
       "8     1.0  20  12  12  25\n",
       "9     1.0  24  25  24  30\n",
       "10    1.0  26  30  22  28"
      ]
     },
     "execution_count": 21,
     "metadata": {},
     "output_type": "execute_result"
    }
   ],
   "source": [
    "df = stm.add_constant(df)\n",
    "df   "
   ]
  },
  {
   "cell_type": "code",
   "execution_count": 26,
   "metadata": {
    "scrolled": true
   },
   "outputs": [],
   "source": [
    "predictor = df[[\"const\",\"x1\",\"x2\",\"x3\"]]\n",
    "target = df[[\"y\"]]\n"
   ]
  },
  {
   "cell_type": "markdown",
   "metadata": {},
   "source": [
    "## Calculating Equation through library for now from scratch it is done below file"
   ]
  },
  {
   "cell_type": "code",
   "execution_count": 27,
   "metadata": {},
   "outputs": [
    {
     "data": {
      "text/plain": [
       "const    10.069263\n",
       "x1        0.782152\n",
       "x2        0.245998\n",
       "x3       -0.418160\n",
       "dtype: float64"
      ]
     },
     "execution_count": 27,
     "metadata": {},
     "output_type": "execute_result"
    }
   ],
   "source": [
    "model = stm.OLS( target, predictor).fit()\n",
    "model.params"
   ]
  },
  {
   "cell_type": "markdown",
   "metadata": {},
   "source": [
    " ## so equation of linear regression is \n",
    " ## y = 10.069263 + 0.782152* x1 + 0.245998* x2 + x3*(-0.418160)"
   ]
  },
  {
   "cell_type": "code",
   "execution_count": 29,
   "metadata": {},
   "outputs": [],
   "source": [
    "df[\"y_pred\"] = 10.069263 + 0.782152* df[\"x1\"] + 0.245998* df[\"x2\"] + df[\"x3\"]*(-0.418160)"
   ]
  },
  {
   "cell_type": "code",
   "execution_count": 30,
   "metadata": {},
   "outputs": [
    {
     "data": {
      "text/html": [
       "<div>\n",
       "<style scoped>\n",
       "    .dataframe tbody tr th:only-of-type {\n",
       "        vertical-align: middle;\n",
       "    }\n",
       "\n",
       "    .dataframe tbody tr th {\n",
       "        vertical-align: top;\n",
       "    }\n",
       "\n",
       "    .dataframe thead th {\n",
       "        text-align: right;\n",
       "    }\n",
       "</style>\n",
       "<table border=\"1\" class=\"dataframe\">\n",
       "  <thead>\n",
       "    <tr style=\"text-align: right;\">\n",
       "      <th></th>\n",
       "      <th>const</th>\n",
       "      <th>x1</th>\n",
       "      <th>x2</th>\n",
       "      <th>x3</th>\n",
       "      <th>y</th>\n",
       "      <th>y_pred</th>\n",
       "    </tr>\n",
       "  </thead>\n",
       "  <tbody>\n",
       "    <tr>\n",
       "      <th>0</th>\n",
       "      <td>1.0</td>\n",
       "      <td>2</td>\n",
       "      <td>3</td>\n",
       "      <td>5</td>\n",
       "      <td>12</td>\n",
       "      <td>10.280761</td>\n",
       "    </tr>\n",
       "    <tr>\n",
       "      <th>1</th>\n",
       "      <td>1.0</td>\n",
       "      <td>4</td>\n",
       "      <td>9</td>\n",
       "      <td>8</td>\n",
       "      <td>14</td>\n",
       "      <td>12.066573</td>\n",
       "    </tr>\n",
       "    <tr>\n",
       "      <th>2</th>\n",
       "      <td>1.0</td>\n",
       "      <td>6</td>\n",
       "      <td>4</td>\n",
       "      <td>4</td>\n",
       "      <td>16</td>\n",
       "      <td>14.073527</td>\n",
       "    </tr>\n",
       "    <tr>\n",
       "      <th>3</th>\n",
       "      <td>1.0</td>\n",
       "      <td>7</td>\n",
       "      <td>7</td>\n",
       "      <td>8</td>\n",
       "      <td>14</td>\n",
       "      <td>13.921033</td>\n",
       "    </tr>\n",
       "    <tr>\n",
       "      <th>4</th>\n",
       "      <td>1.0</td>\n",
       "      <td>9</td>\n",
       "      <td>15</td>\n",
       "      <td>14</td>\n",
       "      <td>12</td>\n",
       "      <td>14.944361</td>\n",
       "    </tr>\n",
       "    <tr>\n",
       "      <th>5</th>\n",
       "      <td>1.0</td>\n",
       "      <td>12</td>\n",
       "      <td>12</td>\n",
       "      <td>12</td>\n",
       "      <td>17</td>\n",
       "      <td>17.389143</td>\n",
       "    </tr>\n",
       "    <tr>\n",
       "      <th>6</th>\n",
       "      <td>1.0</td>\n",
       "      <td>15</td>\n",
       "      <td>13</td>\n",
       "      <td>14</td>\n",
       "      <td>12</td>\n",
       "      <td>19.145277</td>\n",
       "    </tr>\n",
       "    <tr>\n",
       "      <th>7</th>\n",
       "      <td>1.0</td>\n",
       "      <td>18</td>\n",
       "      <td>14</td>\n",
       "      <td>11</td>\n",
       "      <td>22</td>\n",
       "      <td>22.992211</td>\n",
       "    </tr>\n",
       "    <tr>\n",
       "      <th>8</th>\n",
       "      <td>1.0</td>\n",
       "      <td>20</td>\n",
       "      <td>12</td>\n",
       "      <td>12</td>\n",
       "      <td>25</td>\n",
       "      <td>23.646359</td>\n",
       "    </tr>\n",
       "    <tr>\n",
       "      <th>9</th>\n",
       "      <td>1.0</td>\n",
       "      <td>24</td>\n",
       "      <td>25</td>\n",
       "      <td>24</td>\n",
       "      <td>30</td>\n",
       "      <td>24.955021</td>\n",
       "    </tr>\n",
       "    <tr>\n",
       "      <th>10</th>\n",
       "      <td>1.0</td>\n",
       "      <td>26</td>\n",
       "      <td>30</td>\n",
       "      <td>22</td>\n",
       "      <td>28</td>\n",
       "      <td>28.585635</td>\n",
       "    </tr>\n",
       "  </tbody>\n",
       "</table>\n",
       "</div>"
      ],
      "text/plain": [
       "    const  x1  x2  x3   y     y_pred\n",
       "0     1.0   2   3   5  12  10.280761\n",
       "1     1.0   4   9   8  14  12.066573\n",
       "2     1.0   6   4   4  16  14.073527\n",
       "3     1.0   7   7   8  14  13.921033\n",
       "4     1.0   9  15  14  12  14.944361\n",
       "5     1.0  12  12  12  17  17.389143\n",
       "6     1.0  15  13  14  12  19.145277\n",
       "7     1.0  18  14  11  22  22.992211\n",
       "8     1.0  20  12  12  25  23.646359\n",
       "9     1.0  24  25  24  30  24.955021\n",
       "10    1.0  26  30  22  28  28.585635"
      ]
     },
     "execution_count": 30,
     "metadata": {},
     "output_type": "execute_result"
    }
   ],
   "source": [
    "df"
   ]
  },
  {
   "cell_type": "code",
   "execution_count": 32,
   "metadata": {},
   "outputs": [
    {
     "data": {
      "text/plain": [
       "18.363636363636363"
      ]
     },
     "execution_count": 32,
     "metadata": {},
     "output_type": "execute_result"
    }
   ],
   "source": [
    "df[\"y\"].mean()"
   ]
  },
  {
   "cell_type": "markdown",
   "metadata": {},
   "source": [
    "## Calculating Residual value from scratch"
   ]
  },
  {
   "cell_type": "code",
   "execution_count": 34,
   "metadata": {},
   "outputs": [],
   "source": [
    "df[\"error\"] = df[\"y\"] - df[\"y_pred\"]\n",
    "df[\"SSE\"] = df[\"error\"]*df[\"error\"]\n",
    "df[\"SSR\"] = df[\"y_pred\"] - df[\"y\"].mean()*df[\"y_pred\"] - df[\"y\"].mean()\n",
    "df[\"SST\"] = df[\"SSE\"] + df[\"SSR\"]"
   ]
  },
  {
   "cell_type": "code",
   "execution_count": 37,
   "metadata": {},
   "outputs": [
    {
     "data": {
      "text/html": [
       "<div>\n",
       "<style scoped>\n",
       "    .dataframe tbody tr th:only-of-type {\n",
       "        vertical-align: middle;\n",
       "    }\n",
       "\n",
       "    .dataframe tbody tr th {\n",
       "        vertical-align: top;\n",
       "    }\n",
       "\n",
       "    .dataframe thead th {\n",
       "        text-align: right;\n",
       "    }\n",
       "</style>\n",
       "<table border=\"1\" class=\"dataframe\">\n",
       "  <thead>\n",
       "    <tr style=\"text-align: right;\">\n",
       "      <th></th>\n",
       "      <th>const</th>\n",
       "      <th>x1</th>\n",
       "      <th>x2</th>\n",
       "      <th>x3</th>\n",
       "      <th>y</th>\n",
       "      <th>y_pred</th>\n",
       "      <th>error</th>\n",
       "      <th>SSE</th>\n",
       "      <th>SSR</th>\n",
       "      <th>SST</th>\n",
       "    </tr>\n",
       "  </thead>\n",
       "  <tbody>\n",
       "    <tr>\n",
       "      <th>0</th>\n",
       "      <td>1.0</td>\n",
       "      <td>2</td>\n",
       "      <td>3</td>\n",
       "      <td>5</td>\n",
       "      <td>12</td>\n",
       "      <td>10.280761</td>\n",
       "      <td>1.719239</td>\n",
       "      <td>2.955783</td>\n",
       "      <td>-196.875032</td>\n",
       "      <td>-193.919249</td>\n",
       "    </tr>\n",
       "    <tr>\n",
       "      <th>1</th>\n",
       "      <td>1.0</td>\n",
       "      <td>4</td>\n",
       "      <td>9</td>\n",
       "      <td>8</td>\n",
       "      <td>14</td>\n",
       "      <td>12.066573</td>\n",
       "      <td>1.933427</td>\n",
       "      <td>3.738140</td>\n",
       "      <td>-227.883222</td>\n",
       "      <td>-224.145082</td>\n",
       "    </tr>\n",
       "    <tr>\n",
       "      <th>2</th>\n",
       "      <td>1.0</td>\n",
       "      <td>6</td>\n",
       "      <td>4</td>\n",
       "      <td>4</td>\n",
       "      <td>16</td>\n",
       "      <td>14.073527</td>\n",
       "      <td>1.926473</td>\n",
       "      <td>3.711298</td>\n",
       "      <td>-262.731242</td>\n",
       "      <td>-259.019943</td>\n",
       "    </tr>\n",
       "    <tr>\n",
       "      <th>3</th>\n",
       "      <td>1.0</td>\n",
       "      <td>7</td>\n",
       "      <td>7</td>\n",
       "      <td>8</td>\n",
       "      <td>14</td>\n",
       "      <td>13.921033</td>\n",
       "      <td>0.078967</td>\n",
       "      <td>0.006236</td>\n",
       "      <td>-260.083391</td>\n",
       "      <td>-260.077155</td>\n",
       "    </tr>\n",
       "    <tr>\n",
       "      <th>4</th>\n",
       "      <td>1.0</td>\n",
       "      <td>9</td>\n",
       "      <td>15</td>\n",
       "      <td>14</td>\n",
       "      <td>12</td>\n",
       "      <td>14.944361</td>\n",
       "      <td>-2.944361</td>\n",
       "      <td>8.669262</td>\n",
       "      <td>-277.852086</td>\n",
       "      <td>-269.182825</td>\n",
       "    </tr>\n",
       "    <tr>\n",
       "      <th>5</th>\n",
       "      <td>1.0</td>\n",
       "      <td>12</td>\n",
       "      <td>12</td>\n",
       "      <td>12</td>\n",
       "      <td>17</td>\n",
       "      <td>17.389143</td>\n",
       "      <td>-0.389143</td>\n",
       "      <td>0.151432</td>\n",
       "      <td>-320.302392</td>\n",
       "      <td>-320.150960</td>\n",
       "    </tr>\n",
       "    <tr>\n",
       "      <th>6</th>\n",
       "      <td>1.0</td>\n",
       "      <td>15</td>\n",
       "      <td>13</td>\n",
       "      <td>14</td>\n",
       "      <td>12</td>\n",
       "      <td>19.145277</td>\n",
       "      <td>-7.145277</td>\n",
       "      <td>51.054983</td>\n",
       "      <td>-350.795264</td>\n",
       "      <td>-299.740281</td>\n",
       "    </tr>\n",
       "    <tr>\n",
       "      <th>7</th>\n",
       "      <td>1.0</td>\n",
       "      <td>18</td>\n",
       "      <td>14</td>\n",
       "      <td>11</td>\n",
       "      <td>22</td>\n",
       "      <td>22.992211</td>\n",
       "      <td>-0.992211</td>\n",
       "      <td>0.984483</td>\n",
       "      <td>-417.592027</td>\n",
       "      <td>-416.607545</td>\n",
       "    </tr>\n",
       "    <tr>\n",
       "      <th>8</th>\n",
       "      <td>1.0</td>\n",
       "      <td>20</td>\n",
       "      <td>12</td>\n",
       "      <td>12</td>\n",
       "      <td>25</td>\n",
       "      <td>23.646359</td>\n",
       "      <td>1.353641</td>\n",
       "      <td>1.832344</td>\n",
       "      <td>-428.950415</td>\n",
       "      <td>-427.118071</td>\n",
       "    </tr>\n",
       "    <tr>\n",
       "      <th>9</th>\n",
       "      <td>1.0</td>\n",
       "      <td>24</td>\n",
       "      <td>25</td>\n",
       "      <td>24</td>\n",
       "      <td>30</td>\n",
       "      <td>24.955021</td>\n",
       "      <td>5.044979</td>\n",
       "      <td>25.451813</td>\n",
       "      <td>-451.673546</td>\n",
       "      <td>-426.221733</td>\n",
       "    </tr>\n",
       "    <tr>\n",
       "      <th>10</th>\n",
       "      <td>1.0</td>\n",
       "      <td>26</td>\n",
       "      <td>30</td>\n",
       "      <td>22</td>\n",
       "      <td>28</td>\n",
       "      <td>28.585635</td>\n",
       "      <td>-0.585635</td>\n",
       "      <td>0.342968</td>\n",
       "      <td>-514.714208</td>\n",
       "      <td>-514.371239</td>\n",
       "    </tr>\n",
       "  </tbody>\n",
       "</table>\n",
       "</div>"
      ],
      "text/plain": [
       "    const  x1  x2  x3   y     y_pred     error        SSE         SSR  \\\n",
       "0     1.0   2   3   5  12  10.280761  1.719239   2.955783 -196.875032   \n",
       "1     1.0   4   9   8  14  12.066573  1.933427   3.738140 -227.883222   \n",
       "2     1.0   6   4   4  16  14.073527  1.926473   3.711298 -262.731242   \n",
       "3     1.0   7   7   8  14  13.921033  0.078967   0.006236 -260.083391   \n",
       "4     1.0   9  15  14  12  14.944361 -2.944361   8.669262 -277.852086   \n",
       "5     1.0  12  12  12  17  17.389143 -0.389143   0.151432 -320.302392   \n",
       "6     1.0  15  13  14  12  19.145277 -7.145277  51.054983 -350.795264   \n",
       "7     1.0  18  14  11  22  22.992211 -0.992211   0.984483 -417.592027   \n",
       "8     1.0  20  12  12  25  23.646359  1.353641   1.832344 -428.950415   \n",
       "9     1.0  24  25  24  30  24.955021  5.044979  25.451813 -451.673546   \n",
       "10    1.0  26  30  22  28  28.585635 -0.585635   0.342968 -514.714208   \n",
       "\n",
       "           SST  \n",
       "0  -193.919249  \n",
       "1  -224.145082  \n",
       "2  -259.019943  \n",
       "3  -260.077155  \n",
       "4  -269.182825  \n",
       "5  -320.150960  \n",
       "6  -299.740281  \n",
       "7  -416.607545  \n",
       "8  -427.118071  \n",
       "9  -426.221733  \n",
       "10 -514.371239  "
      ]
     },
     "execution_count": 37,
     "metadata": {},
     "output_type": "execute_result"
    }
   ],
   "source": [
    "df"
   ]
  },
  {
   "cell_type": "markdown",
   "metadata": {},
   "source": [
    "# R^2 =   = 1 - SSE/SST"
   ]
  },
  {
   "cell_type": "code",
   "execution_count": 43,
   "metadata": {},
   "outputs": [],
   "source": [
    "Resd = 1 - df[\"SSE\"].sum()/df[\"SST\"].sum()"
   ]
  },
  {
   "cell_type": "code",
   "execution_count": 45,
   "metadata": {},
   "outputs": [
    {
     "data": {
      "text/plain": [
       "1.0273915692357436"
      ]
     },
     "execution_count": 45,
     "metadata": {},
     "output_type": "execute_result"
    }
   ],
   "source": [
    "Resd"
   ]
  },
  {
   "cell_type": "markdown",
   "metadata": {},
   "source": [
    "## Now calculating values of b0 , b1 , b2 , b3 from scratch "
   ]
  },
  {
   "cell_type": "markdown",
   "metadata": {},
   "source": [
    "## b = inv(Htrans.H)* Htans*y"
   ]
  },
  {
   "cell_type": "code",
   "execution_count": 52,
   "metadata": {},
   "outputs": [],
   "source": [
    "X = np.matrix(predictor)\n",
    "y = np.matrix(target)"
   ]
  },
  {
   "cell_type": "code",
   "execution_count": 53,
   "metadata": {},
   "outputs": [
    {
     "name": "stdout",
     "output_type": "stream",
     "text": [
      "(11, 4)\n",
      "(11, 1)\n"
     ]
    }
   ],
   "source": [
    "print(X.shape)\n",
    "print(y.shape)"
   ]
  },
  {
   "cell_type": "code",
   "execution_count": 54,
   "metadata": {},
   "outputs": [],
   "source": [
    "tx = np.transpose(X)"
   ]
  },
  {
   "cell_type": "code",
   "execution_count": 55,
   "metadata": {},
   "outputs": [
    {
     "data": {
      "text/plain": [
       "matrix([[  11.,  143.,  144.,  134.],\n",
       "        [ 143., 2531., 2461., 2188.],\n",
       "        [ 144., 2461., 2558., 2253.],\n",
       "        [ 134., 2188., 2253., 2030.]])"
      ]
     },
     "execution_count": 55,
     "metadata": {},
     "output_type": "execute_result"
    }
   ],
   "source": [
    "br = np.matmul(tx , X)\n",
    "br"
   ]
  },
  {
   "cell_type": "code",
   "execution_count": 56,
   "metadata": {},
   "outputs": [],
   "source": [
    "inv_br = (np.linalg.inv(br))"
   ]
  },
  {
   "cell_type": "code",
   "execution_count": 57,
   "metadata": {},
   "outputs": [],
   "source": [
    "br2 = np.matmul(tx , y)"
   ]
  },
  {
   "cell_type": "code",
   "execution_count": 58,
   "metadata": {},
   "outputs": [],
   "source": [
    "final_matrix = np.matmul(inv_br , br2)"
   ]
  },
  {
   "cell_type": "code",
   "execution_count": 59,
   "metadata": {},
   "outputs": [
    {
     "data": {
      "text/plain": [
       "matrix([[10.06926311],\n",
       "        [ 0.7821525 ],\n",
       "        [ 0.24599774],\n",
       "        [-0.41815952]])"
      ]
     },
     "execution_count": 59,
     "metadata": {},
     "output_type": "execute_result"
    }
   ],
   "source": [
    "final_matrix"
   ]
  },
  {
   "cell_type": "markdown",
   "metadata": {},
   "source": [
    "## We got same output using both methods "
   ]
  },
  {
   "cell_type": "code",
   "execution_count": 60,
   "metadata": {},
   "outputs": [
    {
     "data": {
      "text/plain": [
       "const    10.069263\n",
       "x1        0.782152\n",
       "x2        0.245998\n",
       "x3       -0.418160\n",
       "dtype: float64"
      ]
     },
     "execution_count": 60,
     "metadata": {},
     "output_type": "execute_result"
    }
   ],
   "source": [
    "model = stm.OLS( target, predictor).fit()\n",
    "model.params"
   ]
  },
  {
   "cell_type": "markdown",
   "metadata": {},
   "source": [
    "# Doing same on cars dataset "
   ]
  },
  {
   "cell_type": "code",
   "execution_count": 36,
   "metadata": {
    "scrolled": false
   },
   "outputs": [],
   "source": [
    "df = pd.read_csv(\"C:\\\\Users\\\\Shreyansh\\\\cars.csv\")"
   ]
  },
  {
   "cell_type": "code",
   "execution_count": 37,
   "metadata": {
    "scrolled": true
   },
   "outputs": [
    {
     "data": {
      "text/plain": [
       "Index(['Car', 'MPG', 'Cylinders', 'Displacement', 'Horsepower', 'Weight',\n",
       "       'Acceleration', 'Model', 'Origin'],\n",
       "      dtype='object')"
      ]
     },
     "execution_count": 37,
     "metadata": {},
     "output_type": "execute_result"
    }
   ],
   "source": [
    "df.columns"
   ]
  },
  {
   "cell_type": "code",
   "execution_count": 38,
   "metadata": {},
   "outputs": [],
   "source": [
    "df = df[[\"Cylinders\" , \"Horsepower\" , \"Weight\" , \"MPG\"]]"
   ]
  },
  {
   "cell_type": "code",
   "execution_count": 39,
   "metadata": {},
   "outputs": [],
   "source": [
    "from scipy.stats import zscore   ## importing library\n",
    "df = df.apply(zscore)  "
   ]
  },
  {
   "cell_type": "markdown",
   "metadata": {},
   "source": [
    "## Adding Constant"
   ]
  },
  {
   "cell_type": "code",
   "execution_count": 40,
   "metadata": {},
   "outputs": [
    {
     "data": {
      "text/html": [
       "<div>\n",
       "<style scoped>\n",
       "    .dataframe tbody tr th:only-of-type {\n",
       "        vertical-align: middle;\n",
       "    }\n",
       "\n",
       "    .dataframe tbody tr th {\n",
       "        vertical-align: top;\n",
       "    }\n",
       "\n",
       "    .dataframe thead th {\n",
       "        text-align: right;\n",
       "    }\n",
       "</style>\n",
       "<table border=\"1\" class=\"dataframe\">\n",
       "  <thead>\n",
       "    <tr style=\"text-align: right;\">\n",
       "      <th></th>\n",
       "      <th>const</th>\n",
       "      <th>Cylinders</th>\n",
       "      <th>Horsepower</th>\n",
       "      <th>Weight</th>\n",
       "      <th>MPG</th>\n",
       "    </tr>\n",
       "  </thead>\n",
       "  <tbody>\n",
       "    <tr>\n",
       "      <th>0</th>\n",
       "      <td>1.0</td>\n",
       "      <td>1.476349</td>\n",
       "      <td>0.654064</td>\n",
       "      <td>0.620107</td>\n",
       "      <td>-0.601952</td>\n",
       "    </tr>\n",
       "    <tr>\n",
       "      <th>1</th>\n",
       "      <td>1.0</td>\n",
       "      <td>1.476349</td>\n",
       "      <td>1.518887</td>\n",
       "      <td>0.843522</td>\n",
       "      <td>-0.959460</td>\n",
       "    </tr>\n",
       "    <tr>\n",
       "      <th>2</th>\n",
       "      <td>1.0</td>\n",
       "      <td>1.476349</td>\n",
       "      <td>1.148248</td>\n",
       "      <td>0.539725</td>\n",
       "      <td>-0.601952</td>\n",
       "    </tr>\n",
       "    <tr>\n",
       "      <th>3</th>\n",
       "      <td>1.0</td>\n",
       "      <td>1.476349</td>\n",
       "      <td>1.148248</td>\n",
       "      <td>0.536179</td>\n",
       "      <td>-0.840290</td>\n",
       "    </tr>\n",
       "    <tr>\n",
       "      <th>4</th>\n",
       "      <td>1.0</td>\n",
       "      <td>1.476349</td>\n",
       "      <td>0.901156</td>\n",
       "      <td>0.555092</td>\n",
       "      <td>-0.721121</td>\n",
       "    </tr>\n",
       "    <tr>\n",
       "      <th>...</th>\n",
       "      <td>...</td>\n",
       "      <td>...</td>\n",
       "      <td>...</td>\n",
       "      <td>...</td>\n",
       "      <td>...</td>\n",
       "    </tr>\n",
       "    <tr>\n",
       "      <th>401</th>\n",
       "      <td>1.0</td>\n",
       "      <td>-0.862764</td>\n",
       "      <td>-0.433142</td>\n",
       "      <td>-0.223904</td>\n",
       "      <td>0.470572</td>\n",
       "    </tr>\n",
       "    <tr>\n",
       "      <th>402</th>\n",
       "      <td>1.0</td>\n",
       "      <td>-0.862764</td>\n",
       "      <td>-1.273255</td>\n",
       "      <td>-1.004082</td>\n",
       "      <td>2.496450</td>\n",
       "    </tr>\n",
       "    <tr>\n",
       "      <th>403</th>\n",
       "      <td>1.0</td>\n",
       "      <td>-0.862764</td>\n",
       "      <td>-0.482560</td>\n",
       "      <td>-0.809037</td>\n",
       "      <td>1.066418</td>\n",
       "    </tr>\n",
       "    <tr>\n",
       "      <th>404</th>\n",
       "      <td>1.0</td>\n",
       "      <td>-0.862764</td>\n",
       "      <td>-0.606106</td>\n",
       "      <td>-0.418948</td>\n",
       "      <td>0.589741</td>\n",
       "    </tr>\n",
       "    <tr>\n",
       "      <th>405</th>\n",
       "      <td>1.0</td>\n",
       "      <td>-0.862764</td>\n",
       "      <td>-0.531979</td>\n",
       "      <td>-0.306650</td>\n",
       "      <td>0.947249</td>\n",
       "    </tr>\n",
       "  </tbody>\n",
       "</table>\n",
       "<p>406 rows × 5 columns</p>\n",
       "</div>"
      ],
      "text/plain": [
       "     const  Cylinders  Horsepower    Weight       MPG\n",
       "0      1.0   1.476349    0.654064  0.620107 -0.601952\n",
       "1      1.0   1.476349    1.518887  0.843522 -0.959460\n",
       "2      1.0   1.476349    1.148248  0.539725 -0.601952\n",
       "3      1.0   1.476349    1.148248  0.536179 -0.840290\n",
       "4      1.0   1.476349    0.901156  0.555092 -0.721121\n",
       "..     ...        ...         ...       ...       ...\n",
       "401    1.0  -0.862764   -0.433142 -0.223904  0.470572\n",
       "402    1.0  -0.862764   -1.273255 -1.004082  2.496450\n",
       "403    1.0  -0.862764   -0.482560 -0.809037  1.066418\n",
       "404    1.0  -0.862764   -0.606106 -0.418948  0.589741\n",
       "405    1.0  -0.862764   -0.531979 -0.306650  0.947249\n",
       "\n",
       "[406 rows x 5 columns]"
      ]
     },
     "execution_count": 40,
     "metadata": {},
     "output_type": "execute_result"
    }
   ],
   "source": [
    "df = stm.add_constant(df)\n",
    "df"
   ]
  },
  {
   "cell_type": "code",
   "execution_count": 42,
   "metadata": {
    "scrolled": true
   },
   "outputs": [],
   "source": [
    "predictor = df[[\"const\",\"Cylinders\",\"Horsepower\",\"Weight\"]]\n",
    "target = df[[\"MPG\"]]\n"
   ]
  },
  {
   "cell_type": "markdown",
   "metadata": {},
   "source": [
    "## Calculating Equation through librarMPG for now from scratch it is done below file"
   ]
  },
  {
   "cell_type": "code",
   "execution_count": 43,
   "metadata": {},
   "outputs": [
    {
     "data": {
      "text/plain": [
       "const         7.979728e-17\n",
       "Cylinders    -8.258019e-02\n",
       "Horsepower   -2.002489e-01\n",
       "Weight       -5.452111e-01\n",
       "dtype: float64"
      ]
     },
     "execution_count": 43,
     "metadata": {},
     "output_type": "execute_result"
    }
   ],
   "source": [
    "model = stm.OLS( target, predictor).fit()\n",
    "model.params"
   ]
  },
  {
   "cell_type": "markdown",
   "metadata": {},
   "source": [
    " ## so equation of linear regression is \n",
    " ## MPG = 7.979728e-17 + -8.258019e-02* Cylinders + -2.002489e-01* Horsepower + Weight*(-5.452111e-01)"
   ]
  },
  {
   "cell_type": "code",
   "execution_count": 44,
   "metadata": {},
   "outputs": [],
   "source": [
    "df[\"MPG_pred\"] = 10.069263 + 0.782152* df[\"Cylinders\"] + 0.245998* df[\"Horsepower\"] + df[\"Weight\"]*(-0.418160)"
   ]
  },
  {
   "cell_type": "code",
   "execution_count": 45,
   "metadata": {},
   "outputs": [
    {
     "data": {
      "text/html": [
       "<div>\n",
       "<style scoped>\n",
       "    .dataframe tbody tr th:only-of-type {\n",
       "        vertical-align: middle;\n",
       "    }\n",
       "\n",
       "    .dataframe tbody tr th {\n",
       "        vertical-align: top;\n",
       "    }\n",
       "\n",
       "    .dataframe thead th {\n",
       "        text-align: right;\n",
       "    }\n",
       "</style>\n",
       "<table border=\"1\" class=\"dataframe\">\n",
       "  <thead>\n",
       "    <tr style=\"text-align: right;\">\n",
       "      <th></th>\n",
       "      <th>const</th>\n",
       "      <th>Cylinders</th>\n",
       "      <th>Horsepower</th>\n",
       "      <th>Weight</th>\n",
       "      <th>MPG</th>\n",
       "      <th>MPG_pred</th>\n",
       "    </tr>\n",
       "  </thead>\n",
       "  <tbody>\n",
       "    <tr>\n",
       "      <th>0</th>\n",
       "      <td>1.0</td>\n",
       "      <td>1.476349</td>\n",
       "      <td>0.654064</td>\n",
       "      <td>0.620107</td>\n",
       "      <td>-0.601952</td>\n",
       "      <td>11.125587</td>\n",
       "    </tr>\n",
       "    <tr>\n",
       "      <th>1</th>\n",
       "      <td>1.0</td>\n",
       "      <td>1.476349</td>\n",
       "      <td>1.518887</td>\n",
       "      <td>0.843522</td>\n",
       "      <td>-0.959460</td>\n",
       "      <td>11.244908</td>\n",
       "    </tr>\n",
       "    <tr>\n",
       "      <th>2</th>\n",
       "      <td>1.0</td>\n",
       "      <td>1.476349</td>\n",
       "      <td>1.148248</td>\n",
       "      <td>0.539725</td>\n",
       "      <td>-0.601952</td>\n",
       "      <td>11.280768</td>\n",
       "    </tr>\n",
       "    <tr>\n",
       "      <th>3</th>\n",
       "      <td>1.0</td>\n",
       "      <td>1.476349</td>\n",
       "      <td>1.148248</td>\n",
       "      <td>0.536179</td>\n",
       "      <td>-0.840290</td>\n",
       "      <td>11.282251</td>\n",
       "    </tr>\n",
       "    <tr>\n",
       "      <th>4</th>\n",
       "      <td>1.0</td>\n",
       "      <td>1.476349</td>\n",
       "      <td>0.901156</td>\n",
       "      <td>0.555092</td>\n",
       "      <td>-0.721121</td>\n",
       "      <td>11.213558</td>\n",
       "    </tr>\n",
       "    <tr>\n",
       "      <th>...</th>\n",
       "      <td>...</td>\n",
       "      <td>...</td>\n",
       "      <td>...</td>\n",
       "      <td>...</td>\n",
       "      <td>...</td>\n",
       "      <td>...</td>\n",
       "    </tr>\n",
       "    <tr>\n",
       "      <th>401</th>\n",
       "      <td>1.0</td>\n",
       "      <td>-0.862764</td>\n",
       "      <td>-0.433142</td>\n",
       "      <td>-0.223904</td>\n",
       "      <td>0.470572</td>\n",
       "      <td>9.381526</td>\n",
       "    </tr>\n",
       "    <tr>\n",
       "      <th>402</th>\n",
       "      <td>1.0</td>\n",
       "      <td>-0.862764</td>\n",
       "      <td>-1.273255</td>\n",
       "      <td>-1.004082</td>\n",
       "      <td>2.496450</td>\n",
       "      <td>9.501099</td>\n",
       "    </tr>\n",
       "    <tr>\n",
       "      <th>403</th>\n",
       "      <td>1.0</td>\n",
       "      <td>-0.862764</td>\n",
       "      <td>-0.482560</td>\n",
       "      <td>-0.809037</td>\n",
       "      <td>1.066418</td>\n",
       "      <td>9.614049</td>\n",
       "    </tr>\n",
       "    <tr>\n",
       "      <th>404</th>\n",
       "      <td>1.0</td>\n",
       "      <td>-0.862764</td>\n",
       "      <td>-0.606106</td>\n",
       "      <td>-0.418948</td>\n",
       "      <td>0.589741</td>\n",
       "      <td>9.420537</td>\n",
       "    </tr>\n",
       "    <tr>\n",
       "      <th>405</th>\n",
       "      <td>1.0</td>\n",
       "      <td>-0.862764</td>\n",
       "      <td>-0.531979</td>\n",
       "      <td>-0.306650</td>\n",
       "      <td>0.947249</td>\n",
       "      <td>9.391813</td>\n",
       "    </tr>\n",
       "  </tbody>\n",
       "</table>\n",
       "<p>406 rows × 6 columns</p>\n",
       "</div>"
      ],
      "text/plain": [
       "     const  Cylinders  Horsepower    Weight       MPG   MPG_pred\n",
       "0      1.0   1.476349    0.654064  0.620107 -0.601952  11.125587\n",
       "1      1.0   1.476349    1.518887  0.843522 -0.959460  11.244908\n",
       "2      1.0   1.476349    1.148248  0.539725 -0.601952  11.280768\n",
       "3      1.0   1.476349    1.148248  0.536179 -0.840290  11.282251\n",
       "4      1.0   1.476349    0.901156  0.555092 -0.721121  11.213558\n",
       "..     ...        ...         ...       ...       ...        ...\n",
       "401    1.0  -0.862764   -0.433142 -0.223904  0.470572   9.381526\n",
       "402    1.0  -0.862764   -1.273255 -1.004082  2.496450   9.501099\n",
       "403    1.0  -0.862764   -0.482560 -0.809037  1.066418   9.614049\n",
       "404    1.0  -0.862764   -0.606106 -0.418948  0.589741   9.420537\n",
       "405    1.0  -0.862764   -0.531979 -0.306650  0.947249   9.391813\n",
       "\n",
       "[406 rows x 6 columns]"
      ]
     },
     "execution_count": 45,
     "metadata": {},
     "output_type": "execute_result"
    }
   ],
   "source": [
    "df"
   ]
  },
  {
   "cell_type": "code",
   "execution_count": 46,
   "metadata": {},
   "outputs": [
    {
     "data": {
      "text/plain": [
       "1.3864115110466856e-16"
      ]
     },
     "execution_count": 46,
     "metadata": {},
     "output_type": "execute_result"
    }
   ],
   "source": [
    "df[\"MPG\"].mean()"
   ]
  },
  {
   "cell_type": "markdown",
   "metadata": {},
   "source": [
    "## Calculating Residual value from scratch"
   ]
  },
  {
   "cell_type": "code",
   "execution_count": 47,
   "metadata": {},
   "outputs": [],
   "source": [
    "df[\"error\"] = df[\"MPG\"] - df[\"MPG_pred\"]\n",
    "df[\"SSE\"] = df[\"error\"]*df[\"error\"]\n",
    "df[\"SSR\"] = df[\"MPG_pred\"] - df[\"MPG\"].mean()*df[\"MPG_pred\"] - df[\"MPG\"].mean()\n",
    "df[\"SST\"] = df[\"SSE\"] + df[\"SSR\"]"
   ]
  },
  {
   "cell_type": "code",
   "execution_count": 48,
   "metadata": {},
   "outputs": [
    {
     "data": {
      "text/html": [
       "<div>\n",
       "<style scoped>\n",
       "    .dataframe tbody tr th:only-of-type {\n",
       "        vertical-align: middle;\n",
       "    }\n",
       "\n",
       "    .dataframe tbody tr th {\n",
       "        vertical-align: top;\n",
       "    }\n",
       "\n",
       "    .dataframe thead th {\n",
       "        text-align: right;\n",
       "    }\n",
       "</style>\n",
       "<table border=\"1\" class=\"dataframe\">\n",
       "  <thead>\n",
       "    <tr style=\"text-align: right;\">\n",
       "      <th></th>\n",
       "      <th>const</th>\n",
       "      <th>Cylinders</th>\n",
       "      <th>Horsepower</th>\n",
       "      <th>Weight</th>\n",
       "      <th>MPG</th>\n",
       "      <th>MPG_pred</th>\n",
       "      <th>error</th>\n",
       "      <th>SSE</th>\n",
       "      <th>SSR</th>\n",
       "      <th>SST</th>\n",
       "    </tr>\n",
       "  </thead>\n",
       "  <tbody>\n",
       "    <tr>\n",
       "      <th>0</th>\n",
       "      <td>1.0</td>\n",
       "      <td>1.476349</td>\n",
       "      <td>0.654064</td>\n",
       "      <td>0.620107</td>\n",
       "      <td>-0.601952</td>\n",
       "      <td>11.125587</td>\n",
       "      <td>-11.727539</td>\n",
       "      <td>137.535160</td>\n",
       "      <td>11.125587</td>\n",
       "      <td>148.660747</td>\n",
       "    </tr>\n",
       "    <tr>\n",
       "      <th>1</th>\n",
       "      <td>1.0</td>\n",
       "      <td>1.476349</td>\n",
       "      <td>1.518887</td>\n",
       "      <td>0.843522</td>\n",
       "      <td>-0.959460</td>\n",
       "      <td>11.244908</td>\n",
       "      <td>-12.204368</td>\n",
       "      <td>148.946597</td>\n",
       "      <td>11.244908</td>\n",
       "      <td>160.191505</td>\n",
       "    </tr>\n",
       "    <tr>\n",
       "      <th>2</th>\n",
       "      <td>1.0</td>\n",
       "      <td>1.476349</td>\n",
       "      <td>1.148248</td>\n",
       "      <td>0.539725</td>\n",
       "      <td>-0.601952</td>\n",
       "      <td>11.280768</td>\n",
       "      <td>-11.882719</td>\n",
       "      <td>141.199021</td>\n",
       "      <td>11.280768</td>\n",
       "      <td>152.479789</td>\n",
       "    </tr>\n",
       "    <tr>\n",
       "      <th>3</th>\n",
       "      <td>1.0</td>\n",
       "      <td>1.476349</td>\n",
       "      <td>1.148248</td>\n",
       "      <td>0.536179</td>\n",
       "      <td>-0.840290</td>\n",
       "      <td>11.282251</td>\n",
       "      <td>-12.122541</td>\n",
       "      <td>146.955998</td>\n",
       "      <td>11.282251</td>\n",
       "      <td>158.238249</td>\n",
       "    </tr>\n",
       "    <tr>\n",
       "      <th>4</th>\n",
       "      <td>1.0</td>\n",
       "      <td>1.476349</td>\n",
       "      <td>0.901156</td>\n",
       "      <td>0.555092</td>\n",
       "      <td>-0.721121</td>\n",
       "      <td>11.213558</td>\n",
       "      <td>-11.934679</td>\n",
       "      <td>142.436553</td>\n",
       "      <td>11.213558</td>\n",
       "      <td>153.650111</td>\n",
       "    </tr>\n",
       "    <tr>\n",
       "      <th>...</th>\n",
       "      <td>...</td>\n",
       "      <td>...</td>\n",
       "      <td>...</td>\n",
       "      <td>...</td>\n",
       "      <td>...</td>\n",
       "      <td>...</td>\n",
       "      <td>...</td>\n",
       "      <td>...</td>\n",
       "      <td>...</td>\n",
       "      <td>...</td>\n",
       "    </tr>\n",
       "    <tr>\n",
       "      <th>401</th>\n",
       "      <td>1.0</td>\n",
       "      <td>-0.862764</td>\n",
       "      <td>-0.433142</td>\n",
       "      <td>-0.223904</td>\n",
       "      <td>0.470572</td>\n",
       "      <td>9.381526</td>\n",
       "      <td>-8.910954</td>\n",
       "      <td>79.405103</td>\n",
       "      <td>9.381526</td>\n",
       "      <td>88.786629</td>\n",
       "    </tr>\n",
       "    <tr>\n",
       "      <th>402</th>\n",
       "      <td>1.0</td>\n",
       "      <td>-0.862764</td>\n",
       "      <td>-1.273255</td>\n",
       "      <td>-1.004082</td>\n",
       "      <td>2.496450</td>\n",
       "      <td>9.501099</td>\n",
       "      <td>-7.004649</td>\n",
       "      <td>49.065112</td>\n",
       "      <td>9.501099</td>\n",
       "      <td>58.566211</td>\n",
       "    </tr>\n",
       "    <tr>\n",
       "      <th>403</th>\n",
       "      <td>1.0</td>\n",
       "      <td>-0.862764</td>\n",
       "      <td>-0.482560</td>\n",
       "      <td>-0.809037</td>\n",
       "      <td>1.066418</td>\n",
       "      <td>9.614049</td>\n",
       "      <td>-8.547630</td>\n",
       "      <td>73.061984</td>\n",
       "      <td>9.614049</td>\n",
       "      <td>82.676033</td>\n",
       "    </tr>\n",
       "    <tr>\n",
       "      <th>404</th>\n",
       "      <td>1.0</td>\n",
       "      <td>-0.862764</td>\n",
       "      <td>-0.606106</td>\n",
       "      <td>-0.418948</td>\n",
       "      <td>0.589741</td>\n",
       "      <td>9.420537</td>\n",
       "      <td>-8.830796</td>\n",
       "      <td>77.982953</td>\n",
       "      <td>9.420537</td>\n",
       "      <td>87.403490</td>\n",
       "    </tr>\n",
       "    <tr>\n",
       "      <th>405</th>\n",
       "      <td>1.0</td>\n",
       "      <td>-0.862764</td>\n",
       "      <td>-0.531979</td>\n",
       "      <td>-0.306650</td>\n",
       "      <td>0.947249</td>\n",
       "      <td>9.391813</td>\n",
       "      <td>-8.444564</td>\n",
       "      <td>71.310668</td>\n",
       "      <td>9.391813</td>\n",
       "      <td>80.702482</td>\n",
       "    </tr>\n",
       "  </tbody>\n",
       "</table>\n",
       "<p>406 rows × 10 columns</p>\n",
       "</div>"
      ],
      "text/plain": [
       "     const  Cylinders  Horsepower    Weight       MPG   MPG_pred      error  \\\n",
       "0      1.0   1.476349    0.654064  0.620107 -0.601952  11.125587 -11.727539   \n",
       "1      1.0   1.476349    1.518887  0.843522 -0.959460  11.244908 -12.204368   \n",
       "2      1.0   1.476349    1.148248  0.539725 -0.601952  11.280768 -11.882719   \n",
       "3      1.0   1.476349    1.148248  0.536179 -0.840290  11.282251 -12.122541   \n",
       "4      1.0   1.476349    0.901156  0.555092 -0.721121  11.213558 -11.934679   \n",
       "..     ...        ...         ...       ...       ...        ...        ...   \n",
       "401    1.0  -0.862764   -0.433142 -0.223904  0.470572   9.381526  -8.910954   \n",
       "402    1.0  -0.862764   -1.273255 -1.004082  2.496450   9.501099  -7.004649   \n",
       "403    1.0  -0.862764   -0.482560 -0.809037  1.066418   9.614049  -8.547630   \n",
       "404    1.0  -0.862764   -0.606106 -0.418948  0.589741   9.420537  -8.830796   \n",
       "405    1.0  -0.862764   -0.531979 -0.306650  0.947249   9.391813  -8.444564   \n",
       "\n",
       "            SSE        SSR         SST  \n",
       "0    137.535160  11.125587  148.660747  \n",
       "1    148.946597  11.244908  160.191505  \n",
       "2    141.199021  11.280768  152.479789  \n",
       "3    146.955998  11.282251  158.238249  \n",
       "4    142.436553  11.213558  153.650111  \n",
       "..          ...        ...         ...  \n",
       "401   79.405103   9.381526   88.786629  \n",
       "402   49.065112   9.501099   58.566211  \n",
       "403   73.061984   9.614049   82.676033  \n",
       "404   77.982953   9.420537   87.403490  \n",
       "405   71.310668   9.391813   80.702482  \n",
       "\n",
       "[406 rows x 10 columns]"
      ]
     },
     "execution_count": 48,
     "metadata": {},
     "output_type": "execute_result"
    }
   ],
   "source": [
    "df"
   ]
  },
  {
   "cell_type": "markdown",
   "metadata": {},
   "source": [
    "# R^2 =   = 1 - SSE/SST"
   ]
  },
  {
   "cell_type": "code",
   "execution_count": 49,
   "metadata": {},
   "outputs": [],
   "source": [
    "Resd = 1 - df[\"SSE\"].sum()/df[\"SST\"].sum()"
   ]
  },
  {
   "cell_type": "code",
   "execution_count": 50,
   "metadata": {},
   "outputs": [
    {
     "data": {
      "text/plain": [
       "0.08854877047112364"
      ]
     },
     "execution_count": 50,
     "metadata": {},
     "output_type": "execute_result"
    }
   ],
   "source": [
    "Resd"
   ]
  },
  {
   "cell_type": "markdown",
   "metadata": {},
   "source": [
    "### Now calculating values of b0 , b1 , b2 , b3 from scratch\n",
    "### b = inv(Htrans.H)* Htans*y on cars dataset"
   ]
  },
  {
   "cell_type": "code",
   "execution_count": 52,
   "metadata": {},
   "outputs": [],
   "source": [
    "cars = pd.read_csv(\"C:\\\\Users\\\\Shreyansh\\\\cars.csv\")"
   ]
  },
  {
   "cell_type": "code",
   "execution_count": null,
   "metadata": {},
   "outputs": [],
   "source": []
  },
  {
   "cell_type": "code",
   "execution_count": 53,
   "metadata": {},
   "outputs": [
    {
     "data": {
      "text/html": [
       "<div>\n",
       "<style scoped>\n",
       "    .dataframe tbody tr th:only-of-type {\n",
       "        vertical-align: middle;\n",
       "    }\n",
       "\n",
       "    .dataframe tbody tr th {\n",
       "        vertical-align: top;\n",
       "    }\n",
       "\n",
       "    .dataframe thead th {\n",
       "        text-align: right;\n",
       "    }\n",
       "</style>\n",
       "<table border=\"1\" class=\"dataframe\">\n",
       "  <thead>\n",
       "    <tr style=\"text-align: right;\">\n",
       "      <th></th>\n",
       "      <th>Car</th>\n",
       "      <th>MPG</th>\n",
       "      <th>Cylinders</th>\n",
       "      <th>Displacement</th>\n",
       "      <th>Horsepower</th>\n",
       "      <th>Weight</th>\n",
       "      <th>Acceleration</th>\n",
       "      <th>Model</th>\n",
       "      <th>Origin</th>\n",
       "    </tr>\n",
       "  </thead>\n",
       "  <tbody>\n",
       "    <tr>\n",
       "      <th>0</th>\n",
       "      <td>Chevrolet Chevelle Malibu</td>\n",
       "      <td>18.0</td>\n",
       "      <td>8</td>\n",
       "      <td>307.0</td>\n",
       "      <td>130</td>\n",
       "      <td>3504</td>\n",
       "      <td>12.0</td>\n",
       "      <td>70</td>\n",
       "      <td>US</td>\n",
       "    </tr>\n",
       "    <tr>\n",
       "      <th>1</th>\n",
       "      <td>Buick Skylark 320</td>\n",
       "      <td>15.0</td>\n",
       "      <td>8</td>\n",
       "      <td>350.0</td>\n",
       "      <td>165</td>\n",
       "      <td>3693</td>\n",
       "      <td>11.5</td>\n",
       "      <td>70</td>\n",
       "      <td>US</td>\n",
       "    </tr>\n",
       "    <tr>\n",
       "      <th>2</th>\n",
       "      <td>Plymouth Satellite</td>\n",
       "      <td>18.0</td>\n",
       "      <td>8</td>\n",
       "      <td>318.0</td>\n",
       "      <td>150</td>\n",
       "      <td>3436</td>\n",
       "      <td>11.0</td>\n",
       "      <td>70</td>\n",
       "      <td>US</td>\n",
       "    </tr>\n",
       "    <tr>\n",
       "      <th>3</th>\n",
       "      <td>AMC Rebel SST</td>\n",
       "      <td>16.0</td>\n",
       "      <td>8</td>\n",
       "      <td>304.0</td>\n",
       "      <td>150</td>\n",
       "      <td>3433</td>\n",
       "      <td>12.0</td>\n",
       "      <td>70</td>\n",
       "      <td>US</td>\n",
       "    </tr>\n",
       "    <tr>\n",
       "      <th>4</th>\n",
       "      <td>Ford Torino</td>\n",
       "      <td>17.0</td>\n",
       "      <td>8</td>\n",
       "      <td>302.0</td>\n",
       "      <td>140</td>\n",
       "      <td>3449</td>\n",
       "      <td>10.5</td>\n",
       "      <td>70</td>\n",
       "      <td>US</td>\n",
       "    </tr>\n",
       "  </tbody>\n",
       "</table>\n",
       "</div>"
      ],
      "text/plain": [
       "                         Car   MPG  Cylinders  Displacement  Horsepower  \\\n",
       "0  Chevrolet Chevelle Malibu  18.0          8         307.0         130   \n",
       "1          Buick Skylark 320  15.0          8         350.0         165   \n",
       "2         Plymouth Satellite  18.0          8         318.0         150   \n",
       "3              AMC Rebel SST  16.0          8         304.0         150   \n",
       "4                Ford Torino  17.0          8         302.0         140   \n",
       "\n",
       "   Weight  Acceleration  Model Origin  \n",
       "0    3504          12.0     70     US  \n",
       "1    3693          11.5     70     US  \n",
       "2    3436          11.0     70     US  \n",
       "3    3433          12.0     70     US  \n",
       "4    3449          10.5     70     US  "
      ]
     },
     "execution_count": 53,
     "metadata": {},
     "output_type": "execute_result"
    }
   ],
   "source": [
    "cars.head()"
   ]
  },
  {
   "cell_type": "code",
   "execution_count": 54,
   "metadata": {},
   "outputs": [],
   "source": [
    "cars2 = cars.loc[(cars.MPG != 0 ) & (cars.Horsepower != 0),]"
   ]
  },
  {
   "cell_type": "code",
   "execution_count": 55,
   "metadata": {},
   "outputs": [
    {
     "data": {
      "text/plain": [
       "(392, 9)"
      ]
     },
     "execution_count": 55,
     "metadata": {},
     "output_type": "execute_result"
    }
   ],
   "source": [
    "cars2.shape"
   ]
  },
  {
   "cell_type": "code",
   "execution_count": 56,
   "metadata": {
    "scrolled": true
   },
   "outputs": [],
   "source": [
    "X = cars2[[\"Weight\" ,\"Acceleration\" ,\"Horsepower\" ]]\n",
    "X = stm.add_constant(X)\n",
    "y = cars2.MPG"
   ]
  },
  {
   "cell_type": "code",
   "execution_count": 57,
   "metadata": {},
   "outputs": [
    {
     "data": {
      "text/html": [
       "<div>\n",
       "<style scoped>\n",
       "    .dataframe tbody tr th:only-of-type {\n",
       "        vertical-align: middle;\n",
       "    }\n",
       "\n",
       "    .dataframe tbody tr th {\n",
       "        vertical-align: top;\n",
       "    }\n",
       "\n",
       "    .dataframe thead th {\n",
       "        text-align: right;\n",
       "    }\n",
       "</style>\n",
       "<table border=\"1\" class=\"dataframe\">\n",
       "  <thead>\n",
       "    <tr style=\"text-align: right;\">\n",
       "      <th></th>\n",
       "      <th>const</th>\n",
       "      <th>Weight</th>\n",
       "      <th>Acceleration</th>\n",
       "      <th>Horsepower</th>\n",
       "    </tr>\n",
       "  </thead>\n",
       "  <tbody>\n",
       "    <tr>\n",
       "      <th>0</th>\n",
       "      <td>1.0</td>\n",
       "      <td>3504</td>\n",
       "      <td>12.0</td>\n",
       "      <td>130</td>\n",
       "    </tr>\n",
       "    <tr>\n",
       "      <th>1</th>\n",
       "      <td>1.0</td>\n",
       "      <td>3693</td>\n",
       "      <td>11.5</td>\n",
       "      <td>165</td>\n",
       "    </tr>\n",
       "    <tr>\n",
       "      <th>2</th>\n",
       "      <td>1.0</td>\n",
       "      <td>3436</td>\n",
       "      <td>11.0</td>\n",
       "      <td>150</td>\n",
       "    </tr>\n",
       "    <tr>\n",
       "      <th>3</th>\n",
       "      <td>1.0</td>\n",
       "      <td>3433</td>\n",
       "      <td>12.0</td>\n",
       "      <td>150</td>\n",
       "    </tr>\n",
       "    <tr>\n",
       "      <th>4</th>\n",
       "      <td>1.0</td>\n",
       "      <td>3449</td>\n",
       "      <td>10.5</td>\n",
       "      <td>140</td>\n",
       "    </tr>\n",
       "  </tbody>\n",
       "</table>\n",
       "</div>"
      ],
      "text/plain": [
       "   const  Weight  Acceleration  Horsepower\n",
       "0    1.0    3504          12.0         130\n",
       "1    1.0    3693          11.5         165\n",
       "2    1.0    3436          11.0         150\n",
       "3    1.0    3433          12.0         150\n",
       "4    1.0    3449          10.5         140"
      ]
     },
     "execution_count": 57,
     "metadata": {},
     "output_type": "execute_result"
    }
   ],
   "source": [
    "X.head()"
   ]
  },
  {
   "cell_type": "code",
   "execution_count": 58,
   "metadata": {
    "scrolled": true
   },
   "outputs": [
    {
     "data": {
      "text/plain": [
       "0    18.0\n",
       "1    15.0\n",
       "2    18.0\n",
       "3    16.0\n",
       "4    17.0\n",
       "Name: MPG, dtype: float64"
      ]
     },
     "execution_count": 58,
     "metadata": {},
     "output_type": "execute_result"
    }
   ],
   "source": [
    "y.head()"
   ]
  },
  {
   "cell_type": "markdown",
   "metadata": {},
   "source": [
    "## Linear Regression Statsmodels Solution"
   ]
  },
  {
   "cell_type": "code",
   "execution_count": 59,
   "metadata": {},
   "outputs": [
    {
     "data": {
      "text/plain": [
       "const           45.678293\n",
       "Weight          -0.005789\n",
       "Acceleration    -0.002066\n",
       "Horsepower      -0.047496\n",
       "dtype: float64"
      ]
     },
     "execution_count": 59,
     "metadata": {},
     "output_type": "execute_result"
    }
   ],
   "source": [
    "model = stm.OLS(y , X).fit()\n",
    "model.params"
   ]
  },
  {
   "cell_type": "markdown",
   "metadata": {},
   "source": [
    "# Linear Regression Statsmodels Solution¶ - Using Matrix"
   ]
  },
  {
   "cell_type": "code",
   "execution_count": 60,
   "metadata": {},
   "outputs": [],
   "source": [
    "## CONVERTIN DATA FRAME INTO MATRIX\n",
    "\n",
    "X = np.matrix(X)\n",
    "y = np.matrix(y)"
   ]
  },
  {
   "cell_type": "code",
   "execution_count": 61,
   "metadata": {},
   "outputs": [
    {
     "data": {
      "text/plain": [
       "(392, 4)"
      ]
     },
     "execution_count": 61,
     "metadata": {},
     "output_type": "execute_result"
    }
   ],
   "source": [
    "X.shape"
   ]
  },
  {
   "cell_type": "code",
   "execution_count": 62,
   "metadata": {},
   "outputs": [
    {
     "data": {
      "text/plain": [
       "matrix([[1.000e+00, 3.504e+03, 1.200e+01, 1.300e+02],\n",
       "        [1.000e+00, 3.693e+03, 1.150e+01, 1.650e+02],\n",
       "        [1.000e+00, 3.436e+03, 1.100e+01, 1.500e+02],\n",
       "        ...,\n",
       "        [1.000e+00, 2.295e+03, 1.160e+01, 8.400e+01],\n",
       "        [1.000e+00, 2.625e+03, 1.860e+01, 7.900e+01],\n",
       "        [1.000e+00, 2.720e+03, 1.940e+01, 8.200e+01]])"
      ]
     },
     "execution_count": 62,
     "metadata": {},
     "output_type": "execute_result"
    }
   ],
   "source": [
    "X"
   ]
  },
  {
   "cell_type": "code",
   "execution_count": 63,
   "metadata": {},
   "outputs": [
    {
     "data": {
      "text/plain": [
       "(1, 392)"
      ]
     },
     "execution_count": 63,
     "metadata": {},
     "output_type": "execute_result"
    }
   ],
   "source": [
    "y.shape"
   ]
  },
  {
   "cell_type": "code",
   "execution_count": 64,
   "metadata": {},
   "outputs": [
    {
     "data": {
      "text/plain": [
       "matrix([[1.000e+00, 1.000e+00, 1.000e+00, ..., 1.000e+00, 1.000e+00,\n",
       "         1.000e+00],\n",
       "        [3.504e+03, 3.693e+03, 3.436e+03, ..., 2.295e+03, 2.625e+03,\n",
       "         2.720e+03],\n",
       "        [1.200e+01, 1.150e+01, 1.100e+01, ..., 1.160e+01, 1.860e+01,\n",
       "         1.940e+01],\n",
       "        [1.300e+02, 1.650e+02, 1.500e+02, ..., 8.400e+01, 7.900e+01,\n",
       "         8.200e+01]])"
      ]
     },
     "execution_count": 64,
     "metadata": {},
     "output_type": "execute_result"
    }
   ],
   "source": [
    "## transpose\n",
    "tx = np.transpose(X)\n",
    "tx"
   ]
  },
  {
   "cell_type": "code",
   "execution_count": 65,
   "metadata": {},
   "outputs": [],
   "source": [
    "## closed from solution for the coefficients"
   ]
  },
  {
   "cell_type": "code",
   "execution_count": 66,
   "metadata": {
    "scrolled": true
   },
   "outputs": [
    {
     "data": {
      "text/plain": [
       "(matrix([[ 3.21828758e-01,  2.19957681e-05, -1.55585778e-02,\n",
       "          -1.36854493e-03],\n",
       "         [ 2.19957681e-05,  1.85062876e-08, -1.94258251e-06,\n",
       "          -4.49026162e-07],\n",
       "         [-1.55585778e-02, -1.94258251e-06,  8.43933285e-04,\n",
       "           7.87497484e-05],\n",
       "         [-1.36854493e-03, -4.49026162e-07,  7.87497484e-05,\n",
       "           1.41829354e-05]]),\n",
       " matrix([[1.000e+00, 1.000e+00, 1.000e+00, ..., 1.000e+00, 1.000e+00,\n",
       "          1.000e+00],\n",
       "         [3.504e+03, 3.693e+03, 3.436e+03, ..., 2.295e+03, 2.625e+03,\n",
       "          2.720e+03],\n",
       "         [1.200e+01, 1.150e+01, 1.100e+01, ..., 1.160e+01, 1.860e+01,\n",
       "          1.940e+01],\n",
       "         [1.300e+02, 1.650e+02, 1.500e+02, ..., 8.400e+01, 7.900e+01,\n",
       "          8.200e+01]]))"
      ]
     },
     "execution_count": 66,
     "metadata": {},
     "output_type": "execute_result"
    }
   ],
   "source": [
    "(np.linalg.inv(np.matmul(tx ,X)) ,tx)"
   ]
  },
  {
   "cell_type": "markdown",
   "metadata": {},
   "source": [
    "### b = inv(Htrans.H)* Htans*y"
   ]
  },
  {
   "cell_type": "code",
   "execution_count": 67,
   "metadata": {},
   "outputs": [
    {
     "data": {
      "text/plain": [
       "matrix([[ 4.56782929e+01],\n",
       "        [-5.78940259e-03],\n",
       "        [-2.06565785e-03],\n",
       "        [-4.74956153e-02]])"
      ]
     },
     "execution_count": 67,
     "metadata": {},
     "output_type": "execute_result"
    }
   ],
   "source": [
    "np.matmul(np.matmul(np.linalg.inv(np.matmul(tx , X)) ,tx), np.transpose(y))"
   ]
  },
  {
   "cell_type": "code",
   "execution_count": null,
   "metadata": {},
   "outputs": [],
   "source": []
  },
  {
   "cell_type": "markdown",
   "metadata": {},
   "source": [
    "## Recommendation system "
   ]
  },
  {
   "cell_type": "code",
   "execution_count": 22,
   "metadata": {},
   "outputs": [],
   "source": [
    "import numpy as np\n",
    "import pandas as pd\n",
    "import matplotlib.pyplot as plt\n",
    "import seaborn as sns\n",
    "sns.set_style('whitegrid')"
   ]
  },
  {
   "cell_type": "code",
   "execution_count": 2,
   "metadata": {},
   "outputs": [],
   "source": [
    "col_names = [\"user_id\",\"item_id\",\"rating\",\"timestamp\"]"
   ]
  },
  {
   "cell_type": "code",
   "execution_count": 4,
   "metadata": {},
   "outputs": [],
   "source": [
    "# Importing a data frame of MovieLens Data Set\n",
    "\n",
    "df = pd.read_csv(\"u.data\", sep=\"\\t\", names=col_names)"
   ]
  },
  {
   "cell_type": "code",
   "execution_count": 6,
   "metadata": {},
   "outputs": [
    {
     "data": {
      "text/html": [
       "<div>\n",
       "<style scoped>\n",
       "    .dataframe tbody tr th:only-of-type {\n",
       "        vertical-align: middle;\n",
       "    }\n",
       "\n",
       "    .dataframe tbody tr th {\n",
       "        vertical-align: top;\n",
       "    }\n",
       "\n",
       "    .dataframe thead th {\n",
       "        text-align: right;\n",
       "    }\n",
       "</style>\n",
       "<table border=\"1\" class=\"dataframe\">\n",
       "  <thead>\n",
       "    <tr style=\"text-align: right;\">\n",
       "      <th></th>\n",
       "      <th>user_id</th>\n",
       "      <th>item_id</th>\n",
       "      <th>rating</th>\n",
       "      <th>timestamp</th>\n",
       "    </tr>\n",
       "  </thead>\n",
       "  <tbody>\n",
       "    <tr>\n",
       "      <th>0</th>\n",
       "      <td>0</td>\n",
       "      <td>50</td>\n",
       "      <td>5</td>\n",
       "      <td>881250949</td>\n",
       "    </tr>\n",
       "    <tr>\n",
       "      <th>1</th>\n",
       "      <td>0</td>\n",
       "      <td>172</td>\n",
       "      <td>5</td>\n",
       "      <td>881250949</td>\n",
       "    </tr>\n",
       "    <tr>\n",
       "      <th>2</th>\n",
       "      <td>0</td>\n",
       "      <td>133</td>\n",
       "      <td>1</td>\n",
       "      <td>881250949</td>\n",
       "    </tr>\n",
       "    <tr>\n",
       "      <th>3</th>\n",
       "      <td>196</td>\n",
       "      <td>242</td>\n",
       "      <td>3</td>\n",
       "      <td>881250949</td>\n",
       "    </tr>\n",
       "    <tr>\n",
       "      <th>4</th>\n",
       "      <td>186</td>\n",
       "      <td>302</td>\n",
       "      <td>3</td>\n",
       "      <td>891717742</td>\n",
       "    </tr>\n",
       "  </tbody>\n",
       "</table>\n",
       "</div>"
      ],
      "text/plain": [
       "   user_id  item_id  rating  timestamp\n",
       "0        0       50       5  881250949\n",
       "1        0      172       5  881250949\n",
       "2        0      133       1  881250949\n",
       "3      196      242       3  881250949\n",
       "4      186      302       3  891717742"
      ]
     },
     "execution_count": 6,
     "metadata": {},
     "output_type": "execute_result"
    }
   ],
   "source": [
    "df.head()\n",
    "\n",
    "# User Id: Is Individual User ID\n",
    "# Item Id: Individual Movie Id\n",
    "# Rating: Rating Provided By The USer for Particular Movie\n",
    "# Timestamp: is What time User given Rating for the Particular movie"
   ]
  },
  {
   "cell_type": "code",
   "execution_count": 7,
   "metadata": {},
   "outputs": [],
   "source": [
    "# Importing a Movie Title Data Frame\n",
    "\n",
    "movie_title =  pd.read_csv(\"Movie_Id_Titles\")"
   ]
  },
  {
   "cell_type": "code",
   "execution_count": 8,
   "metadata": {},
   "outputs": [
    {
     "data": {
      "text/html": [
       "<div>\n",
       "<style scoped>\n",
       "    .dataframe tbody tr th:only-of-type {\n",
       "        vertical-align: middle;\n",
       "    }\n",
       "\n",
       "    .dataframe tbody tr th {\n",
       "        vertical-align: top;\n",
       "    }\n",
       "\n",
       "    .dataframe thead th {\n",
       "        text-align: right;\n",
       "    }\n",
       "</style>\n",
       "<table border=\"1\" class=\"dataframe\">\n",
       "  <thead>\n",
       "    <tr style=\"text-align: right;\">\n",
       "      <th></th>\n",
       "      <th>item_id</th>\n",
       "      <th>title</th>\n",
       "    </tr>\n",
       "  </thead>\n",
       "  <tbody>\n",
       "    <tr>\n",
       "      <th>0</th>\n",
       "      <td>1</td>\n",
       "      <td>Toy Story (1995)</td>\n",
       "    </tr>\n",
       "    <tr>\n",
       "      <th>1</th>\n",
       "      <td>2</td>\n",
       "      <td>GoldenEye (1995)</td>\n",
       "    </tr>\n",
       "    <tr>\n",
       "      <th>2</th>\n",
       "      <td>3</td>\n",
       "      <td>Four Rooms (1995)</td>\n",
       "    </tr>\n",
       "    <tr>\n",
       "      <th>3</th>\n",
       "      <td>4</td>\n",
       "      <td>Get Shorty (1995)</td>\n",
       "    </tr>\n",
       "    <tr>\n",
       "      <th>4</th>\n",
       "      <td>5</td>\n",
       "      <td>Copycat (1995)</td>\n",
       "    </tr>\n",
       "  </tbody>\n",
       "</table>\n",
       "</div>"
      ],
      "text/plain": [
       "   item_id              title\n",
       "0        1   Toy Story (1995)\n",
       "1        2   GoldenEye (1995)\n",
       "2        3  Four Rooms (1995)\n",
       "3        4  Get Shorty (1995)\n",
       "4        5     Copycat (1995)"
      ]
     },
     "execution_count": 8,
     "metadata": {},
     "output_type": "execute_result"
    }
   ],
   "source": [
    "movie_title.head()"
   ]
  },
  {
   "cell_type": "code",
   "execution_count": 10,
   "metadata": {},
   "outputs": [],
   "source": [
    "# Merging the 2 Data Frame on the basis of Item Id\n",
    "\n",
    "ratings = pd.merge(df, movie_title, on=\"item_id\")"
   ]
  },
  {
   "cell_type": "code",
   "execution_count": 11,
   "metadata": {},
   "outputs": [
    {
     "data": {
      "text/html": [
       "<div>\n",
       "<style scoped>\n",
       "    .dataframe tbody tr th:only-of-type {\n",
       "        vertical-align: middle;\n",
       "    }\n",
       "\n",
       "    .dataframe tbody tr th {\n",
       "        vertical-align: top;\n",
       "    }\n",
       "\n",
       "    .dataframe thead th {\n",
       "        text-align: right;\n",
       "    }\n",
       "</style>\n",
       "<table border=\"1\" class=\"dataframe\">\n",
       "  <thead>\n",
       "    <tr style=\"text-align: right;\">\n",
       "      <th></th>\n",
       "      <th>user_id</th>\n",
       "      <th>item_id</th>\n",
       "      <th>rating</th>\n",
       "      <th>timestamp</th>\n",
       "      <th>title</th>\n",
       "    </tr>\n",
       "  </thead>\n",
       "  <tbody>\n",
       "    <tr>\n",
       "      <th>0</th>\n",
       "      <td>0</td>\n",
       "      <td>50</td>\n",
       "      <td>5</td>\n",
       "      <td>881250949</td>\n",
       "      <td>Star Wars (1977)</td>\n",
       "    </tr>\n",
       "    <tr>\n",
       "      <th>1</th>\n",
       "      <td>290</td>\n",
       "      <td>50</td>\n",
       "      <td>5</td>\n",
       "      <td>880473582</td>\n",
       "      <td>Star Wars (1977)</td>\n",
       "    </tr>\n",
       "    <tr>\n",
       "      <th>2</th>\n",
       "      <td>79</td>\n",
       "      <td>50</td>\n",
       "      <td>4</td>\n",
       "      <td>891271545</td>\n",
       "      <td>Star Wars (1977)</td>\n",
       "    </tr>\n",
       "    <tr>\n",
       "      <th>3</th>\n",
       "      <td>2</td>\n",
       "      <td>50</td>\n",
       "      <td>5</td>\n",
       "      <td>888552084</td>\n",
       "      <td>Star Wars (1977)</td>\n",
       "    </tr>\n",
       "    <tr>\n",
       "      <th>4</th>\n",
       "      <td>8</td>\n",
       "      <td>50</td>\n",
       "      <td>5</td>\n",
       "      <td>879362124</td>\n",
       "      <td>Star Wars (1977)</td>\n",
       "    </tr>\n",
       "  </tbody>\n",
       "</table>\n",
       "</div>"
      ],
      "text/plain": [
       "   user_id  item_id  rating  timestamp             title\n",
       "0        0       50       5  881250949  Star Wars (1977)\n",
       "1      290       50       5  880473582  Star Wars (1977)\n",
       "2       79       50       4  891271545  Star Wars (1977)\n",
       "3        2       50       5  888552084  Star Wars (1977)\n",
       "4        8       50       5  879362124  Star Wars (1977)"
      ]
     },
     "execution_count": 11,
     "metadata": {},
     "output_type": "execute_result"
    }
   ],
   "source": [
    "ratings.head()"
   ]
  },
  {
   "cell_type": "code",
   "execution_count": null,
   "metadata": {},
   "outputs": [],
   "source": []
  },
  {
   "cell_type": "code",
   "execution_count": 16,
   "metadata": {},
   "outputs": [
    {
     "data": {
      "text/plain": [
       "title\n",
       "Marlene Dietrich: Shadow and Light (1996)     5.0\n",
       "Prefontaine (1997)                            5.0\n",
       "Santa with Muscles (1996)                     5.0\n",
       "Star Kid (1997)                               5.0\n",
       "Someone Else's America (1995)                 5.0\n",
       "Name: rating, dtype: float64"
      ]
     },
     "execution_count": 16,
     "metadata": {},
     "output_type": "execute_result"
    }
   ],
   "source": [
    "# Movies with Highest Rating\n",
    "\n",
    "ratings.groupby('title')['rating'].mean().sort_values(ascending=False).head()"
   ]
  },
  {
   "cell_type": "markdown",
   "metadata": {},
   "source": [
    "<b> In the above Result we are unsure of How Many user has given the Ratings."
   ]
  },
  {
   "cell_type": "code",
   "execution_count": null,
   "metadata": {},
   "outputs": [],
   "source": []
  },
  {
   "cell_type": "code",
   "execution_count": 17,
   "metadata": {},
   "outputs": [
    {
     "data": {
      "text/plain": [
       "title\n",
       "Star Wars (1977)             584\n",
       "Contact (1997)               509\n",
       "Fargo (1996)                 508\n",
       "Return of the Jedi (1983)    507\n",
       "Liar Liar (1997)             485\n",
       "Name: rating, dtype: int64"
      ]
     },
     "execution_count": 17,
     "metadata": {},
     "output_type": "execute_result"
    }
   ],
   "source": [
    "# Movies With most numbers of Ratings\n",
    "\n",
    "ratings.groupby('title')['rating'].count().sort_values(ascending=False).head()"
   ]
  },
  {
   "cell_type": "code",
   "execution_count": null,
   "metadata": {},
   "outputs": [],
   "source": []
  },
  {
   "cell_type": "code",
   "execution_count": 20,
   "metadata": {},
   "outputs": [
    {
     "data": {
      "text/html": [
       "<div>\n",
       "<style scoped>\n",
       "    .dataframe tbody tr th:only-of-type {\n",
       "        vertical-align: middle;\n",
       "    }\n",
       "\n",
       "    .dataframe tbody tr th {\n",
       "        vertical-align: top;\n",
       "    }\n",
       "\n",
       "    .dataframe thead th {\n",
       "        text-align: right;\n",
       "    }\n",
       "</style>\n",
       "<table border=\"1\" class=\"dataframe\">\n",
       "  <thead>\n",
       "    <tr style=\"text-align: right;\">\n",
       "      <th></th>\n",
       "      <th>rating</th>\n",
       "      <th>No. Of Rating</th>\n",
       "    </tr>\n",
       "    <tr>\n",
       "      <th>title</th>\n",
       "      <th></th>\n",
       "      <th></th>\n",
       "    </tr>\n",
       "  </thead>\n",
       "  <tbody>\n",
       "    <tr>\n",
       "      <th>'Til There Was You (1997)</th>\n",
       "      <td>2.333333</td>\n",
       "      <td>9</td>\n",
       "    </tr>\n",
       "    <tr>\n",
       "      <th>1-900 (1994)</th>\n",
       "      <td>2.600000</td>\n",
       "      <td>5</td>\n",
       "    </tr>\n",
       "    <tr>\n",
       "      <th>101 Dalmatians (1996)</th>\n",
       "      <td>2.908257</td>\n",
       "      <td>109</td>\n",
       "    </tr>\n",
       "    <tr>\n",
       "      <th>12 Angry Men (1957)</th>\n",
       "      <td>4.344000</td>\n",
       "      <td>125</td>\n",
       "    </tr>\n",
       "    <tr>\n",
       "      <th>187 (1997)</th>\n",
       "      <td>3.024390</td>\n",
       "      <td>41</td>\n",
       "    </tr>\n",
       "  </tbody>\n",
       "</table>\n",
       "</div>"
      ],
      "text/plain": [
       "                             rating  No. Of Rating\n",
       "title                                             \n",
       "'Til There Was You (1997)  2.333333              9\n",
       "1-900 (1994)               2.600000              5\n",
       "101 Dalmatians (1996)      2.908257            109\n",
       "12 Angry Men (1957)        4.344000            125\n",
       "187 (1997)                 3.024390             41"
      ]
     },
     "execution_count": 20,
     "metadata": {},
     "output_type": "execute_result"
    }
   ],
   "source": [
    "# Creating the Data Frame of Mean Ratings and No of User rated for the particular movie\n",
    "\n",
    "ratings2 = pd.DataFrame(ratings.groupby('title')['rating'].mean())\n",
    "ratings2['No. Of Rating'] =  pd.DataFrame(ratings.groupby('title')['rating'].count())\n",
    "ratings2.head()\n"
   ]
  },
  {
   "cell_type": "code",
   "execution_count": null,
   "metadata": {},
   "outputs": [],
   "source": []
  },
  {
   "cell_type": "code",
   "execution_count": 23,
   "metadata": {},
   "outputs": [
    {
     "data": {
      "text/plain": [
       "<AxesSubplot:xlabel='No. Of Rating', ylabel='Count'>"
      ]
     },
     "execution_count": 23,
     "metadata": {},
     "output_type": "execute_result"
    },
    {
     "data": {
      "image/png": "[encoded data removed]",
      "text/plain": [
       "<Figure size 432x288 with 1 Axes>"
      ]
     },
     "metadata": {},
     "output_type": "display_data"
    }
   ],
   "source": [
    "# Ploting No. of Ratings\n",
    "\n",
    "sns.histplot(ratings2['No. Of Rating'], bins=70)"
   ]
  },
  {
   "cell_type": "code",
   "execution_count": null,
   "metadata": {},
   "outputs": [],
   "source": []
  },
  {
   "cell_type": "code",
   "execution_count": 25,
   "metadata": {},
   "outputs": [
    {
     "data": {
      "text/plain": [
       "<AxesSubplot:xlabel='rating', ylabel='Count'>"
      ]
     },
     "execution_count": 25,
     "metadata": {},
     "output_type": "execute_result"
    },
    {
     "data": {
      "image/png": "[encoded data removed]",
      "text/plain": [
       "<Figure size 432x288 with 1 Axes>"
      ]
     },
     "metadata": {},
     "output_type": "display_data"
    }
   ],
   "source": [
    "# Ploting Ratings\n",
    "\n",
    "sns.histplot(ratings2['rating'], bins=60)"
   ]
  },
  {
   "cell_type": "code",
   "execution_count": null,
   "metadata": {},
   "outputs": [],
   "source": []
  },
  {
   "cell_type": "code",
   "execution_count": 26,
   "metadata": {},
   "outputs": [
    {
     "data": {
      "text/plain": [
       "<seaborn.axisgrid.JointGrid at 0x19e88c85df0>"
      ]
     },
     "execution_count": 26,
     "metadata": {},
     "output_type": "execute_result"
    },
    {
     "data": {
      "image/png": "[encoded data removed]",
      "text/plain": [
       "<Figure size 432x432 with 3 Axes>"
      ]
     },
     "metadata": {},
     "output_type": "display_data"
    }
   ],
   "source": [
    "# Plotting a Relation Between Average Rating and No. of Rating\n",
    "\n",
    "sns.jointplot(data=ratings2, x='rating', y='No. Of Rating', alpha=0.5)"
   ]
  },
  {
   "cell_type": "code",
   "execution_count": null,
   "metadata": {},
   "outputs": [],
   "source": []
  },
  {
   "cell_type": "code",
   "execution_count": 29,
   "metadata": {},
   "outputs": [],
   "source": [
    "# Create matrix containing User Id on one Axis and Movie Titles on another Axis\n",
    "\n",
    "movie_mat = ratings.pivot_table(index='user_id', columns=\"title\", values=\"rating\")"
   ]
  },
  {
   "cell_type": "code",
   "execution_count": 30,
   "metadata": {},
   "outputs": [
    {
     "data": {
      "text/html": [
       "<div>\n",
       "<style scoped>\n",
       "    .dataframe tbody tr th:only-of-type {\n",
       "        vertical-align: middle;\n",
       "    }\n",
       "\n",
       "    .dataframe tbody tr th {\n",
       "        vertical-align: top;\n",
       "    }\n",
       "\n",
       "    .dataframe thead th {\n",
       "        text-align: right;\n",
       "    }\n",
       "</style>\n",
       "<table border=\"1\" class=\"dataframe\">\n",
       "  <thead>\n",
       "    <tr style=\"text-align: right;\">\n",
       "      <th>title</th>\n",
       "      <th>'Til There Was You (1997)</th>\n",
       "      <th>1-900 (1994)</th>\n",
       "      <th>101 Dalmatians (1996)</th>\n",
       "      <th>12 Angry Men (1957)</th>\n",
       "      <th>187 (1997)</th>\n",
       "      <th>2 Days in the Valley (1996)</th>\n",
       "      <th>20,000 Leagues Under the Sea (1954)</th>\n",
       "      <th>2001: A Space Odyssey (1968)</th>\n",
       "      <th>3 Ninjas: High Noon At Mega Mountain (1998)</th>\n",
       "      <th>39 Steps, The (1935)</th>\n",
       "      <th>...</th>\n",
       "      <th>Yankee Zulu (1994)</th>\n",
       "      <th>Year of the Horse (1997)</th>\n",
       "      <th>You So Crazy (1994)</th>\n",
       "      <th>Young Frankenstein (1974)</th>\n",
       "      <th>Young Guns (1988)</th>\n",
       "      <th>Young Guns II (1990)</th>\n",
       "      <th>Young Poisoner's Handbook, The (1995)</th>\n",
       "      <th>Zeus and Roxanne (1997)</th>\n",
       "      <th>unknown</th>\n",
       "      <th>Á köldum klaka (Cold Fever) (1994)</th>\n",
       "    </tr>\n",
       "    <tr>\n",
       "      <th>user_id</th>\n",
       "      <th></th>\n",
       "      <th></th>\n",
       "      <th></th>\n",
       "      <th></th>\n",
       "      <th></th>\n",
       "      <th></th>\n",
       "      <th></th>\n",
       "      <th></th>\n",
       "      <th></th>\n",
       "      <th></th>\n",
       "      <th></th>\n",
       "      <th></th>\n",
       "      <th></th>\n",
       "      <th></th>\n",
       "      <th></th>\n",
       "      <th></th>\n",
       "      <th></th>\n",
       "      <th></th>\n",
       "      <th></th>\n",
       "      <th></th>\n",
       "      <th></th>\n",
       "    </tr>\n",
       "  </thead>\n",
       "  <tbody>\n",
       "    <tr>\n",
       "      <th>0</th>\n",
       "      <td>NaN</td>\n",
       "      <td>NaN</td>\n",
       "      <td>NaN</td>\n",
       "      <td>NaN</td>\n",
       "      <td>NaN</td>\n",
       "      <td>NaN</td>\n",
       "      <td>NaN</td>\n",
       "      <td>NaN</td>\n",
       "      <td>NaN</td>\n",
       "      <td>NaN</td>\n",
       "      <td>...</td>\n",
       "      <td>NaN</td>\n",
       "      <td>NaN</td>\n",
       "      <td>NaN</td>\n",
       "      <td>NaN</td>\n",
       "      <td>NaN</td>\n",
       "      <td>NaN</td>\n",
       "      <td>NaN</td>\n",
       "      <td>NaN</td>\n",
       "      <td>NaN</td>\n",
       "      <td>NaN</td>\n",
       "    </tr>\n",
       "    <tr>\n",
       "      <th>1</th>\n",
       "      <td>NaN</td>\n",
       "      <td>NaN</td>\n",
       "      <td>2.0</td>\n",
       "      <td>5.0</td>\n",
       "      <td>NaN</td>\n",
       "      <td>NaN</td>\n",
       "      <td>3.0</td>\n",
       "      <td>4.0</td>\n",
       "      <td>NaN</td>\n",
       "      <td>NaN</td>\n",
       "      <td>...</td>\n",
       "      <td>NaN</td>\n",
       "      <td>NaN</td>\n",
       "      <td>NaN</td>\n",
       "      <td>5.0</td>\n",
       "      <td>3.0</td>\n",
       "      <td>NaN</td>\n",
       "      <td>NaN</td>\n",
       "      <td>NaN</td>\n",
       "      <td>4.0</td>\n",
       "      <td>NaN</td>\n",
       "    </tr>\n",
       "    <tr>\n",
       "      <th>2</th>\n",
       "      <td>NaN</td>\n",
       "      <td>NaN</td>\n",
       "      <td>NaN</td>\n",
       "      <td>NaN</td>\n",
       "      <td>NaN</td>\n",
       "      <td>NaN</td>\n",
       "      <td>NaN</td>\n",
       "      <td>NaN</td>\n",
       "      <td>1.0</td>\n",
       "      <td>NaN</td>\n",
       "      <td>...</td>\n",
       "      <td>NaN</td>\n",
       "      <td>NaN</td>\n",
       "      <td>NaN</td>\n",
       "      <td>NaN</td>\n",
       "      <td>NaN</td>\n",
       "      <td>NaN</td>\n",
       "      <td>NaN</td>\n",
       "      <td>NaN</td>\n",
       "      <td>NaN</td>\n",
       "      <td>NaN</td>\n",
       "    </tr>\n",
       "    <tr>\n",
       "      <th>3</th>\n",
       "      <td>NaN</td>\n",
       "      <td>NaN</td>\n",
       "      <td>NaN</td>\n",
       "      <td>NaN</td>\n",
       "      <td>2.0</td>\n",
       "      <td>NaN</td>\n",
       "      <td>NaN</td>\n",
       "      <td>NaN</td>\n",
       "      <td>NaN</td>\n",
       "      <td>NaN</td>\n",
       "      <td>...</td>\n",
       "      <td>NaN</td>\n",
       "      <td>NaN</td>\n",
       "      <td>NaN</td>\n",
       "      <td>NaN</td>\n",
       "      <td>NaN</td>\n",
       "      <td>NaN</td>\n",
       "      <td>NaN</td>\n",
       "      <td>NaN</td>\n",
       "      <td>NaN</td>\n",
       "      <td>NaN</td>\n",
       "    </tr>\n",
       "    <tr>\n",
       "      <th>4</th>\n",
       "      <td>NaN</td>\n",
       "      <td>NaN</td>\n",
       "      <td>NaN</td>\n",
       "      <td>NaN</td>\n",
       "      <td>NaN</td>\n",
       "      <td>NaN</td>\n",
       "      <td>NaN</td>\n",
       "      <td>NaN</td>\n",
       "      <td>NaN</td>\n",
       "      <td>NaN</td>\n",
       "      <td>...</td>\n",
       "      <td>NaN</td>\n",
       "      <td>NaN</td>\n",
       "      <td>NaN</td>\n",
       "      <td>NaN</td>\n",
       "      <td>NaN</td>\n",
       "      <td>NaN</td>\n",
       "      <td>NaN</td>\n",
       "      <td>NaN</td>\n",
       "      <td>NaN</td>\n",
       "      <td>NaN</td>\n",
       "    </tr>\n",
       "  </tbody>\n",
       "</table>\n",
       "<p>5 rows × 1664 columns</p>\n",
       "</div>"
      ],
      "text/plain": [
       "title    'Til There Was You (1997)  1-900 (1994)  101 Dalmatians (1996)  \\\n",
       "user_id                                                                   \n",
       "0                              NaN           NaN                    NaN   \n",
       "1                              NaN           NaN                    2.0   \n",
       "2                              NaN           NaN                    NaN   \n",
       "3                              NaN           NaN                    NaN   \n",
       "4                              NaN           NaN                    NaN   \n",
       "\n",
       "title    12 Angry Men (1957)  187 (1997)  2 Days in the Valley (1996)  \\\n",
       "user_id                                                                 \n",
       "0                        NaN         NaN                          NaN   \n",
       "1                        5.0         NaN                          NaN   \n",
       "2                        NaN         NaN                          NaN   \n",
       "3                        NaN         2.0                          NaN   \n",
       "4                        NaN         NaN                          NaN   \n",
       "\n",
       "title    20,000 Leagues Under the Sea (1954)  2001: A Space Odyssey (1968)  \\\n",
       "user_id                                                                      \n",
       "0                                        NaN                           NaN   \n",
       "1                                        3.0                           4.0   \n",
       "2                                        NaN                           NaN   \n",
       "3                                        NaN                           NaN   \n",
       "4                                        NaN                           NaN   \n",
       "\n",
       "title    3 Ninjas: High Noon At Mega Mountain (1998)  39 Steps, The (1935)  \\\n",
       "user_id                                                                      \n",
       "0                                                NaN                   NaN   \n",
       "1                                                NaN                   NaN   \n",
       "2                                                1.0                   NaN   \n",
       "3                                                NaN                   NaN   \n",
       "4                                                NaN                   NaN   \n",
       "\n",
       "title    ...  Yankee Zulu (1994)  Year of the Horse (1997)  \\\n",
       "user_id  ...                                                 \n",
       "0        ...                 NaN                       NaN   \n",
       "1        ...                 NaN                       NaN   \n",
       "2        ...                 NaN                       NaN   \n",
       "3        ...                 NaN                       NaN   \n",
       "4        ...                 NaN                       NaN   \n",
       "\n",
       "title    You So Crazy (1994)  Young Frankenstein (1974)  Young Guns (1988)  \\\n",
       "user_id                                                                      \n",
       "0                        NaN                        NaN                NaN   \n",
       "1                        NaN                        5.0                3.0   \n",
       "2                        NaN                        NaN                NaN   \n",
       "3                        NaN                        NaN                NaN   \n",
       "4                        NaN                        NaN                NaN   \n",
       "\n",
       "title    Young Guns II (1990)  Young Poisoner's Handbook, The (1995)  \\\n",
       "user_id                                                                \n",
       "0                         NaN                                    NaN   \n",
       "1                         NaN                                    NaN   \n",
       "2                         NaN                                    NaN   \n",
       "3                         NaN                                    NaN   \n",
       "4                         NaN                                    NaN   \n",
       "\n",
       "title    Zeus and Roxanne (1997)  unknown  Á köldum klaka (Cold Fever) (1994)  \n",
       "user_id                                                                        \n",
       "0                            NaN      NaN                                 NaN  \n",
       "1                            NaN      4.0                                 NaN  \n",
       "2                            NaN      NaN                                 NaN  \n",
       "3                            NaN      NaN                                 NaN  \n",
       "4                            NaN      NaN                                 NaN  \n",
       "\n",
       "[5 rows x 1664 columns]"
      ]
     },
     "execution_count": 30,
     "metadata": {},
     "output_type": "execute_result"
    }
   ],
   "source": [
    "movie_mat.head()"
   ]
  },
  {
   "cell_type": "code",
   "execution_count": null,
   "metadata": {},
   "outputs": [],
   "source": []
  },
  {
   "cell_type": "code",
   "execution_count": 34,
   "metadata": {},
   "outputs": [
    {
     "data": {
      "text/html": [
       "<div>\n",
       "<style scoped>\n",
       "    .dataframe tbody tr th:only-of-type {\n",
       "        vertical-align: middle;\n",
       "    }\n",
       "\n",
       "    .dataframe tbody tr th {\n",
       "        vertical-align: top;\n",
       "    }\n",
       "\n",
       "    .dataframe thead th {\n",
       "        text-align: right;\n",
       "    }\n",
       "</style>\n",
       "<table border=\"1\" class=\"dataframe\">\n",
       "  <thead>\n",
       "    <tr style=\"text-align: right;\">\n",
       "      <th></th>\n",
       "      <th>rating</th>\n",
       "      <th>No. Of Rating</th>\n",
       "    </tr>\n",
       "    <tr>\n",
       "      <th>title</th>\n",
       "      <th></th>\n",
       "      <th></th>\n",
       "    </tr>\n",
       "  </thead>\n",
       "  <tbody>\n",
       "    <tr>\n",
       "      <th>Star Wars (1977)</th>\n",
       "      <td>4.359589</td>\n",
       "      <td>584</td>\n",
       "    </tr>\n",
       "    <tr>\n",
       "      <th>Contact (1997)</th>\n",
       "      <td>3.803536</td>\n",
       "      <td>509</td>\n",
       "    </tr>\n",
       "    <tr>\n",
       "      <th>Fargo (1996)</th>\n",
       "      <td>4.155512</td>\n",
       "      <td>508</td>\n",
       "    </tr>\n",
       "    <tr>\n",
       "      <th>Return of the Jedi (1983)</th>\n",
       "      <td>4.007890</td>\n",
       "      <td>507</td>\n",
       "    </tr>\n",
       "    <tr>\n",
       "      <th>Liar Liar (1997)</th>\n",
       "      <td>3.156701</td>\n",
       "      <td>485</td>\n",
       "    </tr>\n",
       "    <tr>\n",
       "      <th>English Patient, The (1996)</th>\n",
       "      <td>3.656965</td>\n",
       "      <td>481</td>\n",
       "    </tr>\n",
       "    <tr>\n",
       "      <th>Scream (1996)</th>\n",
       "      <td>3.441423</td>\n",
       "      <td>478</td>\n",
       "    </tr>\n",
       "    <tr>\n",
       "      <th>Toy Story (1995)</th>\n",
       "      <td>3.878319</td>\n",
       "      <td>452</td>\n",
       "    </tr>\n",
       "    <tr>\n",
       "      <th>Air Force One (1997)</th>\n",
       "      <td>3.631090</td>\n",
       "      <td>431</td>\n",
       "    </tr>\n",
       "    <tr>\n",
       "      <th>Independence Day (ID4) (1996)</th>\n",
       "      <td>3.438228</td>\n",
       "      <td>429</td>\n",
       "    </tr>\n",
       "  </tbody>\n",
       "</table>\n",
       "</div>"
      ],
      "text/plain": [
       "                                 rating  No. Of Rating\n",
       "title                                                 \n",
       "Star Wars (1977)               4.359589            584\n",
       "Contact (1997)                 3.803536            509\n",
       "Fargo (1996)                   4.155512            508\n",
       "Return of the Jedi (1983)      4.007890            507\n",
       "Liar Liar (1997)               3.156701            485\n",
       "English Patient, The (1996)    3.656965            481\n",
       "Scream (1996)                  3.441423            478\n",
       "Toy Story (1995)               3.878319            452\n",
       "Air Force One (1997)           3.631090            431\n",
       "Independence Day (ID4) (1996)  3.438228            429"
      ]
     },
     "execution_count": 34,
     "metadata": {},
     "output_type": "execute_result"
    }
   ],
   "source": [
    "# Top 10 Movie with no. of user ratings\n",
    "\n",
    "ratings2.sort_values('No. Of Rating', ascending=False).head(10)"
   ]
  },
  {
   "cell_type": "code",
   "execution_count": null,
   "metadata": {},
   "outputs": [],
   "source": []
  },
  {
   "cell_type": "code",
   "execution_count": 36,
   "metadata": {},
   "outputs": [],
   "source": [
    "# Grabbing a User Rating for the Particular Movie\n",
    "\n",
    "# 1. Star Wars (1977)\n",
    "starWars_user_rating = movie_mat[\"Star Wars (1977)\"]\n",
    "\n",
    "# 2 Liar Liar (1997).\n",
    "LiarLiar_user_rating = movie_mat[\"Liar Liar (1997)\"]"
   ]
  },
  {
   "cell_type": "code",
   "execution_count": 37,
   "metadata": {},
   "outputs": [
    {
     "data": {
      "text/plain": [
       "user_id\n",
       "0      5.0\n",
       "1      5.0\n",
       "2      5.0\n",
       "3      NaN\n",
       "4      5.0\n",
       "      ... \n",
       "939    NaN\n",
       "940    4.0\n",
       "941    NaN\n",
       "942    5.0\n",
       "943    4.0\n",
       "Name: Star Wars (1977), Length: 944, dtype: float64"
      ]
     },
     "execution_count": 37,
     "metadata": {},
     "output_type": "execute_result"
    }
   ],
   "source": [
    "starWars_user_rating"
   ]
  },
  {
   "cell_type": "code",
   "execution_count": 38,
   "metadata": {},
   "outputs": [
    {
     "data": {
      "text/plain": [
       "user_id\n",
       "0      NaN\n",
       "1      NaN\n",
       "2      1.0\n",
       "3      2.0\n",
       "4      5.0\n",
       "      ... \n",
       "939    NaN\n",
       "940    4.0\n",
       "941    4.0\n",
       "942    NaN\n",
       "943    NaN\n",
       "Name: Liar Liar (1997), Length: 944, dtype: float64"
      ]
     },
     "execution_count": 38,
     "metadata": {},
     "output_type": "execute_result"
    }
   ],
   "source": [
    "LiarLiar_user_rating"
   ]
  },
  {
   "cell_type": "code",
   "execution_count": null,
   "metadata": {},
   "outputs": [],
   "source": []
  },
  {
   "cell_type": "code",
   "execution_count": 41,
   "metadata": {},
   "outputs": [
    {
     "name": "stderr",
     "output_type": "stream",
     "text": [
      "C:\\ProgramData\\Anaconda3\\lib\\site-packages\\numpy\\lib\\function_base.py:2551: RuntimeWarning: Degrees of freedom <= 0 for slice\n",
      "  c = cov(x, y, rowvar)\n",
      "C:\\ProgramData\\Anaconda3\\lib\\site-packages\\numpy\\lib\\function_base.py:2480: RuntimeWarning: divide by zero encountered in true_divide\n",
      "  c *= np.true_divide(1, fact)\n"
     ]
    }
   ],
   "source": [
    "# Exploring the Correlation Of Star Wars User Rating With The Other Movies\n",
    "\n",
    "similar_to_starwars = movie_mat.corrwith(starWars_user_rating)\n",
    "similar_to_liarliar = movie_mat.corrwith(LiarLiar_user_rating)"
   ]
  },
  {
   "cell_type": "code",
   "execution_count": null,
   "metadata": {},
   "outputs": [],
   "source": []
  },
  {
   "cell_type": "code",
   "execution_count": 45,
   "metadata": {},
   "outputs": [
    {
     "name": "stdout",
     "output_type": "stream",
     "text": [
      "                                             Correlation\n",
      "title                                                   \n",
      "'Til There Was You (1997)                       0.872872\n",
      "1-900 (1994)                                   -0.645497\n",
      "101 Dalmatians (1996)                           0.211132\n",
      "12 Angry Men (1957)                             0.184289\n",
      "187 (1997)                                      0.027398\n",
      "2 Days in the Valley (1996)                     0.066654\n",
      "20,000 Leagues Under the Sea (1954)             0.289768\n",
      "2001: A Space Odyssey (1968)                    0.230884\n",
      "3 Ninjas: High Noon At Mega Mountain (1998)          NaN\n",
      "39 Steps, The (1935)                            0.106453\n",
      "                                             Correlation\n",
      "title                                                   \n",
      "'Til There Was You (1997)                       0.118913\n",
      "1-900 (1994)                                         NaN\n",
      "101 Dalmatians (1996)                           0.469765\n",
      "12 Angry Men (1957)                             0.066272\n",
      "187 (1997)                                      0.175145\n",
      "2 Days in the Valley (1996)                     0.040739\n",
      "20,000 Leagues Under the Sea (1954)            -0.027932\n",
      "2001: A Space Odyssey (1968)                   -0.057864\n",
      "3 Ninjas: High Noon At Mega Mountain (1998)          NaN\n",
      "39 Steps, The (1935)                            0.400918\n"
     ]
    }
   ],
   "source": [
    "corr_starwars = pd.DataFrame(similar_to_starwars, columns=[\"Correlation\"])\n",
    "corr_liarliar = pd.DataFrame(similar_to_liarliar, columns=[\"Correlation\"])\n",
    "print(corr_starwars.head(10))\n",
    "print(corr_liarliar.head(10))"
   ]
  },
  {
   "cell_type": "code",
   "execution_count": 46,
   "metadata": {},
   "outputs": [
    {
     "data": {
      "text/html": [
       "<div>\n",
       "<style scoped>\n",
       "    .dataframe tbody tr th:only-of-type {\n",
       "        vertical-align: middle;\n",
       "    }\n",
       "\n",
       "    .dataframe tbody tr th {\n",
       "        vertical-align: top;\n",
       "    }\n",
       "\n",
       "    .dataframe thead th {\n",
       "        text-align: right;\n",
       "    }\n",
       "</style>\n",
       "<table border=\"1\" class=\"dataframe\">\n",
       "  <thead>\n",
       "    <tr style=\"text-align: right;\">\n",
       "      <th></th>\n",
       "      <th>Correlation</th>\n",
       "    </tr>\n",
       "    <tr>\n",
       "      <th>title</th>\n",
       "      <th></th>\n",
       "    </tr>\n",
       "  </thead>\n",
       "  <tbody>\n",
       "    <tr>\n",
       "      <th>Commandments (1997)</th>\n",
       "      <td>1.0</td>\n",
       "    </tr>\n",
       "    <tr>\n",
       "      <th>Cosi (1996)</th>\n",
       "      <td>1.0</td>\n",
       "    </tr>\n",
       "    <tr>\n",
       "      <th>No Escape (1994)</th>\n",
       "      <td>1.0</td>\n",
       "    </tr>\n",
       "    <tr>\n",
       "      <th>Stripes (1981)</th>\n",
       "      <td>1.0</td>\n",
       "    </tr>\n",
       "    <tr>\n",
       "      <th>Man of the Year (1995)</th>\n",
       "      <td>1.0</td>\n",
       "    </tr>\n",
       "    <tr>\n",
       "      <th>Hollow Reed (1996)</th>\n",
       "      <td>1.0</td>\n",
       "    </tr>\n",
       "    <tr>\n",
       "      <th>Beans of Egypt, Maine, The (1994)</th>\n",
       "      <td>1.0</td>\n",
       "    </tr>\n",
       "    <tr>\n",
       "      <th>Good Man in Africa, A (1994)</th>\n",
       "      <td>1.0</td>\n",
       "    </tr>\n",
       "    <tr>\n",
       "      <th>Old Lady Who Walked in the Sea, The (Vieille qui marchait dans la mer, La) (1991)</th>\n",
       "      <td>1.0</td>\n",
       "    </tr>\n",
       "    <tr>\n",
       "      <th>Outlaw, The (1943)</th>\n",
       "      <td>1.0</td>\n",
       "    </tr>\n",
       "  </tbody>\n",
       "</table>\n",
       "</div>"
      ],
      "text/plain": [
       "                                                    Correlation\n",
       "title                                                          \n",
       "Commandments (1997)                                         1.0\n",
       "Cosi (1996)                                                 1.0\n",
       "No Escape (1994)                                            1.0\n",
       "Stripes (1981)                                              1.0\n",
       "Man of the Year (1995)                                      1.0\n",
       "Hollow Reed (1996)                                          1.0\n",
       "Beans of Egypt, Maine, The (1994)                           1.0\n",
       "Good Man in Africa, A (1994)                                1.0\n",
       "Old Lady Who Walked in the Sea, The (Vieille qu...          1.0\n",
       "Outlaw, The (1943)                                          1.0"
      ]
     },
     "execution_count": 46,
     "metadata": {},
     "output_type": "execute_result"
    }
   ],
   "source": [
    "corr_starwars.sort_values(\"Correlation\", ascending=False).head(10)"
   ]
  },
  {
   "cell_type": "markdown",
   "metadata": {},
   "source": [
    "<font color = blue> <b> This type of Correlation can be seen because the less no of user rated these movies and likey the only one user has rated these movies who has also rated Star Wars"
   ]
  },
  {
   "cell_type": "code",
   "execution_count": 47,
   "metadata": {},
   "outputs": [],
   "source": [
    "# Joining The No. of Rating along with Each Movie correaltion\n",
    "\n",
    "corr_starwars = corr_starwars.join(ratings2[\"No. Of Rating\"])"
   ]
  },
  {
   "cell_type": "code",
   "execution_count": 57,
   "metadata": {},
   "outputs": [
    {
     "data": {
      "text/html": [
       "<div>\n",
       "<style scoped>\n",
       "    .dataframe tbody tr th:only-of-type {\n",
       "        vertical-align: middle;\n",
       "    }\n",
       "\n",
       "    .dataframe tbody tr th {\n",
       "        vertical-align: top;\n",
       "    }\n",
       "\n",
       "    .dataframe thead th {\n",
       "        text-align: right;\n",
       "    }\n",
       "</style>\n",
       "<table border=\"1\" class=\"dataframe\">\n",
       "  <thead>\n",
       "    <tr style=\"text-align: right;\">\n",
       "      <th></th>\n",
       "      <th>Correlation</th>\n",
       "      <th>No. Of Rating</th>\n",
       "    </tr>\n",
       "    <tr>\n",
       "      <th>title</th>\n",
       "      <th></th>\n",
       "      <th></th>\n",
       "    </tr>\n",
       "  </thead>\n",
       "  <tbody>\n",
       "    <tr>\n",
       "      <th>Star Wars (1977)</th>\n",
       "      <td>1.000000</td>\n",
       "      <td>584</td>\n",
       "    </tr>\n",
       "    <tr>\n",
       "      <th>Empire Strikes Back, The (1980)</th>\n",
       "      <td>0.748353</td>\n",
       "      <td>368</td>\n",
       "    </tr>\n",
       "    <tr>\n",
       "      <th>Return of the Jedi (1983)</th>\n",
       "      <td>0.672556</td>\n",
       "      <td>507</td>\n",
       "    </tr>\n",
       "    <tr>\n",
       "      <th>Raiders of the Lost Ark (1981)</th>\n",
       "      <td>0.536117</td>\n",
       "      <td>420</td>\n",
       "    </tr>\n",
       "    <tr>\n",
       "      <th>Austin Powers: International Man of Mystery (1997)</th>\n",
       "      <td>0.377433</td>\n",
       "      <td>130</td>\n",
       "    </tr>\n",
       "    <tr>\n",
       "      <th>Sting, The (1973)</th>\n",
       "      <td>0.367538</td>\n",
       "      <td>241</td>\n",
       "    </tr>\n",
       "    <tr>\n",
       "      <th>Indiana Jones and the Last Crusade (1989)</th>\n",
       "      <td>0.350107</td>\n",
       "      <td>331</td>\n",
       "    </tr>\n",
       "    <tr>\n",
       "      <th>Pinocchio (1940)</th>\n",
       "      <td>0.347868</td>\n",
       "      <td>101</td>\n",
       "    </tr>\n",
       "    <tr>\n",
       "      <th>Frighteners, The (1996)</th>\n",
       "      <td>0.332729</td>\n",
       "      <td>115</td>\n",
       "    </tr>\n",
       "    <tr>\n",
       "      <th>L.A. Confidential (1997)</th>\n",
       "      <td>0.319065</td>\n",
       "      <td>297</td>\n",
       "    </tr>\n",
       "  </tbody>\n",
       "</table>\n",
       "</div>"
      ],
      "text/plain": [
       "                                                    Correlation  No. Of Rating\n",
       "title                                                                         \n",
       "Star Wars (1977)                                       1.000000            584\n",
       "Empire Strikes Back, The (1980)                        0.748353            368\n",
       "Return of the Jedi (1983)                              0.672556            507\n",
       "Raiders of the Lost Ark (1981)                         0.536117            420\n",
       "Austin Powers: International Man of Mystery (1997)     0.377433            130\n",
       "Sting, The (1973)                                      0.367538            241\n",
       "Indiana Jones and the Last Crusade (1989)              0.350107            331\n",
       "Pinocchio (1940)                                       0.347868            101\n",
       "Frighteners, The (1996)                                0.332729            115\n",
       "L.A. Confidential (1997)                               0.319065            297"
      ]
     },
     "execution_count": 57,
     "metadata": {},
     "output_type": "execute_result"
    }
   ],
   "source": [
    "# Now We will See the Top 10 Correlations\n",
    "\n",
    "corr_starwars[corr_starwars[\"No. Of Rating\"]>100].sort_values(\"Correlation\", ascending=False).head(10)"
   ]
  },
  {
   "cell_type": "code",
   "execution_count": 56,
   "metadata": {},
   "outputs": [
    {
     "data": {
      "text/html": [
       "<div>\n",
       "<style scoped>\n",
       "    .dataframe tbody tr th:only-of-type {\n",
       "        vertical-align: middle;\n",
       "    }\n",
       "\n",
       "    .dataframe tbody tr th {\n",
       "        vertical-align: top;\n",
       "    }\n",
       "\n",
       "    .dataframe thead th {\n",
       "        text-align: right;\n",
       "    }\n",
       "</style>\n",
       "<table border=\"1\" class=\"dataframe\">\n",
       "  <thead>\n",
       "    <tr style=\"text-align: right;\">\n",
       "      <th></th>\n",
       "      <th>Correlation</th>\n",
       "      <th>No. Of Rating</th>\n",
       "    </tr>\n",
       "    <tr>\n",
       "      <th>title</th>\n",
       "      <th></th>\n",
       "      <th></th>\n",
       "    </tr>\n",
       "  </thead>\n",
       "  <tbody>\n",
       "    <tr>\n",
       "      <th>Liar Liar (1997)</th>\n",
       "      <td>1.000000</td>\n",
       "      <td>485</td>\n",
       "    </tr>\n",
       "    <tr>\n",
       "      <th>Batman Forever (1995)</th>\n",
       "      <td>0.516968</td>\n",
       "      <td>114</td>\n",
       "    </tr>\n",
       "    <tr>\n",
       "      <th>Mask, The (1994)</th>\n",
       "      <td>0.484650</td>\n",
       "      <td>129</td>\n",
       "    </tr>\n",
       "    <tr>\n",
       "      <th>Down Periscope (1996)</th>\n",
       "      <td>0.472681</td>\n",
       "      <td>101</td>\n",
       "    </tr>\n",
       "    <tr>\n",
       "      <th>Con Air (1997)</th>\n",
       "      <td>0.469828</td>\n",
       "      <td>137</td>\n",
       "    </tr>\n",
       "    <tr>\n",
       "      <th>Pretty Woman (1990)</th>\n",
       "      <td>0.469790</td>\n",
       "      <td>164</td>\n",
       "    </tr>\n",
       "    <tr>\n",
       "      <th>101 Dalmatians (1996)</th>\n",
       "      <td>0.469765</td>\n",
       "      <td>109</td>\n",
       "    </tr>\n",
       "    <tr>\n",
       "      <th>Michael (1996)</th>\n",
       "      <td>0.442022</td>\n",
       "      <td>119</td>\n",
       "    </tr>\n",
       "    <tr>\n",
       "      <th>Waterworld (1995)</th>\n",
       "      <td>0.438405</td>\n",
       "      <td>102</td>\n",
       "    </tr>\n",
       "    <tr>\n",
       "      <th>Indiana Jones and the Last Crusade (1989)</th>\n",
       "      <td>0.414427</td>\n",
       "      <td>331</td>\n",
       "    </tr>\n",
       "  </tbody>\n",
       "</table>\n",
       "</div>"
      ],
      "text/plain": [
       "                                           Correlation  No. Of Rating\n",
       "title                                                                \n",
       "Liar Liar (1997)                              1.000000            485\n",
       "Batman Forever (1995)                         0.516968            114\n",
       "Mask, The (1994)                              0.484650            129\n",
       "Down Periscope (1996)                         0.472681            101\n",
       "Con Air (1997)                                0.469828            137\n",
       "Pretty Woman (1990)                           0.469790            164\n",
       "101 Dalmatians (1996)                         0.469765            109\n",
       "Michael (1996)                                0.442022            119\n",
       "Waterworld (1995)                             0.438405            102\n",
       "Indiana Jones and the Last Crusade (1989)     0.414427            331"
      ]
     },
     "execution_count": 56,
     "metadata": {},
     "output_type": "execute_result"
    }
   ],
   "source": [
    "# Now We We Will Explore Liar Liar which Is Comedy Movie\n",
    "\n",
    "#corr_liarliar = corr_liarliar.join(ratings2[\"No. Of Rating\"])\n",
    "corr_liarliar[corr_liarliar[\"No. Of Rating\"]>100].sort_values(\"Correlation\", ascending=False).head(10)"
   ]
  },
  {
   "cell_type": "code",
   "execution_count": 53,
   "metadata": {},
   "outputs": [],
   "source": [
    "# Drooping the Null Valuse\n",
    "\n",
    "corr_liarliar.dropna(inplace=True)\n",
    "corr_starwars.dropna(inplace=True)"
   ]
  },
  {
   "cell_type": "code",
   "execution_count": null,
   "metadata": {},
   "outputs": [],
   "source": []
  },
  {
   "cell_type": "code",
   "execution_count": null,
   "metadata": {},
   "outputs": [],
   "source": []
  },
  {
   "cell_type": "markdown",
   "metadata": {},
   "source": [
    "## <font color = Red> Advance Recommander Systed"
   ]
  },
  {
   "cell_type": "markdown",
   "metadata": {},
   "source": [
    "### <font color = green> Memory Base Collabortive Filtering\n",
    "    \n",
    "Memory-Based Collaborative Filtering approaches can be divided into two main sections: user-item filtering and item-item filtering.\n",
    "\n",
    "A user-item filtering will take a particular user, find users that are similar to that user based on similarity of ratings, and recommend items that those similar users liked.\n",
    "\n",
    "In contrast, item-item filtering will take an item, find users who liked that item, and find other items that those users or similar users also liked. It takes items and outputs other items as recommendations.\n",
    "\n",
    "- Item-Item Collaborative Filtering: “Users who liked this item also liked …”\n",
    "- User-Item Collaborative Filtering: “Users who are similar to you also liked …”\n",
    "    \n",
    "n both cases, you create a user-item matrix which built from the entire dataset.\n",
    "\n",
    "Since we have split the data into testing and training we will need to create two [943 x 1682] matrices (all users by all movies).\n",
    "\n",
    "The training matrix contains 75% of the ratings and the testing matrix contains 25% of the ratings.\n",
    "    \n",
    "After you have built the user-item matrix you calculate the similarity and create a similarity matrix.\n",
    "\n",
    "- The similarity values between items in Item-Item Collaborative Filtering are measured by observing all the users who have rated both items.\n",
    "\n",
    "- For User-Item Collaborative Filtering the similarity values between users are measured by observing all the items that are rated by both users.\n",
    "\n",
    "A distance metric commonly used in recommender systems is *cosine similarity*, where the ratings are seen as vectors in ``n``-dimensional space and the similarity is calculated based on the angle between these vectors. \n",
    "Cosine similiarity for users *a* and *m* can be calculated using the formula below, where you take dot product of  the user vector *$u_k$* and the user vector *$u_a$* and divide it by multiplication of the Euclidean lengths of the vectors.\n",
    "<img class=\"aligncenter size-thumbnail img-responsive\" src=\"https://latex.codecogs.com/gif.latex?s_u^{cos}(u_k,u_a)=\\frac{u_k&space;\\cdot&space;u_a&space;}{&space;\\left&space;\\|&space;u_k&space;\\right&space;\\|&space;\\left&space;\\|&space;u_a&space;\\right&space;\\|&space;}&space;=\\frac{\\sum&space;x_{k,m}x_{a,m}}{\\sqrt{\\sum&space;x_{k,m}^2\\sum&space;x_{a,m}^2}}\"/>\n",
    "\n",
    "To calculate similarity between items *m* and *b* you use the formula:\n",
    "\n",
    "<img class=\"aligncenter size-thumbnail img-responsive\" src=\"https://latex.codecogs.com/gif.latex?s_u^{cos}(i_m,i_b)=\\frac{i_m&space;\\cdot&space;i_b&space;}{&space;\\left&space;\\|&space;i_m&space;\\right&space;\\|&space;\\left&space;\\|&space;i_b&space;\\right&space;\\|&space;}&space;=\\frac{\\sum&space;x_{a,m}x_{a,b}}{\\sqrt{\\sum&space;x_{a,m}^2\\sum&space;x_{a,b}^2}}\n",
    "\"/>\n"
   ]
  },
  {
   "cell_type": "code",
   "execution_count": 58,
   "metadata": {},
   "outputs": [
    {
     "data": {
      "text/html": [
       "<div>\n",
       "<style scoped>\n",
       "    .dataframe tbody tr th:only-of-type {\n",
       "        vertical-align: middle;\n",
       "    }\n",
       "\n",
       "    .dataframe tbody tr th {\n",
       "        vertical-align: top;\n",
       "    }\n",
       "\n",
       "    .dataframe thead th {\n",
       "        text-align: right;\n",
       "    }\n",
       "</style>\n",
       "<table border=\"1\" class=\"dataframe\">\n",
       "  <thead>\n",
       "    <tr style=\"text-align: right;\">\n",
       "      <th></th>\n",
       "      <th>user_id</th>\n",
       "      <th>item_id</th>\n",
       "      <th>rating</th>\n",
       "      <th>timestamp</th>\n",
       "      <th>title</th>\n",
       "    </tr>\n",
       "  </thead>\n",
       "  <tbody>\n",
       "    <tr>\n",
       "      <th>0</th>\n",
       "      <td>0</td>\n",
       "      <td>50</td>\n",
       "      <td>5</td>\n",
       "      <td>881250949</td>\n",
       "      <td>Star Wars (1977)</td>\n",
       "    </tr>\n",
       "    <tr>\n",
       "      <th>1</th>\n",
       "      <td>290</td>\n",
       "      <td>50</td>\n",
       "      <td>5</td>\n",
       "      <td>880473582</td>\n",
       "      <td>Star Wars (1977)</td>\n",
       "    </tr>\n",
       "    <tr>\n",
       "      <th>2</th>\n",
       "      <td>79</td>\n",
       "      <td>50</td>\n",
       "      <td>4</td>\n",
       "      <td>891271545</td>\n",
       "      <td>Star Wars (1977)</td>\n",
       "    </tr>\n",
       "    <tr>\n",
       "      <th>3</th>\n",
       "      <td>2</td>\n",
       "      <td>50</td>\n",
       "      <td>5</td>\n",
       "      <td>888552084</td>\n",
       "      <td>Star Wars (1977)</td>\n",
       "    </tr>\n",
       "    <tr>\n",
       "      <th>4</th>\n",
       "      <td>8</td>\n",
       "      <td>50</td>\n",
       "      <td>5</td>\n",
       "      <td>879362124</td>\n",
       "      <td>Star Wars (1977)</td>\n",
       "    </tr>\n",
       "  </tbody>\n",
       "</table>\n",
       "</div>"
      ],
      "text/plain": [
       "   user_id  item_id  rating  timestamp             title\n",
       "0        0       50       5  881250949  Star Wars (1977)\n",
       "1      290       50       5  880473582  Star Wars (1977)\n",
       "2       79       50       4  891271545  Star Wars (1977)\n",
       "3        2       50       5  888552084  Star Wars (1977)\n",
       "4        8       50       5  879362124  Star Wars (1977)"
      ]
     },
     "execution_count": 58,
     "metadata": {},
     "output_type": "execute_result"
    }
   ],
   "source": [
    "# Required Data Frame\n",
    "\n",
    "ratings.head()"
   ]
  },
  {
   "cell_type": "code",
   "execution_count": 59,
   "metadata": {},
   "outputs": [
    {
     "name": "stdout",
     "output_type": "stream",
     "text": [
      "Num. of Users: 944\n",
      "Num of Movies: 1682\n"
     ]
    }
   ],
   "source": [
    "# No. Of Unique Users And Movies\n",
    "\n",
    "n_users = df.user_id.nunique()\n",
    "n_items = df.item_id.nunique()\n",
    "\n",
    "print('Num. of Users: '+ str(n_users))\n",
    "print('Num of Movies: '+str(n_items))"
   ]
  },
  {
   "cell_type": "markdown",
   "metadata": {},
   "source": [
    "#### <font color = blue> Train Test Split"
   ]
  },
  {
   "cell_type": "code",
   "execution_count": 60,
   "metadata": {},
   "outputs": [],
   "source": [
    "from sklearn.model_selection import train_test_split"
   ]
  },
  {
   "cell_type": "code",
   "execution_count": 61,
   "metadata": {},
   "outputs": [],
   "source": [
    "train, test = train_test_split(ratings, test_size=0.25)"
   ]
  },
  {
   "cell_type": "code",
   "execution_count": 64,
   "metadata": {},
   "outputs": [
    {
     "data": {
      "text/plain": [
       "75002"
      ]
     },
     "execution_count": 64,
     "metadata": {},
     "output_type": "execute_result"
    }
   ],
   "source": [
    "len(train)"
   ]
  },
  {
   "cell_type": "code",
   "execution_count": 65,
   "metadata": {},
   "outputs": [
    {
     "data": {
      "text/plain": [
       "25001"
      ]
     },
     "execution_count": 65,
     "metadata": {},
     "output_type": "execute_result"
    }
   ],
   "source": [
    "len(test)"
   ]
  },
  {
   "cell_type": "code",
   "execution_count": 79,
   "metadata": {},
   "outputs": [
    {
     "data": {
      "text/plain": [
       "<bound method DataFrame.itertuples of        user_id  item_id  rating  timestamp                          title\n",
       "35799      346      520       5  874948105       Great Escape, The (1963)\n",
       "76643      187     1119       3  879465683  Some Kind of Wonderful (1987)\n",
       "40531      561      410       1  885810117                 Kingpin (1996)\n",
       "9779       417      196       5  879647090      Dead Poets Society (1989)\n",
       "32856      909      339       4  891919406                Mad City (1997)\n",
       "...        ...      ...     ...        ...                            ...\n",
       "84843      918      971       4  891987780            Mediterraneo (1991)\n",
       "61222      523      509       4  883700870            My Left Foot (1989)\n",
       "83713      222      441       2  881059920  Amityville Horror, The (1979)\n",
       "40         154       50       5  879138657               Star Wars (1977)\n",
       "22367      227       14       4  879035463             Postino, Il (1994)\n",
       "\n",
       "[75002 rows x 5 columns]>"
      ]
     },
     "execution_count": 79,
     "metadata": {},
     "output_type": "execute_result"
    }
   ],
   "source": [
    "train.itertuples"
   ]
  },
  {
   "cell_type": "code",
   "execution_count": 86,
   "metadata": {
    "scrolled": true
   },
   "outputs": [
    {
     "name": "stdout",
     "output_type": "stream",
     "text": [
      "75002\n"
     ]
    }
   ],
   "source": [
    "count = 0\n",
    "for line in train.itertuples():\n",
    "    #print(line[2])\n",
    "    count += 1\n",
    "print(count)"
   ]
  },
  {
   "cell_type": "code",
   "execution_count": 108,
   "metadata": {},
   "outputs": [],
   "source": [
    "#Create two user-item matrices, one for training and another for testing\n",
    "train_matrix = np.zeros((n_users, n_items))\n",
    "for line in train.itertuples():\n",
    "    train_matrix[line[1]-1, line[2]-1] = line[3]  \n",
    "\n",
    "test_matrix = np.zeros((n_users, n_items))\n",
    "for line in test.itertuples():\n",
    "    test_matrix[line[1]-1, line[2]-1] = line[3]"
   ]
  },
  {
   "cell_type": "code",
   "execution_count": 109,
   "metadata": {},
   "outputs": [
    {
     "data": {
      "text/plain": [
       "(944, 1682)"
      ]
     },
     "execution_count": 109,
     "metadata": {},
     "output_type": "execute_result"
    }
   ],
   "source": [
    "train_matrix.shape"
   ]
  },
  {
   "cell_type": "markdown",
   "metadata": {},
   "source": [
    "#### <font color = blue> Calculatin the Cosine  Similarity.\n",
    "<b> We can use the pairwise_distances function from sklearn to calculate the cosine similarity. Note, the output will range from 0 to 1 since the ratings are all positive."
   ]
  },
  {
   "cell_type": "code",
   "execution_count": 110,
   "metadata": {},
   "outputs": [],
   "source": [
    "from sklearn.metrics.pairwise import pairwise_distances\n"
   ]
  },
  {
   "cell_type": "code",
   "execution_count": 111,
   "metadata": {},
   "outputs": [],
   "source": [
    "# Caculating User-User Cosine Similarity\n",
    "user_similarity = pairwise_distances(train_matrix, metric='cosine')"
   ]
  },
  {
   "cell_type": "code",
   "execution_count": 112,
   "metadata": {},
   "outputs": [],
   "source": [
    "# Calculating Item-Item Cosine Similarity\n",
    "\n",
    "item_similarity = pairwise_distances(train_matrix.T, metric='cosine')"
   ]
  },
  {
   "cell_type": "code",
   "execution_count": 113,
   "metadata": {},
   "outputs": [
    {
     "data": {
      "text/plain": [
       "(944, 944)"
      ]
     },
     "execution_count": 113,
     "metadata": {},
     "output_type": "execute_result"
    }
   ],
   "source": [
    "user_similarity.shape"
   ]
  },
  {
   "cell_type": "markdown",
   "metadata": {},
   "source": [
    "#### <font color = blue> Making the prediction\n",
    "\n",
    "Next step is to make predictions. You have already created similarity matrices: `user_similarity` and `item_similarity` and therefore you can make a prediction by applying following formula for user-based CF:\n",
    "\n",
    "<img class=\"aligncenter size-thumbnail img-responsive\" src=\"https://latex.codecogs.com/gif.latex?\\hat{x}_{k,m}&space;=&space;\\bar{x}_{k}&space;&plus;&space;\\frac{\\sum\\limits_{u_a}&space;sim_u(u_k,&space;u_a)&space;(x_{a,m}&space;-&space;\\bar{x_{u_a}})}{\\sum\\limits_{u_a}|sim_u(u_k,&space;u_a)|}\"/>\n",
    "\n",
    "You can look at the similarity between users *k* and *a* as weights that are multiplied by the ratings of a similar user *a* (corrected for the average rating of that user). You will need to normalize it so that the ratings stay between 1 and 5 and, as a final step, sum the average ratings for the user that you are trying to predict. \n",
    "\n",
    "The idea here is that some users may tend always to give high or low ratings to all movies. The relative difference in the ratings that these users give is more important than the absolute values. To give an example: suppose, user *k* gives 4 stars to his favourite movies and 3 stars to all other good movies. Suppose now that another user *t* rates movies that he/she likes with 5 stars, and the movies he/she fell asleep over with 3 stars. These two users could have a very similar taste but treat the rating system differently. \n",
    "\n",
    "When making a prediction for item-based CF you don't need to correct for users average rating since query user itself is used to do predictions.\n",
    "\n",
    "<img class=\"aligncenter size-thumbnail img-responsive\" src=\"https://latex.codecogs.com/gif.latex?\\hat{x}_{k,m}&space;=&space;\\frac{\\sum\\limits_{i_b}&space;sim_i(i_m,&space;i_b)&space;(x_{k,b})&space;}{\\sum\\limits_{i_b}|sim_i(i_m,&space;i_b)|}\"/>"
   ]
  },
  {
   "cell_type": "code",
   "execution_count": 114,
   "metadata": {},
   "outputs": [],
   "source": [
    "def predict(ratings, similarity, type='user'):\n",
    "    if type == 'user':\n",
    "        mean_user_rating = ratings.mean(axis=1)\n",
    "        #You use np.newaxis so that mean_user_rating has same format as ratings\n",
    "        ratings_diff = (ratings - mean_user_rating[:, np.newaxis]) \n",
    "        pred = mean_user_rating[:, np.newaxis] + similarity.dot(ratings_diff) / np.array([np.abs(similarity).sum(axis=1)]).T\n",
    "    elif type == 'item':\n",
    "        pred = ratings.dot(similarity) / np.array([np.abs(similarity).sum(axis=1)])     \n",
    "    return pred"
   ]
  },
  {
   "cell_type": "code",
   "execution_count": 115,
   "metadata": {},
   "outputs": [],
   "source": [
    "item_prediction = predict(train_matrix, item_similarity, type='item')\n",
    "user_prediction = predict(train_matrix, user_similarity, type='user')"
   ]
  },
  {
   "cell_type": "markdown",
   "metadata": {},
   "source": [
    "#### <font color = blue> Evaluation\n",
    "\n",
    "There are many evaluation metrics but one of the most popular metric used to evaluate accuracy of predicted ratings is *Root Mean Squared Error (RMSE)*. \n",
    "<img src=\"https://latex.codecogs.com/gif.latex?RMSE&space;=\\sqrt{\\frac{1}{N}&space;\\sum&space;(x_i&space;-\\hat{x_i})^2}\" title=\"RMSE =\\sqrt{\\frac{1}{N} \\sum (x_i -\\hat{x_i})^2}\" />\n",
    "\n",
    "You can use the [mean_square_error](http://scikit-learn.org/stable/modules/generated/sklearn.metrics.mean_squared_error.html) (MSE) function from `sklearn`, where the RMSE is just the square root of MSE. To read more about different evaluation metrics you can take a look at [this article](http://research.microsoft.com/pubs/115396/EvaluationMetrics.TR.pdf). \n",
    "    \n",
    "Since you only want to consider predicted ratings that are in the test dataset, you filter out all other elements in the prediction matrix with `prediction[ground_truth.nonzero()]`. "
   ]
  },
  {
   "cell_type": "code",
   "execution_count": 116,
   "metadata": {},
   "outputs": [],
   "source": [
    "from sklearn.metrics import mean_squared_error\n",
    "from math import sqrt\n",
    "def rmse(prediction, ground_truth):\n",
    "    prediction = prediction[ground_truth.nonzero()].flatten() \n",
    "    ground_truth = ground_truth[ground_truth.nonzero()].flatten()\n",
    "    return sqrt(mean_squared_error(prediction, ground_truth))"
   ]
  },
  {
   "cell_type": "code",
   "execution_count": 118,
   "metadata": {},
   "outputs": [
    {
     "name": "stdout",
     "output_type": "stream",
     "text": [
      "User-based CF RMSE: 3.135692745776174\n",
      "Item-based CF RMSE: 3.4622320718078736\n"
     ]
    }
   ],
   "source": [
    "print('User-based CF RMSE: ' + str(rmse(user_prediction, test_matrix)))\n",
    "print('Item-based CF RMSE: ' + str(rmse(item_prediction, test_matrix)))"
   ]
  },
  {
   "cell_type": "markdown",
   "metadata": {},
   "source": [
    "<font color = blue> <b> Memory-based algorithms are easy to implement and produce reasonable prediction quality. \n",
    "The drawback of memory-based CF is that it doesn't scale to real-world scenarios and doesn't address the well-known cold-start problem, that is when new user or new item enters the system. Model-based CF methods are scalable and can deal with higher sparsity level than memory-based models, but also suffer when new users or items that don't have any ratings enter the system. "
   ]
  },
  {
   "cell_type": "code",
   "execution_count": null,
   "metadata": {},
   "outputs": [],
   "source": []
  },
  {
   "cell_type": "markdown",
   "metadata": {},
   "source": [
    "### <font color = green>  Model-based Collaborative Filtering\n",
    "\n",
    "Model-based Collaborative Filtering is based on **matrix factorization (MF)** which has received greater exposure, mainly as an unsupervised learning method for latent variable decomposition and dimensionality reduction. Matrix factorization is widely used for recommender systems where it can deal better with scalability and sparsity than Memory-based CF. The goal of MF is to learn the latent preferences of users and the latent attributes of items from known ratings (learn features that describe the characteristics of ratings) to then predict the unknown ratings through the dot product of the latent features of users and items. \n",
    "When you have a very sparse matrix, with a lot of dimensions, by doing matrix factorization you can restructure the  user-item matrix into low-rank structure, and you can represent the matrix by the multiplication of two low-rank matrices, where the rows contain the latent vector. You fit this matrix to approximate your original matrix, as closely as possible, by multiplying the low-rank matrices together, which fills in the entries missing in the original matrix.\n"
   ]
  },
  {
   "cell_type": "code",
   "execution_count": 119,
   "metadata": {},
   "outputs": [
    {
     "name": "stdout",
     "output_type": "stream",
     "text": [
      "The sparsity level of MovieLens100K is 93.7%\n"
     ]
    }
   ],
   "source": [
    "sparsity=round(1.0-len(df)/float(n_users*n_items),3)\n",
    "print('The sparsity level of MovieLens100K is ' +  str(sparsity*100) + '%')"
   ]
  },
  {
   "cell_type": "markdown",
   "metadata": {},
   "source": [
    "To give an example of the learned latent preferences of the users and items: let's say for the MovieLens dataset you have the following information: _(user id, age, location, gender, movie id, director, actor, language, year, rating)_. By applying matrix factorization the model learns that important user features are _age group (under 10, 10-18, 18-30, 30-90)_, _location_ and _gender_, and for movie features it learns that _decade_, _director_ and _actor_ are most important. Now if you look into the information you have stored, there is no such feature as the _decade_, but the model can learn on its own. The important aspect is that the CF model only uses data (user_id, movie_id, rating) to learn the latent features. If there is little data available model-based CF model will predict poorly, since it will be more difficult to learn the latent features. \n",
    "\n",
    "Models that use both ratings and content features are called **Hybrid Recommender Systems** where both Collaborative Filtering and Content-based Models are combined. Hybrid recommender systems usually show higher accuracy than Collaborative Filtering or Content-based Models on their own: they are capable to address the cold-start problem better since if you don't have any ratings for a user or an item you could use the metadata from the user or item to make a prediction. "
   ]
  },
  {
   "cell_type": "code",
   "execution_count": 121,
   "metadata": {},
   "outputs": [
    {
     "name": "stdout",
     "output_type": "stream",
     "text": [
      "User-based CF MSE: 2.719719804119107\n"
     ]
    }
   ],
   "source": [
    "import scipy.sparse as sp\n",
    "from scipy.sparse.linalg import svds\n",
    "\n",
    "#get SVD components from train matrix. Choose k.\n",
    "u, s, vt = svds(train_matrix, k = 20)\n",
    "s_diag_matrix=np.diag(s)\n",
    "X_pred = np.dot(np.dot(u, s_diag_matrix), vt)\n",
    "print('User-based CF MSE: ' + str(rmse(X_pred, test_matrix)))"
   ]
  },
  {
   "cell_type": "code",
   "execution_count": 123,
   "metadata": {},
   "outputs": [
    {
     "data": {
      "text/plain": [
       "array([[ 2.91902258e+00,  1.53415981e+00,  1.09762140e+00, ...,\n",
       "        -2.55146398e-03,  0.00000000e+00,  6.51777101e-02],\n",
       "       [ 1.45599928e+00, -1.28887223e-01,  1.28548682e-01, ...,\n",
       "         4.23505016e-03,  0.00000000e+00, -1.56436498e-02],\n",
       "       [ 8.58046046e-02, -1.48095052e-02,  1.48516374e-01, ...,\n",
       "         2.01990883e-02,  0.00000000e+00, -8.50657621e-04],\n",
       "       ...,\n",
       "       [ 6.39623632e-01,  1.57450229e-01, -3.14463938e-01, ...,\n",
       "         2.04017866e-02,  0.00000000e+00, -4.72606230e-02],\n",
       "       [ 5.58040056e-01,  1.38737745e+00,  7.91875105e-01, ...,\n",
       "        -6.58120445e-03,  0.00000000e+00,  4.66941850e-02],\n",
       "       [ 1.37808138e-01, -1.89860451e-03, -1.16123097e-03, ...,\n",
       "         3.38642394e-04,  0.00000000e+00, -2.72068985e-04]])"
      ]
     },
     "execution_count": 123,
     "metadata": {},
     "output_type": "execute_result"
    }
   ],
   "source": [
    "X_pred"
   ]
  },
  {
   "cell_type": "code",
   "execution_count": null,
   "metadata": {},
   "outputs": [],
   "source": []
  },
  {
   "cell_type": "code",
   "execution_count": null,
   "metadata": {},
   "outputs": [],
   "source": []
  },
  {
   "cell_type": "code",
   "execution_count": null,
   "metadata": {},
   "outputs": [],
   "source": []
  },
  {
   "cell_type": "code",
   "execution_count": null,
   "metadata": {},
   "outputs": [],
   "source": []
  },
  {
   "cell_type": "code",
   "execution_count": null,
   "metadata": {},
   "outputs": [],
   "source": []
  },
  {
   "cell_type": "code",
   "execution_count": null,
   "metadata": {},
   "outputs": [],
   "source": []
  },
  {
   "cell_type": "code",
   "execution_count": null,
   "metadata": {},
   "outputs": [],
   "source": []
  }
 ],
 "metadata": {
  "kernelspec": {
   "display_name": "Python 3",
   "language": "python",
   "name": "python3"
  },
  "language_info": {
   "codemirror_mode": {
    "name": "ipython",
    "version": 3
   },
   "file_extension": ".py",
   "mimetype": "text/x-python",
   "name": "python",
   "nbconvert_exporter": "python",
   "pygments_lexer": "ipython3",
   "version": "3.7.6"
  }
 },
 "nbformat": 4,
 "nbformat_minor": 4
}
